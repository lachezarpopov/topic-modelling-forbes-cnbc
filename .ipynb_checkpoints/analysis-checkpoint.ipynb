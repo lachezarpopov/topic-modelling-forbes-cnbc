{
 "cells": [
  {
   "cell_type": "markdown",
   "id": "2c063b02",
   "metadata": {},
   "source": [
    "# Topic analysis of tweets referencing Forbes and CNBC"
   ]
  },
  {
   "cell_type": "markdown",
   "id": "b3283644",
   "metadata": {},
   "source": [
    "## Contents: \n",
    "\n",
    "1. [Explanation of preprocessing steps + parameters ](#first-section)\n",
    "2. [Motivation of media outlets](#second-section)\n",
    "3. [Code](#third-section)\n",
    "4. [Interpretation and discussion](#fourth-section)"
   ]
  },
  {
   "cell_type": "code",
   "execution_count": 1,
   "id": "47c84bf8",
   "metadata": {},
   "outputs": [],
   "source": [
    "import numpy as np\n",
    "import pandas as pd\n",
    "from tqdm.auto import tqdm\n",
    "import spacy\n",
    "from gensim.corpora import Dictionary\n",
    "from gensim.models.wrappers import LdaMallet\n",
    "import pyLDAvis\n",
    "import pyLDAvis.gensim_models as gensimvis\n",
    "import gensim\n",
    "import re"
   ]
  },
  {
   "cell_type": "code",
   "execution_count": 2,
   "id": "4573b417",
   "metadata": {},
   "outputs": [],
   "source": [
    "nlp = spacy.load(\"en_core_web_sm\")"
   ]
  },
  {
   "cell_type": "markdown",
   "id": "c24e2f9a",
   "metadata": {},
   "source": [
    "## 1. Explanation of preprocessing steps + parameters <a class=\"anchor\" id=\"first-section\"></a>"
   ]
  },
  {
   "cell_type": "markdown",
   "id": "8455f8cd",
   "metadata": {},
   "source": [
    "### 1.1 Processing\n",
    "\n",
    "I have first processed the tweets through Spacy's nlp pipe module. Processing the text through Spacy has many advantages as it is able to capture a wide variety of metadata associated with the words such as the part of speech, word lemma, etc.\n",
    "\n",
    "### 1.2 Tokenizing\n",
    "\n",
    "I have removed stop words and punctuation as these would not be very informative in distinguishing between topics.\n",
    "\n",
    "I have lemmatized the words as lemmatization reduces the size of the dictionary and is generally found to improve model performance in many applications. \n",
    "\n",
    "Although some argue for the improved coherence of only including nouns or adjectives in topic modelling, I have not restricted permittable words based on their POS tag in my analysis. My reason for this is the appearance of highly informative words from various POS categories among the topics. Examples include the adjectives {bipartisan, supreme, black, public} and verbs {shoot, kill, vote}.\n",
    "\n",
    "### 1.4 Creating dictionary\n",
    "\n",
    "I have filtered out extremely uncommon words that appear in less than 5 tweets and extremely common words that appear in more than 85% of documents.\n",
    "\n",
    "### 1.5 Selecting number of topics\n",
    "\n",
    "While there are certain data-driven metrics that allow for direct comparison of different topic models (such as coherence), I have not utilized these in my analysis. My criterion for choosing the number of topics was human interpretability. Human interpretability of the topics is crucial for examining the qualitative differences between discussions, which is why I have based my decisions on this criterion despite the subjective bias that may be present. I found that increasing the number of topics from 15 **(3.5)** to 20 **(3.5)** resulted in less distinct topics and a higher number of uninterpretable topics, which is why I have used the model with 15 topics for my analysis."
   ]
  },
  {
   "cell_type": "markdown",
   "id": "7c438a57",
   "metadata": {},
   "source": [
    "## 2. Motivation of media outlets <a class=\"anchor\" id=\"second-section\"></a>"
   ]
  },
  {
   "cell_type": "markdown",
   "id": "41e38c85",
   "metadata": {},
   "source": [
    "Forbes and CNBC are both news outlets focusing on business, financial markets and the economy. Because both networks cover the same themes and target similar audiences on the surface, it would be interesting to see whether the tweets which reference them have a large overlap in topics or whether there is some distinction to be had."
   ]
  },
  {
   "cell_type": "markdown",
   "id": "ff30b53f",
   "metadata": {},
   "source": [
    "## 3. Code <a class=\"anchor\" id=\"third-section\"></a>"
   ]
  },
  {
   "cell_type": "markdown",
   "id": "47171f1b",
   "metadata": {},
   "source": [
    "### 3.1 Data Exploration"
   ]
  },
  {
   "cell_type": "markdown",
   "id": "475aaa91",
   "metadata": {},
   "source": [
    "Loading the data and examining the first 5 records of the dataframe"
   ]
  },
  {
   "cell_type": "code",
   "execution_count": 3,
   "id": "d2894a44",
   "metadata": {
    "scrolled": false
   },
   "outputs": [
    {
     "data": {
      "text/html": [
       "<div>\n",
       "<style scoped>\n",
       "    .dataframe tbody tr th:only-of-type {\n",
       "        vertical-align: middle;\n",
       "    }\n",
       "\n",
       "    .dataframe tbody tr th {\n",
       "        vertical-align: top;\n",
       "    }\n",
       "\n",
       "    .dataframe thead th {\n",
       "        text-align: right;\n",
       "    }\n",
       "</style>\n",
       "<table border=\"1\" class=\"dataframe\">\n",
       "  <thead>\n",
       "    <tr style=\"text-align: right;\">\n",
       "      <th></th>\n",
       "      <th>tweet_id</th>\n",
       "      <th>date</th>\n",
       "      <th>user</th>\n",
       "      <th>party</th>\n",
       "      <th>state</th>\n",
       "      <th>chamber</th>\n",
       "      <th>tweet</th>\n",
       "      <th>news_mention</th>\n",
       "      <th>url_reference</th>\n",
       "      <th>netloc</th>\n",
       "      <th>title</th>\n",
       "      <th>description</th>\n",
       "      <th>label</th>\n",
       "    </tr>\n",
       "  </thead>\n",
       "  <tbody>\n",
       "    <tr>\n",
       "      <th>0</th>\n",
       "      <td>1325914751495499776</td>\n",
       "      <td>2020-11-09 21:34:45</td>\n",
       "      <td>SenShelby</td>\n",
       "      <td>R</td>\n",
       "      <td>Alabama</td>\n",
       "      <td>Senator</td>\n",
       "      <td>ICYMI – @BusinessInsider declared #Huntsville ...</td>\n",
       "      <td>businessinsider</td>\n",
       "      <td>https://www.businessinsider.com/personal-finan...</td>\n",
       "      <td>www.businessinsider.com</td>\n",
       "      <td>The 10 best US cities to move to if you want t...</td>\n",
       "      <td>The best US cities to move to if you want to s...</td>\n",
       "      <td></td>\n",
       "    </tr>\n",
       "    <tr>\n",
       "      <th>1</th>\n",
       "      <td>1294021087118987264</td>\n",
       "      <td>2020-08-13 21:20:43</td>\n",
       "      <td>SenShelby</td>\n",
       "      <td>R</td>\n",
       "      <td>Alabama</td>\n",
       "      <td>Senator</td>\n",
       "      <td>Great news! Today @mazda_toyota announced an a...</td>\n",
       "      <td></td>\n",
       "      <td>https://pressroom.toyota.com/mazda-and-toyota-...</td>\n",
       "      <td>pressroom.toyota.com</td>\n",
       "      <td>Mazda and Toyota Further Commitment to U.S. Ma...</td>\n",
       "      <td>HUNTSVILLE, Ala., (Aug. 13, 2020) – Today, Maz...</td>\n",
       "      <td></td>\n",
       "    </tr>\n",
       "    <tr>\n",
       "      <th>2</th>\n",
       "      <td>1323340848130609156</td>\n",
       "      <td>2020-11-02 19:06:59</td>\n",
       "      <td>DougJones</td>\n",
       "      <td>D</td>\n",
       "      <td>Alabama</td>\n",
       "      <td>Senator</td>\n",
       "      <td>He’s already quitting on the folks of Alabama ...</td>\n",
       "      <td></td>\n",
       "      <td>https://apnews.com/article/c73f0dfe8008ebaf85e...</td>\n",
       "      <td>apnews.com</td>\n",
       "      <td>Tuberville, Jones fight for Senate seat in Ala...</td>\n",
       "      <td>GARDENDALE, Ala. (AP) — U.S. Sen. Doug Jones, ...</td>\n",
       "      <td></td>\n",
       "    </tr>\n",
       "    <tr>\n",
       "      <th>3</th>\n",
       "      <td>1323004075831709698</td>\n",
       "      <td>2020-11-01 20:48:46</td>\n",
       "      <td>DougJones</td>\n",
       "      <td>D</td>\n",
       "      <td>Alabama</td>\n",
       "      <td>Senator</td>\n",
       "      <td>I know you guys are getting bombarded with fun...</td>\n",
       "      <td></td>\n",
       "      <td>https://secure.actblue.com/donate/djfs-close?r...</td>\n",
       "      <td>secure.actblue.com</td>\n",
       "      <td>I just gave!</td>\n",
       "      <td>Join us! Contribute today.</td>\n",
       "      <td>negiotated</td>\n",
       "    </tr>\n",
       "    <tr>\n",
       "      <th>4</th>\n",
       "      <td>1322567531320717314</td>\n",
       "      <td>2020-10-31 15:54:06</td>\n",
       "      <td>DougJones</td>\n",
       "      <td>D</td>\n",
       "      <td>Alabama</td>\n",
       "      <td>Senator</td>\n",
       "      <td>Well looky here folks, his own players don’t t...</td>\n",
       "      <td></td>\n",
       "      <td>https://slate.com/culture/2020/10/tommy-tuberv...</td>\n",
       "      <td>slate.com</td>\n",
       "      <td>What Tommy Tuberville’s Former Auburn Players ...</td>\n",
       "      <td>\"All I could think is, why?\"</td>\n",
       "      <td></td>\n",
       "    </tr>\n",
       "  </tbody>\n",
       "</table>\n",
       "</div>"
      ],
      "text/plain": [
       "              tweet_id                date       user party    state  chamber  \\\n",
       "0  1325914751495499776 2020-11-09 21:34:45  SenShelby     R  Alabama  Senator   \n",
       "1  1294021087118987264 2020-08-13 21:20:43  SenShelby     R  Alabama  Senator   \n",
       "2  1323340848130609156 2020-11-02 19:06:59  DougJones     D  Alabama  Senator   \n",
       "3  1323004075831709698 2020-11-01 20:48:46  DougJones     D  Alabama  Senator   \n",
       "4  1322567531320717314 2020-10-31 15:54:06  DougJones     D  Alabama  Senator   \n",
       "\n",
       "                                               tweet     news_mention  \\\n",
       "0  ICYMI – @BusinessInsider declared #Huntsville ...  businessinsider   \n",
       "1  Great news! Today @mazda_toyota announced an a...                    \n",
       "2  He’s already quitting on the folks of Alabama ...                    \n",
       "3  I know you guys are getting bombarded with fun...                    \n",
       "4  Well looky here folks, his own players don’t t...                    \n",
       "\n",
       "                                       url_reference                   netloc  \\\n",
       "0  https://www.businessinsider.com/personal-finan...  www.businessinsider.com   \n",
       "1  https://pressroom.toyota.com/mazda-and-toyota-...     pressroom.toyota.com   \n",
       "2  https://apnews.com/article/c73f0dfe8008ebaf85e...               apnews.com   \n",
       "3  https://secure.actblue.com/donate/djfs-close?r...       secure.actblue.com   \n",
       "4  https://slate.com/culture/2020/10/tommy-tuberv...                slate.com   \n",
       "\n",
       "                                               title  \\\n",
       "0  The 10 best US cities to move to if you want t...   \n",
       "1  Mazda and Toyota Further Commitment to U.S. Ma...   \n",
       "2  Tuberville, Jones fight for Senate seat in Ala...   \n",
       "3                                       I just gave!   \n",
       "4  What Tommy Tuberville’s Former Auburn Players ...   \n",
       "\n",
       "                                         description       label  \n",
       "0  The best US cities to move to if you want to s...              \n",
       "1  HUNTSVILLE, Ala., (Aug. 13, 2020) – Today, Maz...              \n",
       "2  GARDENDALE, Ala. (AP) — U.S. Sen. Doug Jones, ...              \n",
       "3                         Join us! Contribute today.  negiotated  \n",
       "4                       \"All I could think is, why?\"              "
      ]
     },
     "execution_count": 3,
     "metadata": {},
     "output_type": "execute_result"
    }
   ],
   "source": [
    "framing = pd.read_pickle('data/framing.p')\n",
    "framing.head()"
   ]
  },
  {
   "cell_type": "markdown",
   "id": "8ef28e8a",
   "metadata": {},
   "source": [
    "Viewing the shape of the dataframe"
   ]
  },
  {
   "cell_type": "code",
   "execution_count": 8,
   "id": "8d7e97c1",
   "metadata": {
    "scrolled": true
   },
   "outputs": [
    {
     "data": {
      "text/plain": [
       "(23448, 13)"
      ]
     },
     "execution_count": 8,
     "metadata": {},
     "output_type": "execute_result"
    }
   ],
   "source": [
    "framing.shape"
   ]
  },
  {
   "cell_type": "markdown",
   "id": "cd0a9687",
   "metadata": {},
   "source": [
    "Getting the dates of the earliest and latest tweets"
   ]
  },
  {
   "cell_type": "code",
   "execution_count": 23,
   "id": "31010763",
   "metadata": {
    "scrolled": false
   },
   "outputs": [
    {
     "data": {
      "text/plain": [
       "Timestamp('2020-08-13 00:00:00')"
      ]
     },
     "execution_count": 23,
     "metadata": {},
     "output_type": "execute_result"
    }
   ],
   "source": [
    "framing['date'].min()"
   ]
  },
  {
   "cell_type": "code",
   "execution_count": 24,
   "id": "8f6d20a0",
   "metadata": {},
   "outputs": [
    {
     "data": {
      "text/plain": [
       "Timestamp('2020-11-14 13:46:00')"
      ]
     },
     "execution_count": 24,
     "metadata": {},
     "output_type": "execute_result"
    }
   ],
   "source": [
    "framing['date'].max()"
   ]
  },
  {
   "cell_type": "markdown",
   "id": "97848318",
   "metadata": {},
   "source": [
    "We can see that the data consists of 23448 tweets by US representatives spanning over the time period 13 Aug 2020 to 14 Nov 2020 with values for 13 attributes. The dates of the tweets encompass the three month period directly preceding the 2020 US presidential elections. Moreover, all tweets took place in the context of the ongoing COVID19 pandemic. Thus, we may already have some expectations of the topics that may occur in these tweets."
   ]
  },
  {
   "cell_type": "markdown",
   "id": "89b978ff",
   "metadata": {},
   "source": [
    "Examining the 40 networks with the highest number of referencing tweets"
   ]
  },
  {
   "cell_type": "code",
   "execution_count": 26,
   "id": "161df2a7",
   "metadata": {},
   "outputs": [
    {
     "data": {
      "text/html": [
       "<div>\n",
       "<style scoped>\n",
       "    .dataframe tbody tr th:only-of-type {\n",
       "        vertical-align: middle;\n",
       "    }\n",
       "\n",
       "    .dataframe tbody tr th {\n",
       "        vertical-align: top;\n",
       "    }\n",
       "\n",
       "    .dataframe thead th {\n",
       "        text-align: right;\n",
       "    }\n",
       "</style>\n",
       "<table border=\"1\" class=\"dataframe\">\n",
       "  <thead>\n",
       "    <tr style=\"text-align: right;\">\n",
       "      <th></th>\n",
       "      <th>tweet_id</th>\n",
       "    </tr>\n",
       "    <tr>\n",
       "      <th>netloc</th>\n",
       "      <th></th>\n",
       "    </tr>\n",
       "  </thead>\n",
       "  <tbody>\n",
       "    <tr>\n",
       "      <th></th>\n",
       "      <td>1092</td>\n",
       "    </tr>\n",
       "    <tr>\n",
       "      <th>www.politico.com</th>\n",
       "      <td>623</td>\n",
       "    </tr>\n",
       "    <tr>\n",
       "      <th>www.cnn.com</th>\n",
       "      <td>602</td>\n",
       "    </tr>\n",
       "    <tr>\n",
       "      <th>thehill.com</th>\n",
       "      <td>550</td>\n",
       "    </tr>\n",
       "    <tr>\n",
       "      <th>www.foxnews.com</th>\n",
       "      <td>549</td>\n",
       "    </tr>\n",
       "    <tr>\n",
       "      <th>www.nbcnews.com</th>\n",
       "      <td>485</td>\n",
       "    </tr>\n",
       "    <tr>\n",
       "      <th>nyti.ms</th>\n",
       "      <td>422</td>\n",
       "    </tr>\n",
       "    <tr>\n",
       "      <th>www.cnbc.com</th>\n",
       "      <td>342</td>\n",
       "    </tr>\n",
       "    <tr>\n",
       "      <th>cnn.it</th>\n",
       "      <td>341</td>\n",
       "    </tr>\n",
       "    <tr>\n",
       "      <th>secure.actblue.com</th>\n",
       "      <td>292</td>\n",
       "    </tr>\n",
       "    <tr>\n",
       "      <th>apnews.com</th>\n",
       "      <td>266</td>\n",
       "    </tr>\n",
       "    <tr>\n",
       "      <th>trib.al</th>\n",
       "      <td>177</td>\n",
       "    </tr>\n",
       "    <tr>\n",
       "      <th>hill.cm</th>\n",
       "      <td>177</td>\n",
       "    </tr>\n",
       "    <tr>\n",
       "      <th>www.latimes.com</th>\n",
       "      <td>175</td>\n",
       "    </tr>\n",
       "    <tr>\n",
       "      <th>apne.ws</th>\n",
       "      <td>163</td>\n",
       "    </tr>\n",
       "    <tr>\n",
       "      <th>abcn.ws</th>\n",
       "      <td>141</td>\n",
       "    </tr>\n",
       "    <tr>\n",
       "      <th>www.vox.com</th>\n",
       "      <td>141</td>\n",
       "    </tr>\n",
       "    <tr>\n",
       "      <th>www.cbsnews.com</th>\n",
       "      <td>140</td>\n",
       "    </tr>\n",
       "    <tr>\n",
       "      <th>www.theatlantic.com</th>\n",
       "      <td>138</td>\n",
       "    </tr>\n",
       "    <tr>\n",
       "      <th>www.axios.com</th>\n",
       "      <td>136</td>\n",
       "    </tr>\n",
       "    <tr>\n",
       "      <th>nbcnews.to</th>\n",
       "      <td>133</td>\n",
       "    </tr>\n",
       "    <tr>\n",
       "      <th>www.foxbusiness.com</th>\n",
       "      <td>130</td>\n",
       "    </tr>\n",
       "    <tr>\n",
       "      <th>nypost.com</th>\n",
       "      <td>128</td>\n",
       "    </tr>\n",
       "    <tr>\n",
       "      <th>www.washingtonexaminer.com</th>\n",
       "      <td>128</td>\n",
       "    </tr>\n",
       "    <tr>\n",
       "      <th>www.reuters.com</th>\n",
       "      <td>123</td>\n",
       "    </tr>\n",
       "    <tr>\n",
       "      <th>buff.ly</th>\n",
       "      <td>118</td>\n",
       "    </tr>\n",
       "    <tr>\n",
       "      <th>www.dallasnews.com</th>\n",
       "      <td>112</td>\n",
       "    </tr>\n",
       "    <tr>\n",
       "      <th>abcnews.go.com</th>\n",
       "      <td>111</td>\n",
       "    </tr>\n",
       "    <tr>\n",
       "      <th>www.nationalreview.com</th>\n",
       "      <td>110</td>\n",
       "    </tr>\n",
       "    <tr>\n",
       "      <th>medium.com</th>\n",
       "      <td>109</td>\n",
       "    </tr>\n",
       "    <tr>\n",
       "      <th>www.theguardian.com</th>\n",
       "      <td>108</td>\n",
       "    </tr>\n",
       "    <tr>\n",
       "      <th>www.forbes.com</th>\n",
       "      <td>107</td>\n",
       "    </tr>\n",
       "    <tr>\n",
       "      <th>www.nj.com</th>\n",
       "      <td>106</td>\n",
       "    </tr>\n",
       "    <tr>\n",
       "      <th>www.breitbart.com</th>\n",
       "      <td>105</td>\n",
       "    </tr>\n",
       "    <tr>\n",
       "      <th>www.inquirer.com</th>\n",
       "      <td>104</td>\n",
       "    </tr>\n",
       "    <tr>\n",
       "      <th>fxn.ws</th>\n",
       "      <td>101</td>\n",
       "    </tr>\n",
       "    <tr>\n",
       "      <th>www.wsj.com</th>\n",
       "      <td>97</td>\n",
       "    </tr>\n",
       "    <tr>\n",
       "      <th>www.bostonglobe.com</th>\n",
       "      <td>96</td>\n",
       "    </tr>\n",
       "    <tr>\n",
       "      <th>thefederalist.com</th>\n",
       "      <td>93</td>\n",
       "    </tr>\n",
       "  </tbody>\n",
       "</table>\n",
       "</div>"
      ],
      "text/plain": [
       "                            tweet_id\n",
       "netloc                              \n",
       "                                1092\n",
       "www.politico.com                 623\n",
       "www.cnn.com                      602\n",
       "thehill.com                      550\n",
       "www.foxnews.com                  549\n",
       "www.nbcnews.com                  485\n",
       "nyti.ms                          422\n",
       "www.cnbc.com                     342\n",
       "cnn.it                           341\n",
       "secure.actblue.com               292\n",
       "apnews.com                       266\n",
       "trib.al                          177\n",
       "hill.cm                          177\n",
       "www.latimes.com                  175\n",
       "apne.ws                          163\n",
       "abcn.ws                          141\n",
       "www.vox.com                      141\n",
       "www.cbsnews.com                  140\n",
       "www.theatlantic.com              138\n",
       "www.axios.com                    136\n",
       "nbcnews.to                       133\n",
       "www.foxbusiness.com              130\n",
       "nypost.com                       128\n",
       "www.washingtonexaminer.com       128\n",
       "www.reuters.com                  123\n",
       "buff.ly                          118\n",
       "www.dallasnews.com               112\n",
       "abcnews.go.com                   111\n",
       "www.nationalreview.com           110\n",
       "medium.com                       109\n",
       "www.theguardian.com              108\n",
       "www.forbes.com                   107\n",
       "www.nj.com                       106\n",
       "www.breitbart.com                105\n",
       "www.inquirer.com                 104\n",
       "fxn.ws                           101\n",
       "www.wsj.com                       97\n",
       "www.bostonglobe.com               96\n",
       "thefederalist.com                 93"
      ]
     },
     "execution_count": 26,
     "metadata": {},
     "output_type": "execute_result"
    }
   ],
   "source": [
    "framing.groupby('netloc').agg({'tweet_id': 'count'}).sort_values('tweet_id', ascending=False)[1:40]"
   ]
  },
  {
   "cell_type": "markdown",
   "id": "544eda0a",
   "metadata": {},
   "source": [
    "### 3.2 Data Preparation / Preprocessing"
   ]
  },
  {
   "cell_type": "markdown",
   "id": "2f711617",
   "metadata": {},
   "source": [
    "Processing the tweets through Spacy's nlp.pipe module."
   ]
  },
  {
   "cell_type": "code",
   "execution_count": 12,
   "id": "ca12cb7d",
   "metadata": {},
   "outputs": [
    {
     "data": {
      "application/vnd.jupyter.widget-view+json": {
       "model_id": "d342c4fd491d4249ac2e29c043d29f04",
       "version_major": 2,
       "version_minor": 0
      },
      "text/plain": [
       "0it [00:00, ?it/s]"
      ]
     },
     "metadata": {},
     "output_type": "display_data"
    }
   ],
   "source": [
    "processed_texts = [text for text in tqdm(nlp.pipe(framing.description, \n",
    "                                              disable=[\"ner\",\n",
    "                                                       \"parser\"]))]"
   ]
  },
  {
   "cell_type": "markdown",
   "id": "146a0f2d",
   "metadata": {},
   "source": [
    "Tokenizing the processed texts"
   ]
  },
  {
   "cell_type": "code",
   "execution_count": 36,
   "id": "e50b7265",
   "metadata": {},
   "outputs": [],
   "source": [
    "# tokenizing + removing stop-words and punctuation + lemmatization\n",
    "tokenized_texts = [[word.lemma_.lower() for word in processed_text if not word.is_stop and not word.is_punct] \n",
    "                   for processed_text in processed_texts]\n",
    "\n",
    "# replacing non-word characters with an empty string\n",
    "tokenized_texts = [[re.sub(r'\\W+', '', word) for word in text] for text in tokenized_texts] "
   ]
  },
  {
   "cell_type": "markdown",
   "id": "08dee18a",
   "metadata": {},
   "source": [
    "Creating a dictionary"
   ]
  },
  {
   "cell_type": "code",
   "execution_count": 79,
   "id": "683f96a7",
   "metadata": {},
   "outputs": [],
   "source": [
    "dictionary = Dictionary(tokenized_texts) \n",
    "dictionary.filter_extremes(no_below=5, # removing extremely rare words appearing in less than 5 documents\n",
    "                           no_above=0.85) #  removing extremely common words appearing in more than 85% of documents\n",
    "\n",
    "corpus = [dictionary.doc2bow(text) for text in tokenized_texts] # creating corpus"
   ]
  },
  {
   "cell_type": "markdown",
   "id": "7310c6c3",
   "metadata": {},
   "source": [
    "### 3.3 Learning the topic model"
   ]
  },
  {
   "cell_type": "markdown",
   "id": "9cfb4e07",
   "metadata": {},
   "source": [
    "#### 3.3.1 Model 1 (15 topics)"
   ]
  },
  {
   "cell_type": "markdown",
   "id": "2d9a98d4",
   "metadata": {},
   "source": [
    "Learning the topic model with 15 topics"
   ]
  },
  {
   "cell_type": "code",
   "execution_count": 235,
   "id": "347296ec",
   "metadata": {},
   "outputs": [],
   "source": [
    "lda15 = LdaMallet(r'C:/mallet/bin/mallet.bat',\n",
    "                corpus=corpus,\n",
    "                id2word=dictionary,\n",
    "                num_topics=15,\n",
    "                optimize_interval=10,\n",
    "                iterations=1000)\n",
    "\n",
    "lda15.save(r'models/lda15.model')"
   ]
  },
  {
   "cell_type": "markdown",
   "id": "46ab738b",
   "metadata": {},
   "source": [
    "Creating a list of the top 10 words for each topic and outputting it to the screen"
   ]
  },
  {
   "cell_type": "code",
   "execution_count": 40,
   "id": "32370e22",
   "metadata": {},
   "outputs": [
    {
     "data": {
      "text/plain": [
       "['Topic 1: state national million department join federal today announce grant community',\n",
       " 'Topic 2: trump president administration official department united white report change china',\n",
       " 'Topic 3: year woman day american black life honor national world country',\n",
       " 'Topic 4: health covid19 care coronavirus vaccine test pandemic public find program',\n",
       " 'Topic 5: school student education child family survey teacher year jones america',\n",
       " 'Topic 6: coronavirus case covid19 pandemic state report number people million week',\n",
       " 'Topic 7: act bill support bipartisan legislation veteran congress year crisis provide',\n",
       " 'Topic 8: county news fire state city california wildfire local community home',\n",
       " 'Topic 9: election vote ballot voter state mail voting 2020 general official',\n",
       " 'Topic 10: president trump biden joe donald election presidential campaign senate democratic',\n",
       " 'Topic 11: court supreme senate justice barrett amy coney president judge nominee',\n",
       " 'Topic 12: police officer city department charge death shoot violence protest kill',\n",
       " 'Topic 13: service postal mail general tax postmaster change dejoy trump president',\n",
       " 'Topic 14: house rep committee member bill senator congress congressman republican sen',\n",
       " 'Topic 15: coronavirus pandemic relief federal million business program covid19 house democrats']"
      ]
     },
     "execution_count": 40,
     "metadata": {},
     "output_type": "execute_result"
    }
   ],
   "source": [
    "topics15 = []\n",
    "\n",
    "for topic in range(15):\n",
    "    words = lda15.show_topic(topic, 10)\n",
    "    topic_n_words = ' '.join([word[0] for word in words])\n",
    "    topics15.append('Topic {}: {}'.format(str(topic+1), topic_n_words))\n",
    "topics15"
   ]
  },
  {
   "cell_type": "markdown",
   "id": "fd63b312",
   "metadata": {},
   "source": [
    "##### labels for 15 topics\n",
    "\n",
    "We can attempt to label these topics as:\n",
    "- 1: N/a\n",
    "- 2: trump-related\n",
    "- 3: holidays\n",
    "- 4: covid19-policy\n",
    "- 5: education\n",
    "- 6: covid19-status\n",
    "- 7: legislation\n",
    "- 8: news\n",
    "- 9: voting/ballots\n",
    "- 10: 2020 election\n",
    "- 11: supreme court\n",
    "- 12: polie shootings\n",
    "- 13: postal voting\n",
    "- 14: politics\n",
    "- 15: covid19-economy"
   ]
  },
  {
   "cell_type": "code",
   "execution_count": 175,
   "id": "a358209d",
   "metadata": {
    "scrolled": true
   },
   "outputs": [
    {
     "name": "stderr",
     "output_type": "stream",
     "text": [
      "C:\\Programs\\anaconda3\\lib\\site-packages\\pyLDAvis\\_prepare.py:246: FutureWarning: In a future version of pandas all arguments of DataFrame.drop except for the argument 'labels' will be keyword-only\n",
      "  default_term_info = default_term_info.sort_values(\n"
     ]
    },
    {
     "data": {
      "text/html": [
       "\n",
       "<link rel=\"stylesheet\" type=\"text/css\" href=\"https://cdn.jsdelivr.net/gh/bmabey/pyLDAvis@3.3.1/pyLDAvis/js/ldavis.v1.0.0.css\">\n",
       "\n",
       "\n",
       "<div id=\"ldavis_el1167629198695283201006591362\"></div>\n",
       "<script type=\"text/javascript\">\n",
       "\n",
       "var ldavis_el1167629198695283201006591362_data = {\"mdsDat\": {\"x\": [-0.18732101485930072, -0.08960424535123146, 0.04674515162411631, 0.13446144909520488, 0.10562744882642784, 0.1228701941434305, 0.10721594432584895, 0.10752891910263576, -0.10562471144975039, -0.11905157460497914, -0.023839191271296713, -0.23524399918035524, -0.149430867464554, 0.1932917504364379, 0.0923747466273653], \"y\": [0.07082789135455883, -0.04663283707522305, -0.14059729025732523, -0.03633967797267711, 0.11762261051625543, 0.12497431276875091, -0.059733263257418685, 0.03384713842582119, -0.011213697061519284, 0.023390029098947277, 0.21004789410785418, 0.005825967281529712, -0.09337114410930333, 0.0783633147742772, -0.2770112485945283], \"topics\": [1, 2, 3, 4, 5, 6, 7, 8, 9, 10, 11, 12, 13, 14, 15], \"cluster\": [1, 1, 1, 1, 1, 1, 1, 1, 1, 1, 1, 1, 1, 1, 1], \"Freq\": [9.559946119019807, 9.286763469582814, 8.648654567610468, 8.415712716769265, 7.929992129638046, 7.69462318373361, 7.002470971688651, 6.683868375741378, 6.117122321784774, 5.698741160895886, 5.530100201547777, 5.010219151100578, 4.768295560884858, 3.88730814351565, 3.766181926486436]}, \"tinfo\": {\"Term\": [\"court\", \"trump\", \"biden\", \"president\", \"election\", \"supreme\", \"health\", \"school\", \"coronavirus\", \"covid19\", \"postal\", \"mail\", \"service\", \"vote\", \"senate\", \"ballot\", \"police\", \"joe\", \"general\", \"pandemic\", \"voter\", \"barrett\", \"justice\", \"bill\", \"house\", \"act\", \"rep\", \"student\", \"amy\", \"coney\", \"hinge\", \"biden\", \"greatness\", \"invisible\", \"tide\", \"bombshell\", \"dni\", \"ratcliffe\", \"verge\", \"npr\", \"possession\", \"ukraine\", \"dealing\", \"biden\\u00e2s\", \"baturina\", \"elena\", \"elimination\", \"joke\", \"distort\", \"purportedly\", \"mainstream\", \"revelation\", \"wray\", \"interesting\", \"mccain\", \"1980\", \"dorsey\", \"brennan\", \"declassify\", \"distract\", \"censorship\", \"carroll\", \"guilty\", \"hillary\", \"1990s\", \"censor\", \"purdue\", \"putin\", \"hack\", \"carlson\", \"shocking\", \"comey\", \"hunter\", \"joe\", \"kamala\", \"vice\", \"ukrainian\", \"enemy\", \"counsel\", \"mueller\", \"laptop\", \"twitter\", \"harris\", \"esper\", \"campaign\", \"tweet\", \"gaetz\", \"presidential\", \"matt\", \"medium\", \"defeat\", \"email\", \"president\", \"facebook\", \"trump\", \"donald\", \"win\", \"race\", \"convention\", \"democratic\", \"elect\", \"debate\", \"fbi\", \"russia\", \"candidate\", \"critical\", \"election\", \"news\", \"senate\", \"party\", \"fight\", \"2020\", \"post\", \"intelligence\", \"director\", \"claim\", \"american\", \"house\", \"face\", \"official\", \"report\", \"national\", \"1100\", \"116th\", \"ways\", \"grijalva\", \"nadler\", \"biggs\", \"comer\", \"mn\", \"debates\", \"schweikert\", \"wedge\", \"fcc\", \"lesko\", \"rules\", \"altered\", \"accountable\", \"reevaluate\", \"boozman\", \"agri\", \"beck\", \"harrison\", \"hugely\", \"embark\", \"surprisingly\", \"535\", \"garamendi\", \"harder\", \"ca10\", \"underwhelming\", \"tammy\", \"castro\", \"gottheimer\", \"jayapal\", \"roger\", \"pramila\", \"loeffler\", \"pressley\", \"engel\", \"ayanna\", \"cortez\", \"garcia\", \"buck\", \"curtis\", \"hegar\", \"hawley\", \"ocasio\", \"booker\", \"abigail\", \"lahood\", \"bowman\", \"eliot\", \"merkley\", \"meeks\", \"spanberger\", \"consultant\", \"josh\", \"joaquin\", \"cornyn\", \"representatives\", \"speaker\", \"representative\", \"chair\", \"rep\", \"nancy\", \"caucus\", \"pelosi\", \"congresswoman\", \"calif\", \"affairs\", \"committee\", \"congressman\", \"foreign\", \"introduce\", \"house\", \"progressive\", \"senator\", \"letter\", \"legislation\", \"republican\", \"sen\", \"member\", \"congress\", \"discuss\", \"bill\", \"congressional\", \"lawmaker\", \"democratic\", \"join\", \"policy\", \"washington\", \"call\", \"act\", \"support\", \"democrats\", \"issue\", \"tourism\", \"package\", \"stimulus\", \"afloat\", \"rent\", \"sonny\", \"mortgage\", \"mnuchin\", \"dairy\", \"borrower\", \"renter\", \"furlough\", \"forgiveness\", \"nfib\", \"stopgap\", \"supplemental\", \"greatly\", \"locality\", \"diabetes\", \"blitz\", \"750\", \"pointing\", \"affording\", \"stall\", \"december\\u00e2\", \"ihme\", \"repay\", \"lyft\", \"stabilization\", \"repercussion\", \"cares\", \"rental\", \"guess\", \"egregious\", \"goalpost\", \"banking\", \"restart\", \"versus\", \"snap\", \"irs\", \"negotiation\", \"relief\", \"paycheck\", \"hardship\", \"aid\", \"trillion\", \"landlord\", \"loan\", \"fallout\", \"prospect\", \"murray\", \"ppp\", \"perdue\", \"tenant\", \"airline\", \"assistance\", \"payment\", \"money\", \"small\", \"business\", \"eligible\", \"economic\", \"pandemic\", \"worker\", \"benefit\", \"apply\", \"coronavirus\", \"program\", \"billion\", \"food\", \"pay\", \"million\", \"federal\", \"eviction\", \"funding\", \"democrats\", \"crisis\", \"covid19\", \"act\", \"bill\", \"house\", \"americans\", \"provide\", \"government\", \"face\", \"week\", \"trump\", \"year\", \"cattle\", \"exploration\", \"ows\", \"undertaking\", \"viability\", \"steel\", \"solutions\", \"broadband\", \"fishing\", \"salmon\", \"compact\", \"biology\", \"hud\", \"waters\", \"telecom\", \"renovation\", \"fish\", \"specie\", \"leverage\", \"desktop\", \"headquarter\", \"reactor\", \"collaborative\", \"canoe\", \"synthetic\", \"connectivity\", \"scenic\", \"rancher\", \"eda\", \"conserve\", \"boundary\", \"electric\", \"apprenticeship\", \"renewable\", \"certification\", \"impossible\", \"nuscale\", \"drinking\", \"quantum\", \"inl\", \"computing\", \"artificial\", \"dioxide\", \"mineral\", \"manufacturing\", \"modern\", \"technology\", \"contribute\", \"csis\", \"carbon\", \"nasa\", \"production\", \"wilderness\", \"conservation\", \"pollution\", \"transportation\", \"water\", \"missouri\", \"idaho\", \"energy\", \"plant\", \"land\", \"development\", \"grant\", \"airport\", \"workforce\", \"invest\", \"river\", \"project\", \"clean\", \"join\", \"event\", \"company\", \"today\", \"national\", \"rural\", \"announce\", \"million\", \"department\", \"research\", \"community\", \"state\", \"federal\", \"world\", \"system\", \"program\", \"agency\", \"business\", \"university\", \"public\", \"america\", \"area\", \"high\", \"lead\", \"local\", \"act\", \"include\", \"coach\", \"dynamic\", \"texan\", \"ii\", \"ncaa\", \"uss\", \"suffragist\", \"tirelessly\", \"command\", \"nineteenth\", \"ratification\", \"showcase\", \"albert\", \"bourla\", \"mural\", \"19th\", \"chiefs\", \"hometown\", \"gala\", \"sacrifice\", \"championship\", \"eventually\", \"squadron\", \"valor\", \"anniversary\", \"fame\", \"multimedia\", \"patriot\", \"christianity\", \"prudential\", \"medal\", \"suffrage\", \"100th\", \"birthday\", \"underestimate\", \"arlington\", \"smithsonian\", \"accomplish\", \"newsmaxtv\", \"ratify\", \"lewis\", \"courage\", \"cashe\", \"365\", \"mckenzie\", \"hero\", \"player\", \"hannity\", \"honor\", \"hail\", \"woman\", \"accommodate\", \"mexican\", \"celebrate\", \"gold\", \"women\", \"sgt\", \"black\", \"awareness\", \"life\", \"troop\", \"equal\", \"star\", \"freedom\", \"war\", \"history\", \"year\", \"day\", \"army\", \"amendment\", \"american\", \"world\", \"live\", \"award\", \"man\", \"great\", \"movement\", \"america\", \"national\", \"country\", \"united\", \"work\", \"states\", \"veteran\", \"time\", \"story\", \"people\", \"family\", \"serve\", \"community\", \"2020\", \"americans\", \"leader\", \"month\", \"sonoma\", \"cedar\", \"tigers\", \"landfall\", \"tropical\", \"zeta\", \"pop\", \"forecaster\", \"laura\", \"creek\", \"rainfall\", \"stroke\", \"tucson\", \"terrain\", \"blaze\", \"ep\", \"daring\", \"canyon\", \"butte\", \"fun\", \"drought\", \"smoke\", \"ordinance\", \"salon\", \"iheartradio\", \"boulder\", \"newport\", \"sanitizer\", \"walton\", \"1130\", \"pm\", \"wildfire\", \"en\", \"evacuation\", \"info\", \"dining\", \"derecho\", \"cleanup\", \"californians\", \"francisco\", \"cool\", \"riverside\", \"supertalk\", \"jazz\", \"coast\", \"hurricane\", \"sally\", \"burn\", \"weather\", \"red\", \"diego\", \"storm\", \"las\", \"firefighter\", \"san\", \"fire\", \"louisiana\", \"st\", \"oregon\", \"sport\", \"county\", \"california\", \"news\", \"wind\", \"afternoon\", \"valley\", \"disaster\", \"local\", \"area\", \"update\", \"episode\", \"city\", \"home\", \"late\", \"community\", \"free\", \"monday\", \"state\", \"thursday\", \"texas\", \"wednesday\", \"resident\", \"learn\", \"center\", \"event\", \"2020\", \"gov\", \"tuesday\", \"covid19\", \"week\", \"breast\", \"li\", \"meng\", \"yan\", \"normalcy\", \"flu\", \"influenza\", \"clinical\", \"saliva\", \"finder\", \"vaccination\", \"nasal\", \"swab\", \"bash\", \"remdesivir\", \"accuracy\", \"medicaid\", \"cloth\", \"epidemiologist\", \"chronic\", \"fauci\", \"physician\", \"efficacy\", \"microscopic\", \"baseline\", \"cdc\\u00e2s\", \"hhs\", \"skip\", \"convalescent\", \"plasma\", \"vaccine\", \"antibody\", \"alzheimer\", \"sars\", \"centers\", \"cov2\", \"fda\", \"idiot\", \"abolition\", \"experimental\", \"545\", \"symptom\", \"infectious\", \"patient\", \"separate\", \"clinic\", \"deport\", \"trial\", \"pilot\", \"disease\", \"health\", \"effective\", \"cdc\", \"scientific\", \"mask\", \"test\", \"care\", \"drug\", \"testing\", \"anthony\", \"2017\", \"covid19\", \"1000\", \"dr\", \"prevention\", \"parent\", \"medical\", \"kid\", \"public\", \"find\", \"coronavirus\", \"hospital\", \"pandemic\", \"program\", \"expert\", \"order\", \"virus\", \"people\", \"official\", \"community\", \"federal\", \"risk\", \"trump\", \"provide\", \"administration\", \"report\", \"nonfarm\", \"undercounted\", \"acute\", \"climb\", \"hospitalization\", \"inaccurate\", \"surpass\", \"height\", \"korea\", \"54\", \"sentinels\", \"summary\", \"638000\", \"69\", \"capita\", \"225000\", \"grossly\", \"40000\", \"102\", \"contagious\", \"flus\", \"strenuous\", \"woodward\", \"eclipse\", \"183000\", \"kushner\", \"weeks\", \"transmit\", \"seasonally\", \"hopkins\", \"consultant\\u00e2s\", \"840000\", \"boast\", \"steady\", \"dual\", \"dip\", \"134\", \"grassroots\", \"sister\", \"legendary\", \"rate\", \"airborne\", \"percent\", \"infection\", \"grip\", \"bob\", \"56\", \"unemployment\", \"case\", \"severity\", \"highly\", \"average\", \"number\", \"figure\", \"increase\", \"death\", \"virus\", \"toll\", \"labor\", \"surge\", \"record\", \"coronavirus\", \"rise\", \"journalist\", \"outbreak\", \"datum\", \"low\", \"pandemic\", \"covid19\", \"report\", \"accord\", \"march\", \"week\", \"people\", \"high\", \"million\", \"country\", \"month\", \"state\", \"fall\", \"organization\", \"release\", \"americans\", \"department\", \"year\", \"friday\", \"health\", \"united\", \"president\", \"huawei\", \"furor\", \"paris\", \"netanyahu\", \"bahrain\", \"sudan\", \"uae\", \"diplomatic\", \"arab\", \"normalize\", \"usbrokered\", \"broader\", \"relation\", \"emirates\", \"normalise\", \"force\\u00e2\", \"daca\", \"tent\", \"cuccinelli\", \"crossfire\", \"leasing\", \"monthslong\", \"kosovo\", \"serbia\", \"normalization\", \"organisation\", \"muslims\", \"embargo\", \"tacit\", \"withdrawal\", \"trading\", \"armenia\", \"karabakh\", \"mbs\", \"nagorno\", \"innocent\", \"hatch\", \"assertion\", \"\\u00e2a\", \"minister\", \"prime\", \"wolf\", \"refuge\", \"azerbaijan\", \"chad\", \"draft\", \"israel\", \"sudden\", \"arabia\", \"peace\", \"import\", \"agreement\", \"separation\", \"task\", \"beijing\", \"administration\", \"china\", \"climate\", \"guideline\", \"iran\", \"trump\", \"force\", \"united\", \"gas\", \"white\", \"official\", \"cnn\", \"president\", \"investigation\", \"department\", \"change\", \"report\", \"security\", \"homeland\", \"states\", \"deal\", \"secretary\", \"federal\", \"house\", \"policy\", \"agency\", \"donald\", \"state\", \"end\", \"announce\", \"accord\", \"coronavirus\", \"absentee\", \"barr\", \"spoof\", \"continuation\\u00e2\", \"\\u00e2there\", \"hrc\", \"puerto\", \"rico\", \"enumeration\", \"irregularity\", \"observer\", \"unfounded\", \"elections\", \"electionin\", \"noncitizen\", \"intrusion\", \"escobedo\", \"lizette\", \"naleo\", \"horn\", \"predictor\", \"claus\", \"jupiter\", \"intimidate\", \"pendley\", \"specious\", \"flaw\", \"harrisburg\", \"ricans\", \"odni\", \"scranton\", \"staters\", \"andstay\", \"voteinnhorg\", \"ballot\", \"lgbtq\", \"census\", \"register\", \"registration\", \"nonpartisan\", \"william\", \"motive\", \"voting\", \"statehood\", \"attorney\", \"voter\", \"politics\", \"pennsylvania\", \"count\", \"polling\", \"cast\", \"vote\", \"box\", \"election\", \"deadline\", \"mail\", \"person\", \"general\", \"nov\", \"poll\", \"early\", \"2020\", \"bureau\", \"state\", \"official\", \"information\", \"day\", \"issue\", \"county\", \"trump\", \"november\", \"presidential\", \"federal\", \"administration\", \"bowser\", \"muriel\", \"terrorism\", \"disband\", \"breonna\", \"endangerment\", \"louisville\", \"protester\", \"wanton\", \"ambush\", \"shooting\", \"looting\", \"militia\", \"jacob\", \"defunde\", \"alicia\", \"garza\", \"rittenhouse\", \"shout\", \"evers\", \"whitmer\", \"stable\", \"airlift\", \"confrontation\", \"demonstrator\", \"fatally\", \"slogan\", \"blake\", \"detective\", \"defund\", \"police\", \"plot\", \"jury\", \"starting\", \"anarchist\", \"kidnap\", \"compton\", \"prisoner\", \"belarus\", \"baptist\", \"qaeda\", \"bannon\", \"unconscious\", \"militant\", \"caputo\", \"arrest\", \"officer\", \"antifa\", \"suspect\", \"protest\", \"kenosha\", \"shoot\", \"patrol\", \"floyd\", \"taylor\", \"extremist\", \"terrorist\", \"engagement\", \"charge\", \"civic\", \"deputy\", \"violence\", \"enforcement\", \"agent\", \"angeles\", \"wing\", \"sheriff\", \"mayor\", \"man\", \"kill\", \"los\", \"city\", \"authority\", \"attack\", \"death\", \"wisconsin\", \"black\", \"law\", \"department\", \"group\", \"night\", \"people\", \"year\", \"state\", \"video\", \"county\", \"government\", \"official\", \"barrett\", \"packing\", \"procedural\", \"schakowsky\", \"bader\", \"ginsburg\", \"pancreas\", \"ruth\", \"disarmament\", \"coney\", \"bench\", \"constitutionality\", \"harrisx\", \"dianne\", \"feinstein\", \"doom\", \"ginsburg\\u00e2s\", \"stardom\", \"headwind\", \"uterus\", \"gorsuch\", \"scholarly\", \"cloture\", \"siena\", \"arrow\", \"quiver\", \"irreparable\", \"sonia\", \"sotomayor\", \"joni\", \"amy\", \"supreme\", \"mitch\", \"disparage\", \"instantaneously\", \"vacancy\", \"mcconnell\", \"court\", \"confirmation\", \"schumer\", \"parade\", \"kavanaugh\", \"atlantic\", \"wound\", \"nomination\", \"majority\", \"dissent\", \"justice\", \"chuck\", \"nominee\", \"multiple\", \"judiciary\", \"senate\", \"judge\", \"confirm\", \"argument\", \"repeatedly\", \"source\", \"leader\", \"military\", \"member\", \"president\", \"veteran\", \"trump\", \"vote\", \"democrats\", \"sen\", \"service\", \"republicans\", \"audit\", \"smuggling\", \"sabotage\", \"electronically\", \"hysterectomy\", \"postmaster\", \"logistics\", \"multimillion\", \"xpo\", \"actuary\", \"department\\u00e2s\", \"halkbank\", \"turkey\\u00e2s\", \"caribou\", \"explicitly\", \"unilaterally\", \"defer\", \"gynecology\", \"delivering\", \"fund\\u00e2\", \"replenishment\", \"slush\", \"\\u00e2political\", \"dejoy\", \"wooten\", \"reprimand\", \"motivated\", \"sorting\", \"postal\", \"machine\", \"delivery\", \"customs\", \"operational\", \"detention\", \"vast\", \"complaint\", \"louis\", \"inspector\", \"disconnect\", \"reconnect\", \"deferral\", \"usps\", \"neglect\", \"unknown\", \"service\", \"times\", \"obtain\", \"tax\", \"previously\", \"debt\", \"mail\", \"reveal\", \"battle\", \"general\", \"georgia\", \"delay\", \"trump\\u00e2s\", \"decade\", \"property\", \"change\", \"extend\", \"information\", \"hundred\", \"security\", \"write\", \"donald\", \"election\", \"trump\", \"president\", \"million\", \"struggle\", \"allowance\", \"fernandes\", \"adolescent\", \"pasoans\", \"byrne\", \"kindergarten\", \"horrific\", \"semester\", \"314\", \"dow\", \"exploitation\", \"scholarship\", \"zoo\", \"peoples\", \"bureaucrat\", \"betsy\", \"willfully\", \"trauma\", \"members\\u00e2\", \"paranoia\", \"exaggerate\", \"hybrid\", \"destine\", \"impulse\", \"mythology\", \"obsession\", \"newtown\", \"dame\", \"notre\", \"makeup\", \"teacher\", \"teaching\", \"cis\", \"invader\", \"32\", \"massac\", \"paso\", \"shadow\", \"1150am\", \"935fm\", \"wndb\", \"learning\", \"emotional\", \"plunge\", \"el\", \"school\", \"student\", \"jones\", \"academic\", \"survey\", \"quarter\", \"educator\", \"devos\", \"education\", \"schools\", \"economist\", \"growth\", \"estimate\", \"campus\", \"parent\", \"child\", \"college\", \"family\", \"reopen\", \"indigenous\", \"alabama\", \"museum\", \"america\", \"young\", \"district\", \"kid\", \"year\", \"national\", \"learn\", \"high\", \"home\", \"pandemic\", \"people\", \"hassan\", \"proactively\", \"unfathomable\", \"formula\", \"273\", \"rouda\", \"contracting\", \"1974\", \"2011nbspfederal\", \"2012nbspcongressional\", \"2013nbsp10\", \"2014nbsp10\", \"2015nbspcan\", \"2016nbsp10\", \"2017nbsp10\", \"2018nbsp8th\", \"2019nbsp9th\", \"2088\", \"2733\", \"2765\", \"301\", \"3332\", \"3576\", \"3995\", \"4497\", \"4549\", \"4687\", \"4907\", \"5776\", \"5980\", \"brainerrdquo\", \"ldquono\", \"tcja\", \"bills\", \"ntu\", \"rampd\", \"wartime\", \"savings\", \"nfip\", \"wy\", \"brainersquot\", \"expensing\", \"quotno\", \"repetitive\", \"thankfully\", \"838255\", \"jacky\", \"confidential\", \"cuts\", \"flexible\", \"taxpayers\", \"capito\", \"hr\", \"retrieve\", \"reauthorization\", \"pension\", \"8255\", \"unlock\", \"taxpayer\", \"247\", \"chat\", \"suicide\", \"connect\", \"sens\", \"bipartisan\", \"responder\", \"2022\", \"budget\", \"text\", \"material\", \"act\", \"support\", \"bill\", \"flood\", \"legislation\", \"veteran\", \"crisis\", \"reps\", \"click\", \"cost\", \"congress\", \"resource\", \"provide\", \"pass\", \"year\", \"agency\", \"care\", \"health\", \"work\", \"tax\", \"federal\", \"change\", \"covid19\", \"include\", \"time\", \"2020\"], \"Freq\": [1109.0, 3032.0, 989.0, 2949.0, 1570.0, 735.0, 1345.0, 730.0, 1791.0, 1495.0, 542.0, 720.0, 1086.0, 1113.0, 1083.0, 543.0, 493.0, 623.0, 628.0, 1458.0, 623.0, 393.0, 667.0, 875.0, 1711.0, 986.0, 823.0, 399.0, 343.0, 322.0, 8.521800741786821, 989.5941111399948, 72.43530630518799, 76.6962066760814, 72.43530630518799, 14.91315129812694, 5.326125463616764, 45.80467898710417, 5.326125463616764, 13.847926205403585, 9.587025834510175, 29.82630259625388, 31.956752781700583, 5.326125463616764, 5.326125463616764, 7.45657564906347, 7.45657564906347, 5.326125463616764, 9.587025834510175, 20.239276761743703, 12.782701112680233, 15.978376390850292, 21.304501854467055, 10.652250927233528, 10.652250927233528, 5.326125463616764, 25.565402225360465, 14.91315129812694, 14.91315129812694, 12.782701112680233, 39.41332843076405, 29.82630259625388, 28.761077503530526, 22.369726947190408, 22.369726947190408, 19.17405166902035, 18.108826576296998, 14.91315129812694, 14.91315129812694, 14.91315129812694, 13.847926205403585, 13.847926205403585, 168.30556465028974, 591.1999264614608, 79.89188195425145, 237.54519567730767, 44.739453894380816, 82.02233213969816, 47.93512917255087, 28.761077503530526, 38.3481033380407, 148.06628788854601, 128.89223621952567, 25.565402225360465, 347.263380227813, 63.913505563401166, 62.848280470677814, 352.5895056914298, 63.913505563401166, 180.02304067024662, 117.17476019956881, 109.71818455050534, 1465.7497275873334, 110.78340964322868, 1345.3792921095944, 453.7858895001483, 241.80609604820108, 171.5012399284598, 85.21800741786822, 260.9801477172214, 168.30556465028974, 106.52250927233528, 96.9354834378251, 113.97908492139874, 123.56611075590892, 136.34881186858914, 388.8071588440237, 221.56681928645736, 265.24104808811484, 136.34881186858914, 158.71853881577957, 216.2406938228406, 148.06628788854601, 136.34881186858914, 132.08791149769576, 132.08791149769576, 152.32718825943945, 171.5012399284598, 139.54448714675922, 144.87061261037599, 134.21836168314246, 133.15313659041908, 8.614093172713046, 27.995802811317404, 23.68875622496088, 6.460569879534785, 6.460569879534785, 8.614093172713046, 16.151424698836962, 9.690854819302178, 5.383808232945654, 6.460569879534785, 12.92113975906957, 8.614093172713046, 7.537331526123916, 7.537331526123916, 7.537331526123916, 36.60989598403045, 7.537331526123916, 11.84437811248044, 5.383808232945654, 7.537331526123916, 7.537331526123916, 5.383808232945654, 5.383808232945654, 8.614093172713046, 13.997901405658702, 7.537331526123916, 10.767616465891308, 5.383808232945654, 6.460569879534785, 30.149326104495664, 123.82758935775006, 91.52473996007612, 37.68665763061958, 36.60989598403045, 32.302849397673924, 32.302849397673924, 29.072564457906534, 29.072564457906534, 26.91904116472827, 24.76551787155001, 23.68875622496088, 23.68875622496088, 22.61199457837175, 22.61199457837175, 21.535232931782616, 20.458471285193486, 20.458471285193486, 19.381709638604356, 19.381709638604356, 18.304947992015226, 18.304947992015226, 16.151424698836962, 16.151424698836962, 16.151424698836962, 15.074663052247832, 116.29025783162614, 39.84018092379784, 55.99160562263481, 161.51424698836965, 211.04528273146963, 206.73823614511312, 127.05787429751744, 604.0632837365024, 181.97271827356312, 87.2176933737196, 202.43118955875659, 124.90435100433918, 61.375413855580454, 87.2176933737196, 366.0989598403045, 283.1883130529414, 183.04947992015224, 230.426992370074, 796.8036184759568, 85.06417008054134, 304.723545984724, 163.6677702815479, 243.34813212914358, 255.192510241624, 251.96222530185665, 327.3355405630958, 286.41859799270884, 156.13043875542397, 312.26087751084793, 187.35652650650877, 136.74872911681962, 187.35652650650877, 186.27976485991965, 183.04947992015224, 191.66357309286528, 162.59100863495877, 176.58891004061744, 152.90015381565658, 148.59310722930005, 139.979014056587, 15.853224812308413, 231.45708225970284, 181.7836445144698, 20.080751428923993, 61.299135940925865, 13.739461504000625, 20.080751428923993, 23.251396391385676, 13.739461504000625, 11.625698195692838, 30.649567970462932, 15.853224812308413, 13.739461504000625, 5.284408270769471, 7.3981715790772595, 9.511934887385049, 5.284408270769471, 7.3981715790772595, 5.284408270769471, 5.284408270769471, 10.568816541538942, 5.284408270769471, 5.284408270769471, 22.19451473723178, 22.19451473723178, 22.19451473723178, 7.3981715790772595, 10.568816541538942, 9.511934887385049, 9.511934887385049, 143.7359049649296, 19.023869774770098, 19.023869774770098, 12.682579849846732, 10.568816541538942, 9.511934887385049, 9.511934887385049, 8.455053233231155, 8.455053233231155, 41.218384512001876, 71.8679524824648, 388.93244872863306, 73.9817157907726, 31.706449624616827, 218.77450240985613, 115.20010030277447, 27.47892300800125, 81.37988736984985, 25.365159699693464, 50.73031939938693, 25.365159699693464, 25.365159699693464, 23.251396391385676, 33.82021293292462, 28.535804662155147, 149.0203132356991, 100.40375714461995, 173.32859128123866, 196.57998767262436, 331.8608394043228, 49.67343774523303, 230.40020060554895, 544.2940518892556, 213.49009413908664, 174.38547293539256, 78.20924240738817, 570.7160932431029, 321.2920228627839, 144.79278661908353, 164.8735380480075, 139.50837834831404, 368.85169729970914, 387.8755670744792, 68.69730752000312, 153.24783985231468, 235.68460887631844, 175.44235458954645, 319.1782595544761, 228.28643729724118, 212.43321248493274, 268.44794015508916, 182.84052616862368, 174.38547293539256, 163.8166563938536, 157.47536646893025, 170.15794631877696, 187.06805278523927, 153.24783985231468, 18.31819196895088, 7.542784928391541, 15.085569856783081, 12.93048844867121, 15.085569856783081, 9.697866336503408, 6.465244224335605, 62.49736083524418, 12.93048844867121, 7.542784928391541, 5.387703520279671, 42.024087458181434, 5.387703520279671, 36.63638393790176, 6.465244224335605, 7.542784928391541, 12.93048844867121, 11.852947744615276, 15.085569856783081, 10.775407040559342, 6.465244224335605, 15.085569856783081, 6.465244224335605, 18.31819196895088, 42.024087458181434, 14.008029152727145, 7.542784928391541, 9.697866336503408, 5.387703520279671, 5.387703520279671, 45.25670957034924, 34.4813025297899, 22.62835478517462, 18.31819196895088, 17.24065126489495, 17.24065126489495, 16.163110560839012, 15.085569856783081, 15.085569856783081, 14.008029152727145, 12.93048844867121, 12.93048844867121, 11.852947744615276, 10.775407040559342, 72.19522717174759, 45.25670957034924, 175.63913476111728, 122.83964026237649, 45.25670957034924, 36.63638393790176, 26.938517601398356, 42.024087458181434, 51.72195379468484, 40.94654675412551, 45.25670957034924, 70.04014576363573, 143.31291363943924, 56.03211661090858, 70.04014576363573, 172.40651264894947, 53.87703520279671, 137.9252101191596, 156.24340208811046, 200.42257095440377, 65.72998294741198, 53.87703520279671, 37.713924641957696, 71.11768646769167, 154.0883206799986, 66.80752365146792, 227.3610885558021, 148.70061715971892, 156.24340208811046, 211.1979779949631, 243.5241991166411, 80.81555280419508, 203.65519306657157, 235.9814141882496, 228.43862925985806, 100.21128547720188, 181.02683828139695, 276.9279609423751, 216.58568151524278, 128.22734378265616, 101.28882618125782, 153.01077997594265, 126.0722623745443, 133.61504730293584, 98.05620406909001, 123.91718096643243, 108.83161110964936, 100.21128547720188, 113.1417739258731, 112.06423322181716, 107.75407040559342, 118.52947744615278, 109.9091518137053, 17.34813404962053, 8.674067024810265, 7.589808646708981, 49.87588539265902, 10.84258378101283, 10.84258378101283, 16.263875671519244, 6.505550268607698, 46.62311025835517, 18.432392427721812, 7.589808646708981, 17.34813404962053, 22.769425940126943, 22.769425940126943, 9.758325402911547, 50.960143770760304, 6.505550268607698, 11.926842159114114, 9.758325402911547, 14.095358915316679, 6.505550268607698, 8.674067024810265, 7.589808646708981, 10.84258378101283, 63.971244307975695, 6.505550268607698, 9.758325402911547, 8.674067024810265, 5.421291890506415, 5.421291890506415, 45.53885188025389, 39.03330161164619, 30.359234586835925, 27.106459452532075, 23.85368431822823, 22.769425940126943, 21.68516756202566, 16.263875671519244, 15.179617293417962, 13.011100537215396, 13.011100537215396, 11.926842159114114, 11.926842159114114, 11.926842159114114, 10.84258378101283, 45.53885188025389, 34.69626809924106, 32.52775134303849, 198.41928319253478, 31.443492964937207, 427.1978009719055, 21.68516756202566, 27.106459452532075, 119.26842159114113, 20.60090918392438, 59.63421079557057, 32.52775134303849, 229.86277615747198, 45.53885188025389, 219.02019237645916, 48.79162701455774, 30.359234586835925, 47.70736863645646, 54.21291890506415, 119.26842159114113, 123.60545510354626, 452.135743668235, 337.204355589499, 86.74067024810265, 82.40363673569752, 234.1998096698771, 166.9757902275976, 136.61655564076167, 103.00454591962189, 105.17306267582445, 96.4989956510142, 63.971244307975695, 130.11100537215395, 175.64985725240786, 157.21746482468603, 151.79617293417962, 153.9646896903822, 132.27952212835655, 117.09990483493856, 144.20636428747062, 85.65641187000136, 150.71191455607834, 119.26842159114113, 87.82492862620393, 108.4258378101283, 117.09990483493856, 100.83602916341933, 98.66751240721676, 98.66751240721676, 20.48094733077705, 20.48094733077705, 5.389722981783435, 35.57217167977067, 23.71478111984711, 11.857390559923555, 21.55889192713374, 8.623556770853495, 64.67667578140122, 26.948614908917175, 5.389722981783435, 5.389722981783435, 12.935335156280244, 6.467667578140122, 25.870670312560488, 64.67667578140122, 8.623556770853495, 10.77944596356687, 8.623556770853495, 14.013279752636928, 22.636836523490427, 62.52078658868784, 26.948614908917175, 57.131063606904405, 6.467667578140122, 7.545612174496808, 16.169168945350304, 6.467667578140122, 6.467667578140122, 6.467667578140122, 144.44457591179605, 178.93880299521, 45.27367304698085, 28.026559505273855, 28.026559505273855, 21.55889192713374, 21.55889192713374, 17.24711354170699, 14.013279752636928, 65.7546203777579, 12.935335156280244, 12.935335156280244, 12.935335156280244, 12.935335156280244, 75.45612174496809, 134.74307454458585, 32.33833789070061, 73.30023255225471, 90.5473460939617, 71.14434335954134, 25.870670312560488, 91.62529069031838, 45.27367304698085, 72.22228795589803, 134.74307454458585, 278.1097058600252, 46.35161764333753, 79.76790013039484, 84.07967851582158, 61.44284199233116, 411.7748358082544, 181.0946921879234, 348.1761046232099, 52.81928522147766, 76.53406634132477, 63.59873118504452, 70.06639876318465, 177.86085839885334, 134.74307454458585, 91.62529069031838, 63.59873118504452, 183.25058138063676, 146.60046510450942, 140.1327975263693, 149.83429889357947, 115.34007181016551, 140.1327975263693, 187.56235976606354, 128.27540696644573, 108.87240423202537, 117.49596100287887, 94.85912447938844, 93.78117988303177, 99.17090286481519, 97.01501367210182, 112.10623802109542, 89.469401497605, 103.48268125024195, 111.02829342473876, 97.01501367210182, 25.911892592793834, 5.398310956832049, 6.477973148198458, 5.398310956832049, 6.477973148198458, 150.07304459993097, 21.593243827328195, 22.672906018694608, 11.876284105030509, 20.51358163596179, 30.230541358259476, 7.557635339564869, 6.477973148198458, 15.115270679129738, 20.51358163596179, 10.796621913664097, 31.310203549625882, 32.38986574099229, 12.955946296396917, 9.716959722297688, 79.89500216111433, 22.672906018694608, 9.716959722297688, 9.716959722297688, 7.557635339564869, 15.115270679129738, 68.01871805608383, 22.672906018694608, 9.716959722297688, 22.672906018694608, 345.4919012372511, 25.911892592793834, 24.832230401427424, 21.593243827328195, 78.81533996974792, 19.433919444595375, 76.65601558701509, 14.035608487763328, 12.955946296396917, 12.955946296396917, 10.796621913664097, 59.38142052515254, 42.10682546328998, 112.28486790210663, 106.88655694527458, 47.505136420122035, 98.2492594143433, 61.540744907885355, 91.77128626614484, 160.86966651359506, 899.3586054082194, 99.3289216057097, 95.01027284024407, 75.57635339564868, 164.1086530876943, 280.71216975526653, 370.3241316386785, 138.19676049490047, 183.54257253228968, 64.77973148198458, 103.64757037117533, 585.1769077205942, 87.45263750067919, 134.95777392080123, 86.37297530931278, 124.16115200713713, 132.7984495380684, 98.2492594143433, 234.28669552651093, 206.21547855098427, 362.7664962991137, 102.56790817980894, 251.56129058837345, 191.10020787185454, 125.24081419850353, 156.55101774812942, 128.47980077260277, 191.10020787185454, 178.14426157545762, 140.35608487763326, 152.2323689826638, 105.80689475390815, 115.52385447620584, 107.96621913664097, 107.96621913664097, 107.96621913664097, 25.461970484587624, 6.642253169892424, 13.284506339784848, 21.03380170465934, 53.13802535913939, 13.284506339784848, 26.569012679569695, 6.642253169892424, 6.642253169892424, 6.642253169892424, 44.28168779928282, 18.8197173146952, 24.354928289605553, 37.6394346293904, 9.963379754838636, 11.070421949820705, 5.535210974910353, 18.8197173146952, 11.070421949820705, 35.42535023942626, 35.42535023942626, 36.53239243440833, 68.63661608888837, 5.535210974910353, 7.749295364874494, 16.60563292473106, 5.535210974910353, 9.963379754838636, 15.498590729748988, 12.177464144802777, 12.177464144802777, 12.177464144802777, 11.070421949820705, 9.963379754838636, 8.856337559856565, 7.749295364874494, 7.749295364874494, 55.352109749103526, 48.709856579211106, 36.53239243440833, 250.19153606594793, 40.960561214336614, 213.65914363153965, 88.56337559856564, 21.03380170465934, 71.95774267383459, 19.92675950967727, 207.0168904616472, 445.03096238279244, 33.21126584946212, 45.38872999426489, 43.17464560430075, 281.18871752544595, 85.24224901361943, 197.05351070680857, 253.51266265089416, 194.83942631684442, 59.78027852903181, 123.98872583799191, 81.92112242867323, 172.698582417203, 571.2337726107485, 118.45351486308157, 57.56619413906767, 83.0281646236553, 119.56055705806362, 125.09576803297396, 358.68167117419085, 358.68167117419085, 286.7239285003563, 216.98027021648582, 98.52675535340428, 254.6197048458762, 278.9746331354818, 183.7690043670237, 261.2619580157687, 203.695763876701, 189.30421534193408, 308.8647723999977, 120.66759925304571, 119.56055705806362, 141.70140095770503, 162.73520266236437, 153.8788651025078, 151.6647807125437, 127.3098524229381, 135.05914778781263, 129.52393681290226, 131.7380212028664, 12.076203324793111, 12.076203324793111, 24.152406649586222, 12.076203324793111, 30.739426644927924, 16.467549988354243, 23.05456998369594, 45.0113033015016, 108.68582992313802, 39.522119972050184, 10.97836665890283, 5.489183329451415, 75.75072994642952, 71.3593832828684, 7.684856661231981, 49.40264996506273, 6.587019995341698, 6.587019995341698, 6.587019995341698, 8.782693327122264, 7.684856661231981, 6.587019995341698, 10.97836665890283, 9.880529993012546, 23.05456998369594, 8.782693327122264, 19.761059986025092, 8.782693327122264, 5.489183329451415, 14.271876656573678, 34.03293664259877, 31.837263310818205, 26.34807998136679, 26.34807998136679, 25.250243315476506, 15.369713322463962, 13.174039990683395, 8.782693327122264, 55.98966996040443, 39.522119972050184, 30.739426644927924, 57.08750662629471, 26.34807998136679, 26.34807998136679, 36.22860997437934, 66.96803661930726, 146.01227656340762, 36.22860997437934, 21.95673331780566, 72.45721994875868, 27.445916647257075, 101.00097326190603, 55.98966996040443, 122.9577065797117, 52.69615996273358, 408.39523971118524, 195.41492652847035, 175.6538665424453, 76.8485666123198, 66.96803661930726, 627.9625728892418, 193.21925319668978, 233.83920983463028, 76.8485666123198, 204.19761985559262, 274.4591664725707, 75.75072994642952, 431.4498096948812, 108.68582992313802, 242.62190316175253, 196.51276319436064, 199.80627319203148, 140.52309323395622, 82.33774994177122, 144.91443989751735, 102.09880992779631, 109.7836665890283, 185.5343965354578, 192.12141653079954, 125.15337991149227, 116.37068658436999, 135.0339099045048, 160.2841532199813, 106.49015659135745, 116.37068658436999, 106.49015659135745, 107.58799325724773, 103.76292304039438, 116.86981858233894, 8.73793036129637, 6.553447770972277, 7.645689066134323, 49.15085828229208, 38.22844533067161, 28.398273674213197, 7.645689066134323, 18.568102017754782, 6.553447770972277, 6.553447770972277, 26.21379108388911, 7.645689066134323, 7.645689066134323, 6.553447770972277, 8.73793036129637, 8.73793036129637, 8.73793036129637, 8.73793036129637, 5.461206475810231, 6.553447770972277, 5.461206475810231, 10.922412951620462, 12.014654246782507, 5.461206475810231, 6.553447770972277, 13.106895541944555, 8.73793036129637, 15.291378132268646, 17.47586072259274, 8.73793036129637, 7.645689066134323, 7.645689066134323, 512.2611674309996, 65.53447770972276, 215.1715351469231, 152.91378132268645, 95.024992679098, 38.22844533067161, 108.13188822104257, 20.752584608078877, 338.5948015002343, 17.47586072259274, 205.3413634904647, 441.26548324546667, 36.043962740347524, 95.024992679098, 181.31205499689966, 46.96637569196798, 86.28706231780164, 618.2085730617181, 78.64137325166732, 743.8163220053534, 108.13188822104257, 369.1775577647716, 134.34567930493168, 265.4146347243772, 86.28706231780164, 105.94740563071848, 181.31205499689966, 280.7060128566459, 73.18016677585709, 369.1775577647716, 223.90946550821945, 139.8068857807419, 218.44825903240925, 135.43792060009372, 143.08360966622806, 171.48188334044124, 99.3939578597462, 100.48619915490825, 104.85516433555644, 97.2094752694221, 15.282425415134306, 12.007619969034097, 73.13732162957132, 6.549610892200417, 54.58009076833681, 10.91601815366736, 82.96173796787194, 113.52658879814055, 10.91601815366736, 36.022859907102294, 97.15256156763951, 8.73281452293389, 9.824416338300626, 42.57247079930271, 9.824416338300626, 8.73281452293389, 5.45800907683368, 15.282425415134306, 12.007619969034097, 17.46562904586778, 22.92363812270146, 24.015239938068195, 7.641212707567153, 6.549610892200417, 10.91601815366736, 14.190823599767569, 10.91601815366736, 50.21368350686986, 13.099221784400834, 20.740434491967985, 490.1292150996645, 58.94649802980375, 42.57247079930271, 33.83965627636882, 21.83203630733472, 20.740434491967985, 18.557230861234512, 18.557230861234512, 17.46562904586778, 17.46562904586778, 17.46562904586778, 16.374027230501042, 15.282425415134306, 14.190823599767569, 14.190823599767569, 99.33576519837298, 252.16001934971604, 32.748054461002084, 66.5877107373709, 136.45022692084203, 67.67931255273764, 149.54944870524287, 28.381647199535138, 27.290045384168405, 76.41212707567153, 50.21368350686986, 66.5877107373709, 42.57247079930271, 155.00745778207653, 40.38926716856923, 72.04571981420459, 144.09143962840918, 117.8929960596075, 52.396887137603336, 68.77091436810437, 93.87775612153929, 65.49610892200417, 96.06095975227278, 125.53420876717465, 133.1754214747418, 70.95411799883784, 249.97681571898255, 108.06857972130688, 123.35100513644119, 149.54944870524287, 78.59533070640501, 118.98459787497424, 130.99221784400834, 160.4654668589102, 106.97697790594015, 94.96935793690604, 115.70979242887402, 118.98459787497424, 105.8853760905734, 78.59533070640501, 84.05333978323868, 81.87013615250521, 82.96173796787194, 393.618764531985, 12.162377555763582, 12.162377555763582, 12.162377555763582, 140.420177234725, 157.00523753803895, 5.528353434437991, 140.420177234725, 7.739694808213189, 322.8558405711787, 16.585060303313973, 8.845365495100786, 11.056706868875983, 8.845365495100786, 11.056706868875983, 15.479389616426378, 21.00774305086437, 21.00774305086437, 14.373718929538779, 9.951036181988385, 6.63402412132559, 6.63402412132559, 6.63402412132559, 6.63402412132559, 6.63402412132559, 6.63402412132559, 5.528353434437991, 6.63402412132559, 6.63402412132559, 11.056706868875983, 342.75791293515545, 724.2142999113769, 114.98975143631023, 111.67273937564744, 7.739694808213189, 47.543839536166736, 133.7861531133994, 961.9334975922106, 90.66499632478306, 55.283534344379916, 109.46139800187224, 29.853108545965156, 107.25005662809704, 106.14438594120944, 105.03871525432186, 189.06968745777934, 33.17012060662795, 413.5208368959618, 47.543839536166736, 203.4434063873181, 126.0464583051862, 89.55932563789547, 476.5440660485549, 238.82486836772125, 157.00523753803895, 46.43816884927913, 112.77841006253503, 108.35572731498463, 166.95627372002735, 124.94078761829861, 170.27328578069017, 295.2140733989888, 127.15212899207381, 176.90730990201573, 145.94853066916298, 126.0464583051862, 120.51810487074822, 119.41243418386063, 110.56706868875983, 97.49811540497768, 5.477422213762791, 12.05032887027814, 5.477422213762791, 50.39228436661768, 211.42849745124374, 15.336782198535815, 10.954844427525583, 10.954844427525583, 5.477422213762791, 8.763875542020465, 7.668391099267907, 7.668391099267907, 14.241297755783258, 7.668391099267907, 7.668391099267907, 5.477422213762791, 8.763875542020465, 5.477422213762791, 5.477422213762791, 5.477422213762791, 5.477422213762791, 5.477422213762791, 199.3781685809656, 19.718719969546047, 9.859359984773024, 6.572906656515349, 6.572906656515349, 538.9783458342586, 58.06067546588559, 90.92520874846232, 69.01551989341117, 53.67873769487535, 74.49294210717396, 113.93038204626606, 64.63358212240092, 165.4181508556363, 63.538097679648374, 17.52775108404093, 19.718719969546047, 23.005173297803722, 90.92520874846232, 32.86453328257675, 18.62323552679349, 581.7022391016084, 130.36264868755444, 145.69943088609023, 231.1472174207898, 73.39745766442141, 96.40263096222512, 351.6505061235712, 134.74458645856464, 121.59877314553397, 290.3033773294279, 95.30714651947257, 101.88005317598791, 95.30714651947257, 141.31749311508003, 94.21166207672, 199.3781685809656, 99.6890842904828, 142.41297755783256, 100.78456873323536, 139.1265242295749, 113.93038204626606, 158.84524419912094, 180.7549330541721, 185.13687082518234, 182.9459019396772, 127.07619535929675, 97.49811540497768, 9.08539590288567, 9.08539590288567, 9.08539590288567, 9.08539590288567, 12.492419366467798, 6.814046927164252, 11.356744878607088, 6.814046927164252, 67.00479478378182, 68.14046927164254, 6.814046927164252, 21.57781526935347, 12.492419366467798, 29.527536684378433, 15.899442830049924, 24.984838732935597, 6.814046927164252, 23.84916424507489, 12.492419366467798, 5.678372439303544, 13.628093854328505, 10.22107039074638, 7.949721415024962, 11.356744878607088, 6.814046927164252, 10.22107039074638, 5.678372439303544, 6.814046927164252, 5.678372439303544, 7.949721415024962, 119.24582122537444, 21.57781526935347, 17.035117317910636, 17.035117317910636, 72.68316722308536, 15.899442830049924, 70.41181824736395, 11.356744878607088, 10.22107039074638, 10.22107039074638, 10.22107039074638, 71.54749273522467, 37.47725809940339, 69.27614375950324, 94.26098249243884, 563.2945459789116, 314.58183313741637, 102.2107039074638, 27.25618770865701, 120.38149571323514, 82.90423761383175, 26.1205132207963, 28.391862196517724, 147.63768342189215, 28.391862196517724, 72.68316722308536, 72.68316722308536, 71.54749273522467, 37.47725809940339, 87.44693556527459, 137.41661303114577, 70.41181824736395, 137.41661303114577, 57.91939888089615, 38.6129325872641, 54.51237541731402, 42.01995605084623, 98.80368044388167, 57.91939888089615, 74.95451619880679, 53.376700929453314, 116.97447224965302, 96.53233146816025, 64.73344580806041, 78.3615396623889, 70.41181824736395, 85.17558658955316, 79.49721415024962, 10.008513237609028, 8.7574490829079, 10.008513237609028, 11.259577392310158, 17.5148981658158, 8.7574490829079, 31.276603867528216, 7.5063849282067725, 7.5063849282067725, 7.5063849282067725, 7.5063849282067725, 7.5063849282067725, 7.5063849282067725, 7.5063849282067725, 7.5063849282067725, 7.5063849282067725, 7.5063849282067725, 7.5063849282067725, 7.5063849282067725, 7.5063849282067725, 7.5063849282067725, 7.5063849282067725, 7.5063849282067725, 15.012769856413545, 7.5063849282067725, 7.5063849282067725, 7.5063849282067725, 7.5063849282067725, 7.5063849282067725, 7.5063849282067725, 37.53192464103386, 37.53192464103386, 26.2723472487237, 23.770218939321445, 22.519154784620316, 22.519154784620316, 22.519154784620316, 18.76596232051693, 16.26383401111467, 16.26383401111467, 15.012769856413545, 15.012769856413545, 15.012769856413545, 15.012769856413545, 15.012769856413545, 13.761705701712417, 13.761705701712417, 66.30640019915981, 12.510641547011286, 11.259577392310158, 10.008513237609028, 10.008513237609028, 93.82981160258464, 20.017026475218056, 18.76596232051693, 33.778732176930475, 16.26383401111467, 20.017026475218056, 112.59577392310158, 48.79150203334402, 47.54043787864289, 57.54895111625192, 81.31917005557337, 51.29363034274627, 155.13195518293995, 48.79150203334402, 31.276603867528216, 76.31491343676885, 41.285117105137246, 47.54043787864289, 262.723472487237, 236.4511252385133, 240.20431770261672, 47.54043787864289, 143.8723777906298, 138.86812117182527, 126.35747962481399, 58.80001527095305, 55.04682280684967, 83.82129836497562, 131.3617362436185, 73.8127851273666, 116.34896638720495, 80.06810590087223, 130.11067208891737, 83.82129836497562, 83.82129836497562, 102.58726068549254, 82.57023421027449, 65.05533604445868, 77.56597759146997, 71.31065681796433, 75.06384928206772, 68.80852850856208, 68.80852850856208, 60.05107942565418], \"Total\": [1109.0, 3032.0, 989.0, 2949.0, 1570.0, 735.0, 1345.0, 730.0, 1791.0, 1495.0, 542.0, 720.0, 1086.0, 1113.0, 1083.0, 543.0, 493.0, 623.0, 628.0, 1458.0, 623.0, 393.0, 667.0, 875.0, 1711.0, 986.0, 823.0, 399.0, 343.0, 322.0, 8.521800741786821, 989.5941111399948, 72.43530630518799, 76.6962066760814, 72.43530630518799, 14.91315129812694, 5.326125463616764, 45.80467898710417, 5.326125463616764, 13.847926205403585, 9.587025834510175, 29.82630259625388, 31.956752781700583, 5.326125463616764, 5.326125463616764, 7.45657564906347, 7.45657564906347, 5.326125463616764, 9.587025834510175, 20.239276761743703, 12.782701112680233, 15.978376390850292, 21.304501854467055, 10.652250927233528, 10.652250927233528, 5.326125463616764, 25.565402225360465, 14.91315129812694, 14.91315129812694, 12.782701112680233, 39.41332843076405, 29.82630259625388, 28.761077503530526, 22.369726947190408, 22.369726947190408, 19.17405166902035, 18.108826576296998, 14.91315129812694, 14.91315129812694, 14.91315129812694, 13.847926205403585, 13.847926205403585, 172.63042805761958, 623.8204342774416, 82.06039871045401, 253.69739943361145, 45.83105570974755, 87.46550104775424, 51.126433184914596, 29.845335881631808, 40.5617224222581, 172.12674581677265, 152.79010148887994, 26.649660603461747, 455.8861735821296, 72.68118326363219, 71.4718372415313, 496.85211170480335, 73.6415500713747, 243.09833879415555, 150.52706108008195, 140.22809905201964, 2949.43890162841, 145.76487232221825, 3032.873234919824, 963.9847539027851, 444.9699482799569, 296.70264244757163, 119.68424273976767, 557.6966215865309, 304.36679484751915, 165.63248261893165, 146.17666676907092, 190.7136932363595, 219.51783134576812, 259.64001381872237, 1570.674845705836, 750.5680451163768, 1083.724741445405, 297.32656961219595, 459.1370852241475, 1062.5075980895076, 402.3679489770097, 340.53745082007816, 326.3990414610095, 340.18523081788413, 734.04115094851, 1711.4596218433571, 596.8407382366942, 1135.665322635748, 1047.9627655418365, 954.7003499951148, 8.614093172713046, 27.995802811317404, 23.68875622496088, 6.460569879534785, 6.460569879534785, 8.614093172713046, 16.151424698836962, 9.690854819302178, 5.383808232945654, 6.460569879534785, 12.92113975906957, 8.614093172713046, 7.537331526123916, 7.537331526123916, 7.537331526123916, 36.60989598403045, 7.537331526123916, 11.84437811248044, 5.383808232945654, 7.537331526123916, 7.537331526123916, 5.383808232945654, 5.383808232945654, 8.614093172713046, 13.997901405658702, 7.537331526123916, 10.767616465891308, 5.383808232945654, 6.460569879534785, 30.149326104495664, 123.82758935775006, 91.52473996007612, 37.68665763061958, 36.60989598403045, 32.302849397673924, 32.302849397673924, 29.072564457906534, 29.072564457906534, 26.91904116472827, 24.76551787155001, 23.68875622496088, 23.68875622496088, 22.61199457837175, 22.61199457837175, 21.535232931782616, 20.458471285193486, 20.458471285193486, 19.381709638604356, 19.381709638604356, 18.304947992015226, 18.304947992015226, 16.151424698836962, 16.151424698836962, 16.151424698836962, 15.074663052247832, 119.61041490981094, 40.935665366550396, 59.2000004044382, 184.7930201037027, 250.92923279666704, 250.48110991242316, 148.34012072990961, 823.1827728515934, 222.0247476609562, 101.36286883054807, 270.83135104405403, 159.12491134984515, 71.00403339101008, 106.54162188305861, 580.8029341079553, 436.4574092755756, 269.57867050530206, 362.41395826803137, 1711.4596218433571, 110.93172475042945, 560.6354218446869, 260.5954647596564, 486.98225191352276, 519.9202586873255, 517.9727424037436, 828.8331728026602, 685.2413310077804, 298.31133599912926, 875.9090623517304, 415.77737175256567, 301.6610298278056, 557.6966215865309, 565.2590252742127, 590.5049020232826, 740.484870011262, 593.8118000823466, 986.5372941076477, 852.539117234856, 707.3588195636021, 583.7843392641623, 15.853224812308413, 231.45708225970284, 181.7836445144698, 20.080751428923993, 61.299135940925865, 13.739461504000625, 20.080751428923993, 23.251396391385676, 13.739461504000625, 11.625698195692838, 30.649567970462932, 15.853224812308413, 13.739461504000625, 5.284408270769471, 7.3981715790772595, 9.511934887385049, 5.284408270769471, 7.3981715790772595, 5.284408270769471, 5.284408270769471, 10.568816541538942, 5.284408270769471, 5.284408270769471, 22.19451473723178, 22.19451473723178, 22.19451473723178, 7.3981715790772595, 10.568816541538942, 9.511934887385049, 9.511934887385049, 145.92123784318363, 19.023869774770098, 19.023869774770098, 12.682579849846732, 10.568816541538942, 9.511934887385049, 9.511934887385049, 8.455053233231155, 8.455053233231155, 42.298046703368286, 75.16146248013565, 429.3222170769584, 78.36365356178283, 32.842124112477535, 245.93010730258413, 126.27052225259519, 28.58459369488885, 88.9226722982414, 26.430384792416817, 55.11543121242451, 26.4567615150602, 26.472201894675536, 24.387070879246384, 37.015888211094676, 30.715547483008987, 203.92718418715043, 129.91274510514918, 255.32526695958353, 316.4851901534955, 644.1987455168836, 63.87257458233963, 469.8189225563066, 1458.0870733662455, 426.35307836244283, 328.11388158762975, 119.27717196300753, 1791.5318552248095, 819.4546918176, 284.2300388100997, 341.0157619567469, 273.7143024881213, 1174.4956909000578, 1348.7602945720234, 102.98823556083165, 354.0374109358205, 707.3588195636021, 466.66935544490616, 1495.2641655925381, 986.5372941076477, 875.9090623517304, 1711.4596218433571, 686.8838262610492, 676.0693318881814, 660.6199209650405, 596.8407382366942, 1015.2615197584696, 3032.873234919824, 1636.0129548117784, 18.31819196895088, 7.542784928391541, 15.085569856783081, 12.93048844867121, 15.085569856783081, 9.697866336503408, 6.465244224335605, 62.49736083524418, 12.93048844867121, 7.542784928391541, 5.387703520279671, 42.024087458181434, 5.387703520279671, 36.63638393790176, 6.465244224335605, 7.542784928391541, 12.93048844867121, 11.852947744615276, 15.085569856783081, 10.775407040559342, 6.465244224335605, 15.085569856783081, 6.465244224335605, 18.31819196895088, 42.024087458181434, 14.008029152727145, 7.542784928391541, 9.697866336503408, 5.387703520279671, 5.387703520279671, 45.25670957034924, 34.4813025297899, 22.62835478517462, 18.31819196895088, 17.24065126489495, 17.24065126489495, 16.163110560839012, 15.085569856783081, 15.085569856783081, 14.008029152727145, 12.93048844867121, 12.93048844867121, 11.852947744615276, 10.775407040559342, 74.38193155809607, 46.36375176533131, 194.4609093477252, 135.77950281760948, 48.53151501644945, 38.79893627894325, 28.030119416765093, 45.30725700232573, 56.726210413489355, 44.1768316938929, 49.54786929127185, 79.75427469433511, 175.80804634107025, 64.64620978362163, 82.95441797771319, 237.45046645140786, 64.76485492999288, 191.05001005426342, 230.7339331196359, 319.4409447768573, 85.2213786262567, 68.86501542858295, 44.35468995446574, 98.07892894009802, 292.58905326536575, 95.13845381587842, 565.2590252742127, 368.7396602288877, 403.8535559879173, 710.413841050424, 954.7003499951148, 141.36013004715946, 780.5930390012703, 1174.4956909000578, 1145.18450690112, 227.9704805130039, 731.1865973261636, 1910.1450478419647, 1348.7602945720234, 450.4033761485573, 280.79455030708806, 819.4546918176, 533.1204256335792, 644.1987455168836, 286.5300553264104, 709.2045097030472, 487.80485866889484, 350.36003882336786, 595.6179828203847, 577.7586407208653, 494.3208043269995, 986.5372941076477, 788.8761640171614, 17.34813404962053, 8.674067024810265, 7.589808646708981, 49.87588539265902, 10.84258378101283, 10.84258378101283, 16.263875671519244, 6.505550268607698, 46.62311025835517, 18.432392427721812, 7.589808646708981, 17.34813404962053, 22.769425940126943, 22.769425940126943, 9.758325402911547, 50.960143770760304, 6.505550268607698, 11.926842159114114, 9.758325402911547, 14.095358915316679, 6.505550268607698, 8.674067024810265, 7.589808646708981, 10.84258378101283, 63.971244307975695, 6.505550268607698, 9.758325402911547, 8.674067024810265, 5.421291890506415, 5.421291890506415, 45.53885188025389, 39.03330161164619, 30.359234586835925, 27.106459452532075, 23.85368431822823, 22.769425940126943, 21.68516756202566, 16.263875671519244, 15.179617293417962, 13.011100537215396, 13.011100537215396, 11.926842159114114, 11.926842159114114, 11.926842159114114, 10.84258378101283, 46.63045369562062, 35.78850939440311, 33.619992638200536, 223.40412192547038, 33.600959352822606, 579.4151694094103, 22.750392654749014, 29.28966308326555, 153.14685849362473, 21.70657987081198, 74.75255750210701, 38.06196614085979, 420.59292665275416, 57.39142445970311, 444.3406407345368, 66.19755794042389, 35.76411783908273, 65.91676829205257, 80.0551984232033, 239.3646214710941, 252.0388953062632, 1636.0129548117784, 1150.4552687632606, 160.58823799124622, 151.72110868158043, 734.04115094851, 450.4033761485573, 342.02221893971745, 226.61542870316657, 237.14950001387257, 230.89193876971493, 111.76546443343796, 487.80485866889484, 954.7003499951148, 770.2150830715206, 740.5484283532688, 821.4349445762639, 601.7689306716195, 491.74331579353236, 845.545516485132, 227.74668424819743, 1218.236095752032, 613.7896392035352, 281.71999816772257, 731.1865973261636, 1062.5075980895076, 686.8838262610492, 645.7901447258038, 669.6997671276073, 20.48094733077705, 20.48094733077705, 5.389722981783435, 35.57217167977067, 23.71478111984711, 11.857390559923555, 21.55889192713374, 8.623556770853495, 64.67667578140122, 26.948614908917175, 5.389722981783435, 5.389722981783435, 12.935335156280244, 6.467667578140122, 25.870670312560488, 64.67667578140122, 8.623556770853495, 10.77944596356687, 8.623556770853495, 14.013279752636928, 22.636836523490427, 62.52078658868784, 26.948614908917175, 57.131063606904405, 6.467667578140122, 7.545612174496808, 16.169168945350304, 6.467667578140122, 6.467667578140122, 6.467667578140122, 145.52211661585198, 181.123385894248, 45.27367304698085, 28.026559505273855, 28.026559505273855, 21.55889192713374, 21.55889192713374, 17.24711354170699, 14.013279752636928, 66.83216108181384, 12.935335156280244, 12.935335156280244, 12.935335156280244, 12.935335156280244, 77.6154461277009, 146.81927786937896, 33.41587859475654, 80.95391496086896, 101.41389036844592, 78.6632635899119, 26.966154755313045, 106.90771610545269, 49.6400803084478, 83.57903283450511, 167.13602449916365, 386.93184707921847, 54.03956683285846, 104.61851306413482, 113.22919456862654, 77.68656464171436, 865.662175974474, 314.361650022397, 750.5680451163768, 65.90954039231586, 113.53793888660367, 92.8565183405747, 108.57809249554461, 494.3208043269995, 350.36003882336786, 187.72841297529223, 94.45656949973272, 760.0632475282181, 498.5023834371942, 523.7335720569964, 731.1865973261636, 409.1638032257782, 787.6422643591748, 1910.1450478419647, 682.3999635192343, 475.13872448632844, 648.0374032976981, 300.7351386433635, 289.24612638672846, 396.33916985821384, 368.7396602288877, 1062.5075980895076, 246.3855009639034, 817.3677682195981, 1495.2641655925381, 1015.2615197584696, 25.911892592793834, 5.398310956832049, 6.477973148198458, 5.398310956832049, 6.477973148198458, 150.07304459993097, 21.593243827328195, 22.672906018694608, 11.876284105030509, 20.51358163596179, 30.230541358259476, 7.557635339564869, 6.477973148198458, 15.115270679129738, 20.51358163596179, 10.796621913664097, 31.310203549625882, 32.38986574099229, 12.955946296396917, 9.716959722297688, 79.89500216111433, 22.672906018694608, 9.716959722297688, 9.716959722297688, 7.557635339564869, 15.115270679129738, 68.01871805608383, 22.672906018694608, 9.716959722297688, 22.672906018694608, 346.58350305261786, 25.911892592793834, 24.832230401427424, 21.593243827328195, 79.89328456610461, 19.433919444595375, 77.73277723360422, 14.035608487763328, 12.955946296396917, 12.955946296396917, 10.796621913664097, 60.4769049679051, 43.17205055601333, 122.24550464075632, 118.94816666193613, 50.752627428202146, 110.2568793833774, 68.13442847257974, 106.87513817862765, 199.60693780887573, 1345.342385477041, 118.92911391841231, 113.54054511591673, 88.68914241276134, 220.0804937367589, 409.02066106865703, 637.2949345348749, 195.6474479901213, 278.4677521879563, 80.99349593245387, 152.69254970379862, 1495.2641655925381, 126.14255736771078, 230.60267743184025, 126.7971928352694, 212.68562827646764, 245.87946869776187, 155.96299385620173, 709.2045097030472, 619.8638694295555, 1791.5318552248095, 180.44252330881267, 1458.0870733662455, 819.4546918176, 296.67983425698935, 541.0491582745999, 333.54029748019354, 1218.236095752032, 1135.665322635748, 731.1865973261636, 1348.7602945720234, 255.33418360683532, 3032.873234919824, 676.0693318881814, 880.7352190259489, 1047.9627655418365, 25.461970484587624, 6.642253169892424, 13.284506339784848, 21.03380170465934, 53.13802535913939, 13.284506339784848, 26.569012679569695, 6.642253169892424, 6.642253169892424, 6.642253169892424, 44.28168779928282, 18.8197173146952, 24.354928289605553, 37.6394346293904, 9.963379754838636, 11.070421949820705, 5.535210974910353, 18.8197173146952, 11.070421949820705, 35.42535023942626, 35.42535023942626, 36.53239243440833, 68.63661608888837, 5.535210974910353, 7.749295364874494, 16.60563292473106, 5.535210974910353, 9.963379754838636, 15.498590729748988, 12.177464144802777, 12.177464144802777, 12.177464144802777, 11.070421949820705, 9.963379754838636, 8.856337559856565, 7.749295364874494, 7.749295364874494, 57.528609422366856, 51.96997515078041, 38.688281627121704, 296.0222018890566, 44.21333634864046, 256.9929283700853, 102.63533303537672, 22.125403520026076, 86.03451642408804, 21.004300213733206, 278.884842944112, 688.4735094016384, 37.60261251302325, 53.98098013118907, 51.951544848629865, 468.09223464389356, 117.64967656762943, 328.85278849336, 454.6255807033038, 333.54029748019354, 78.4035140558253, 204.50797732670753, 120.64291171484317, 339.681982628295, 1791.5318552248095, 212.33459491802168, 78.06822996505066, 132.39647844274745, 225.73452869443207, 246.9032686214322, 1458.0870733662455, 1495.2641655925381, 1047.9627655418365, 687.3468402151016, 189.98277605490173, 1015.2615197584696, 1218.236095752032, 595.6179828203847, 1174.4956909000578, 770.2150830715206, 669.6997671276073, 1910.1450478419647, 286.5255512389108, 281.6128879061449, 422.72568022835844, 686.8838262610492, 1145.18450690112, 1636.0129548117784, 576.9080494863279, 1345.342385477041, 740.5484283532688, 2949.43890162841, 12.076203324793111, 12.076203324793111, 24.152406649586222, 12.076203324793111, 30.739426644927924, 16.467549988354243, 23.05456998369594, 45.0113033015016, 108.68582992313802, 39.522119972050184, 10.97836665890283, 5.489183329451415, 75.75072994642952, 71.3593832828684, 7.684856661231981, 49.40264996506273, 6.587019995341698, 6.587019995341698, 6.587019995341698, 8.782693327122264, 7.684856661231981, 6.587019995341698, 10.97836665890283, 9.880529993012546, 23.05456998369594, 8.782693327122264, 19.761059986025092, 8.782693327122264, 5.489183329451415, 14.271876656573678, 34.03293664259877, 31.837263310818205, 26.34807998136679, 26.34807998136679, 25.250243315476506, 15.369713322463962, 13.174039990683395, 8.782693327122264, 57.081271775771164, 40.61760441480274, 31.804651737651277, 60.328870870772704, 27.42484162795592, 27.439681796733527, 38.43995134815454, 74.52790604651551, 175.08484102131416, 39.440573036645105, 23.03639550917207, 87.67458408402477, 29.559679955564864, 136.14663549771106, 71.6049458603859, 189.8523143606006, 66.6495930587107, 880.7352190259489, 357.04789955479225, 340.97126707874736, 126.51302741517465, 106.75160896715225, 3032.873234919824, 533.7086407918133, 740.5484283532688, 138.26838674350805, 680.253100411638, 1135.665322635748, 136.48433555632525, 2949.43890162841, 266.21369473892366, 1145.18450690112, 819.5327185886883, 1047.9627655418365, 521.374950411945, 167.2567252157433, 601.7689306716195, 275.6969315029347, 336.9001738543346, 1348.7602945720234, 1711.4596218433571, 590.5049020232826, 533.1204256335792, 963.9847539027851, 1910.1450478419647, 479.23532221258796, 780.5930390012703, 687.3468402151016, 1791.5318552248095, 103.76292304039438, 116.86981858233894, 8.73793036129637, 6.553447770972277, 7.645689066134323, 49.15085828229208, 38.22844533067161, 28.398273674213197, 7.645689066134323, 18.568102017754782, 6.553447770972277, 6.553447770972277, 26.21379108388911, 7.645689066134323, 7.645689066134323, 6.553447770972277, 8.73793036129637, 8.73793036129637, 8.73793036129637, 8.73793036129637, 5.461206475810231, 6.553447770972277, 5.461206475810231, 10.922412951620462, 12.014654246782507, 5.461206475810231, 6.553447770972277, 13.106895541944555, 8.73793036129637, 15.291378132268646, 17.47586072259274, 8.73793036129637, 7.645689066134323, 7.645689066134323, 543.9740859475675, 68.89930517273167, 243.80415059397242, 176.6289705457604, 107.9855351622298, 41.461067442839415, 124.35310113507109, 21.888259095939585, 440.33298607201664, 18.56011910069402, 263.48777403064105, 623.1854211772692, 41.370088203964286, 122.04529080042141, 252.6480980535644, 57.59594271173215, 117.73374393381553, 1113.618280347675, 106.66008433771806, 1570.674845705836, 161.08418427786683, 720.8280638883427, 240.55233707599177, 628.0532374798823, 148.82346073801918, 198.51217292388674, 460.08097065378627, 1062.5075980895076, 129.50729829602705, 1910.1450478419647, 1135.665322635748, 467.1726474616551, 1150.4552687632606, 583.7843392641623, 865.662175974474, 3032.873234919824, 317.73893371940045, 496.85211170480335, 1348.7602945720234, 880.7352190259489, 15.282425415134306, 12.007619969034097, 73.13732162957132, 6.549610892200417, 54.58009076833681, 10.91601815366736, 82.96173796787194, 113.52658879814055, 10.91601815366736, 36.022859907102294, 97.15256156763951, 8.73281452293389, 9.824416338300626, 42.57247079930271, 9.824416338300626, 8.73281452293389, 5.45800907683368, 15.282425415134306, 12.007619969034097, 17.46562904586778, 22.92363812270146, 24.015239938068195, 7.641212707567153, 6.549610892200417, 10.91601815366736, 14.190823599767569, 10.91601815366736, 50.21368350686986, 13.099221784400834, 20.740434491967985, 493.3685548858777, 58.94649802980375, 42.57247079930271, 33.83965627636882, 21.83203630733472, 20.740434491967985, 18.557230861234512, 18.557230861234512, 17.46562904586778, 17.46562904586778, 17.46562904586778, 16.374027230501042, 15.282425415134306, 14.190823599767569, 14.190823599767569, 101.47018755658281, 281.92542809388425, 33.82599905735877, 70.93846547726334, 151.64872716167318, 73.0631207856833, 175.03961925638467, 29.459591795891825, 28.36758608822434, 87.17631688470533, 55.74203694130785, 77.55984301674181, 47.962295806892854, 224.42314065545477, 45.818541976136416, 94.73578338326027, 223.28170053489677, 182.1558896571129, 64.92145241918978, 92.48569548795149, 141.32845120587405, 88.1329454454946, 156.38175342246842, 237.14950001387257, 265.53762029596817, 102.32997107618982, 760.0632475282181, 204.28525975743182, 267.564715950749, 454.6255807033038, 133.98347491433321, 420.59292665275416, 561.2659660186904, 1145.18450690112, 512.9179940282654, 320.2216709383109, 1218.236095752032, 1636.0129548117784, 1910.1450478419647, 193.67434511710104, 865.662175974474, 660.6199209650405, 1135.665322635748, 393.618764531985, 12.162377555763582, 12.162377555763582, 12.162377555763582, 140.420177234725, 157.00523753803895, 5.528353434437991, 140.420177234725, 7.739694808213189, 322.8558405711787, 16.585060303313973, 8.845365495100786, 11.056706868875983, 8.845365495100786, 11.056706868875983, 15.479389616426378, 21.00774305086437, 21.00774305086437, 14.373718929538779, 9.951036181988385, 6.63402412132559, 6.63402412132559, 6.63402412132559, 6.63402412132559, 6.63402412132559, 6.63402412132559, 5.528353434437991, 6.63402412132559, 6.63402412132559, 11.056706868875983, 343.83585753151215, 735.1367128629973, 116.04663309046413, 112.73796446837079, 7.739694808213189, 48.65088173114881, 144.3903292959465, 1109.810521187208, 99.31724335923761, 59.665472115390145, 124.61576016831182, 32.03759113628925, 124.56060115358554, 129.03130687758363, 129.68954575515409, 264.30810371800146, 37.54276271861844, 667.7800854528114, 57.355306921428436, 334.4995631763115, 191.11595449158176, 135.62934536391253, 1083.724741445405, 479.752708344262, 291.6954163395842, 60.80438747134491, 216.62931517223797, 244.27929448722796, 645.7901447258038, 403.7304781552042, 828.8331728026602, 2949.43890162841, 491.74331579353236, 3032.873234919824, 1113.618280347675, 707.3588195636021, 517.9727424037436, 1086.8368285486338, 550.7617464433451, 97.49811540497768, 5.477422213762791, 12.05032887027814, 5.477422213762791, 50.39228436661768, 211.42849745124374, 15.336782198535815, 10.954844427525583, 10.954844427525583, 5.477422213762791, 8.763875542020465, 7.668391099267907, 7.668391099267907, 14.241297755783258, 7.668391099267907, 7.668391099267907, 5.477422213762791, 8.763875542020465, 5.477422213762791, 5.477422213762791, 5.477422213762791, 5.477422213762791, 5.477422213762791, 199.3781685809656, 19.718719969546047, 9.859359984773024, 6.572906656515349, 6.572906656515349, 542.1688707891554, 61.293701470354144, 97.39287632660245, 73.3670869861005, 56.91176369934391, 79.95095118400764, 127.2140428686672, 71.12239827631709, 190.29415686923954, 71.1837867457827, 18.605291788096864, 21.873801377657916, 26.19859879747792, 124.59893311561078, 39.354783499666745, 20.80771811711758, 1086.8368285486338, 195.40040070249236, 229.3410783845232, 392.61732304925897, 106.5773013997834, 148.18983201576594, 720.8280638883427, 229.5607919200355, 211.31064356505425, 628.0532374798823, 164.04292185717082, 180.30372824169888, 175.6162531637554, 307.1771760687892, 177.59300362141954, 819.5327185886883, 214.57325305840806, 467.1726474616551, 229.37583597419382, 521.374950411945, 339.6057349141378, 963.9847539027851, 1570.674845705836, 3032.873234919824, 2949.43890162841, 1174.4956909000578, 271.71274580550534, 9.08539590288567, 9.08539590288567, 9.08539590288567, 9.08539590288567, 12.492419366467798, 6.814046927164252, 11.356744878607088, 6.814046927164252, 67.00479478378182, 68.14046927164254, 6.814046927164252, 21.57781526935347, 12.492419366467798, 29.527536684378433, 15.899442830049924, 24.984838732935597, 6.814046927164252, 23.84916424507489, 12.492419366467798, 5.678372439303544, 13.628093854328505, 10.22107039074638, 7.949721415024962, 11.356744878607088, 6.814046927164252, 10.22107039074638, 5.678372439303544, 6.814046927164252, 5.678372439303544, 7.949721415024962, 120.34365789126473, 21.57781526935347, 17.035117317910636, 17.035117317910636, 73.7599288696745, 15.899442830049924, 71.48935895141989, 11.356744878607088, 10.22107039074638, 10.22107039074638, 10.22107039074638, 75.8576555514484, 39.6077082848501, 75.77453456443594, 106.23149061904043, 730.3771752899289, 399.51157018535014, 119.43889025288989, 31.572714986812173, 178.80831201474393, 116.7117347209024, 30.43067603702004, 33.88104552596914, 249.7798819610974, 34.838466832455055, 118.32621021825332, 119.98839162324239, 144.9713312238213, 56.88784118358354, 212.68562827646764, 467.32485908729666, 164.84668027164906, 613.7896392035352, 128.10436488812704, 62.5121845392539, 133.55886181316953, 78.85736418234247, 487.80485866889484, 185.87749359481728, 384.5738897514227, 155.96299385620173, 1636.0129548117784, 954.7003499951148, 289.24612638672846, 595.6179828203847, 498.5023834371942, 1458.0870733662455, 1218.236095752032, 10.008513237609028, 8.7574490829079, 10.008513237609028, 11.259577392310158, 17.5148981658158, 8.7574490829079, 31.276603867528216, 7.5063849282067725, 7.5063849282067725, 7.5063849282067725, 7.5063849282067725, 7.5063849282067725, 7.5063849282067725, 7.5063849282067725, 7.5063849282067725, 7.5063849282067725, 7.5063849282067725, 7.5063849282067725, 7.5063849282067725, 7.5063849282067725, 7.5063849282067725, 7.5063849282067725, 7.5063849282067725, 15.012769856413545, 7.5063849282067725, 7.5063849282067725, 7.5063849282067725, 7.5063849282067725, 7.5063849282067725, 7.5063849282067725, 37.53192464103386, 37.53192464103386, 26.2723472487237, 23.770218939321445, 22.519154784620316, 22.519154784620316, 22.519154784620316, 18.76596232051693, 16.26383401111467, 16.26383401111467, 15.012769856413545, 15.012769856413545, 15.012769856413545, 15.012769856413545, 15.012769856413545, 13.761705701712417, 13.761705701712417, 67.4042368650501, 12.510641547011286, 11.259577392310158, 10.008513237609028, 10.008513237609028, 108.84483467752676, 21.152700963078765, 19.84562451188334, 38.00625879354605, 17.34177860747136, 22.14747666066476, 164.09917429610732, 64.96067097869432, 68.01371125570564, 87.27616190236765, 138.56399343919247, 78.21267150747454, 352.80295485011345, 75.80505138835971, 42.05787918125781, 148.84047740274377, 64.04374951756212, 79.78259911327183, 986.5372941076477, 852.539117234856, 875.9090623517304, 81.04441959767954, 486.98225191352276, 491.74331579353236, 466.66935544490616, 132.01980723901394, 118.7233519272323, 273.5842039392844, 685.2413310077804, 223.64616392746586, 676.0693318881814, 327.76398678145364, 1636.0129548117784, 533.1204256335792, 637.2949345348749, 1345.342385477041, 821.4349445762639, 392.61732304925897, 1348.7602945720234, 819.5327185886883, 1495.2641655925381, 788.8761640171614, 845.545516485132, 1062.5075980895076], \"Category\": [\"Default\", \"Default\", \"Default\", \"Default\", \"Default\", \"Default\", \"Default\", \"Default\", \"Default\", \"Default\", \"Default\", \"Default\", \"Default\", \"Default\", \"Default\", \"Default\", \"Default\", \"Default\", \"Default\", \"Default\", \"Default\", \"Default\", \"Default\", \"Default\", \"Default\", \"Default\", \"Default\", \"Default\", \"Default\", \"Default\", \"Topic1\", \"Topic1\", \"Topic1\", \"Topic1\", \"Topic1\", \"Topic1\", \"Topic1\", \"Topic1\", \"Topic1\", \"Topic1\", \"Topic1\", \"Topic1\", \"Topic1\", \"Topic1\", \"Topic1\", \"Topic1\", \"Topic1\", \"Topic1\", \"Topic1\", \"Topic1\", \"Topic1\", \"Topic1\", \"Topic1\", \"Topic1\", \"Topic1\", \"Topic1\", \"Topic1\", \"Topic1\", \"Topic1\", \"Topic1\", \"Topic1\", \"Topic1\", \"Topic1\", \"Topic1\", \"Topic1\", \"Topic1\", \"Topic1\", \"Topic1\", \"Topic1\", \"Topic1\", \"Topic1\", \"Topic1\", \"Topic1\", \"Topic1\", \"Topic1\", \"Topic1\", \"Topic1\", \"Topic1\", \"Topic1\", \"Topic1\", \"Topic1\", \"Topic1\", \"Topic1\", \"Topic1\", \"Topic1\", \"Topic1\", \"Topic1\", \"Topic1\", \"Topic1\", \"Topic1\", \"Topic1\", \"Topic1\", \"Topic1\", \"Topic1\", \"Topic1\", \"Topic1\", \"Topic1\", \"Topic1\", \"Topic1\", \"Topic1\", \"Topic1\", \"Topic1\", \"Topic1\", \"Topic1\", \"Topic1\", \"Topic1\", \"Topic1\", \"Topic1\", \"Topic1\", \"Topic1\", \"Topic1\", \"Topic1\", \"Topic1\", \"Topic1\", \"Topic1\", \"Topic1\", \"Topic1\", \"Topic1\", \"Topic1\", \"Topic1\", \"Topic1\", \"Topic1\", \"Topic2\", \"Topic2\", \"Topic2\", \"Topic2\", \"Topic2\", \"Topic2\", \"Topic2\", \"Topic2\", \"Topic2\", \"Topic2\", \"Topic2\", \"Topic2\", \"Topic2\", \"Topic2\", \"Topic2\", \"Topic2\", \"Topic2\", \"Topic2\", \"Topic2\", \"Topic2\", \"Topic2\", \"Topic2\", \"Topic2\", \"Topic2\", \"Topic2\", \"Topic2\", \"Topic2\", \"Topic2\", \"Topic2\", \"Topic2\", \"Topic2\", \"Topic2\", \"Topic2\", \"Topic2\", \"Topic2\", \"Topic2\", \"Topic2\", \"Topic2\", \"Topic2\", \"Topic2\", \"Topic2\", \"Topic2\", \"Topic2\", \"Topic2\", \"Topic2\", \"Topic2\", \"Topic2\", \"Topic2\", \"Topic2\", \"Topic2\", \"Topic2\", \"Topic2\", \"Topic2\", \"Topic2\", \"Topic2\", \"Topic2\", \"Topic2\", \"Topic2\", \"Topic2\", \"Topic2\", \"Topic2\", \"Topic2\", \"Topic2\", \"Topic2\", \"Topic2\", \"Topic2\", \"Topic2\", \"Topic2\", \"Topic2\", \"Topic2\", \"Topic2\", \"Topic2\", \"Topic2\", \"Topic2\", \"Topic2\", \"Topic2\", \"Topic2\", \"Topic2\", \"Topic2\", \"Topic2\", \"Topic2\", \"Topic2\", \"Topic2\", \"Topic2\", \"Topic2\", \"Topic2\", \"Topic2\", \"Topic2\", \"Topic2\", \"Topic2\", \"Topic2\", \"Topic2\", \"Topic2\", \"Topic2\", \"Topic2\", \"Topic3\", \"Topic3\", \"Topic3\", \"Topic3\", \"Topic3\", \"Topic3\", \"Topic3\", \"Topic3\", \"Topic3\", \"Topic3\", \"Topic3\", \"Topic3\", \"Topic3\", \"Topic3\", \"Topic3\", \"Topic3\", \"Topic3\", \"Topic3\", \"Topic3\", \"Topic3\", \"Topic3\", \"Topic3\", \"Topic3\", \"Topic3\", \"Topic3\", \"Topic3\", \"Topic3\", \"Topic3\", \"Topic3\", \"Topic3\", \"Topic3\", \"Topic3\", \"Topic3\", \"Topic3\", \"Topic3\", \"Topic3\", \"Topic3\", \"Topic3\", \"Topic3\", \"Topic3\", \"Topic3\", \"Topic3\", \"Topic3\", \"Topic3\", \"Topic3\", \"Topic3\", \"Topic3\", \"Topic3\", \"Topic3\", \"Topic3\", \"Topic3\", \"Topic3\", \"Topic3\", \"Topic3\", \"Topic3\", \"Topic3\", \"Topic3\", \"Topic3\", \"Topic3\", \"Topic3\", \"Topic3\", \"Topic3\", \"Topic3\", \"Topic3\", \"Topic3\", \"Topic3\", \"Topic3\", \"Topic3\", \"Topic3\", \"Topic3\", \"Topic3\", \"Topic3\", \"Topic3\", \"Topic3\", \"Topic3\", \"Topic3\", \"Topic3\", \"Topic3\", \"Topic3\", \"Topic3\", \"Topic3\", \"Topic3\", \"Topic3\", \"Topic3\", \"Topic3\", \"Topic3\", \"Topic3\", \"Topic3\", \"Topic4\", \"Topic4\", \"Topic4\", \"Topic4\", \"Topic4\", \"Topic4\", \"Topic4\", \"Topic4\", \"Topic4\", \"Topic4\", \"Topic4\", \"Topic4\", \"Topic4\", \"Topic4\", \"Topic4\", \"Topic4\", \"Topic4\", \"Topic4\", \"Topic4\", \"Topic4\", \"Topic4\", \"Topic4\", \"Topic4\", \"Topic4\", \"Topic4\", \"Topic4\", \"Topic4\", \"Topic4\", \"Topic4\", \"Topic4\", \"Topic4\", \"Topic4\", \"Topic4\", \"Topic4\", \"Topic4\", \"Topic4\", \"Topic4\", \"Topic4\", \"Topic4\", \"Topic4\", \"Topic4\", \"Topic4\", \"Topic4\", \"Topic4\", \"Topic4\", \"Topic4\", \"Topic4\", \"Topic4\", \"Topic4\", \"Topic4\", \"Topic4\", \"Topic4\", \"Topic4\", \"Topic4\", \"Topic4\", \"Topic4\", \"Topic4\", \"Topic4\", \"Topic4\", \"Topic4\", \"Topic4\", \"Topic4\", \"Topic4\", \"Topic4\", \"Topic4\", \"Topic4\", \"Topic4\", \"Topic4\", \"Topic4\", \"Topic4\", \"Topic4\", \"Topic4\", \"Topic4\", \"Topic4\", \"Topic4\", \"Topic4\", \"Topic4\", \"Topic4\", \"Topic4\", \"Topic4\", \"Topic4\", \"Topic4\", \"Topic4\", \"Topic4\", \"Topic4\", \"Topic4\", \"Topic4\", \"Topic4\", \"Topic4\", \"Topic4\", \"Topic4\", \"Topic4\", \"Topic4\", \"Topic4\", \"Topic4\", \"Topic4\", \"Topic4\", \"Topic5\", \"Topic5\", \"Topic5\", \"Topic5\", \"Topic5\", \"Topic5\", \"Topic5\", \"Topic5\", \"Topic5\", \"Topic5\", \"Topic5\", \"Topic5\", \"Topic5\", \"Topic5\", \"Topic5\", \"Topic5\", \"Topic5\", \"Topic5\", \"Topic5\", \"Topic5\", \"Topic5\", \"Topic5\", \"Topic5\", \"Topic5\", \"Topic5\", \"Topic5\", \"Topic5\", \"Topic5\", \"Topic5\", \"Topic5\", \"Topic5\", \"Topic5\", \"Topic5\", \"Topic5\", \"Topic5\", \"Topic5\", \"Topic5\", \"Topic5\", \"Topic5\", \"Topic5\", \"Topic5\", \"Topic5\", \"Topic5\", \"Topic5\", \"Topic5\", \"Topic5\", \"Topic5\", \"Topic5\", \"Topic5\", \"Topic5\", \"Topic5\", \"Topic5\", \"Topic5\", \"Topic5\", \"Topic5\", \"Topic5\", \"Topic5\", \"Topic5\", \"Topic5\", \"Topic5\", \"Topic5\", \"Topic5\", \"Topic5\", \"Topic5\", \"Topic5\", \"Topic5\", \"Topic5\", \"Topic5\", \"Topic5\", \"Topic5\", \"Topic5\", \"Topic5\", \"Topic5\", \"Topic5\", \"Topic5\", \"Topic5\", \"Topic5\", \"Topic5\", \"Topic5\", \"Topic5\", \"Topic5\", \"Topic5\", \"Topic5\", \"Topic5\", \"Topic5\", \"Topic5\", \"Topic5\", \"Topic5\", \"Topic5\", \"Topic5\", \"Topic5\", \"Topic5\", \"Topic5\", \"Topic5\", \"Topic6\", \"Topic6\", \"Topic6\", \"Topic6\", \"Topic6\", \"Topic6\", \"Topic6\", \"Topic6\", \"Topic6\", \"Topic6\", \"Topic6\", \"Topic6\", \"Topic6\", \"Topic6\", \"Topic6\", \"Topic6\", \"Topic6\", \"Topic6\", \"Topic6\", \"Topic6\", \"Topic6\", \"Topic6\", \"Topic6\", \"Topic6\", \"Topic6\", \"Topic6\", \"Topic6\", \"Topic6\", \"Topic6\", \"Topic6\", \"Topic6\", \"Topic6\", \"Topic6\", \"Topic6\", \"Topic6\", \"Topic6\", \"Topic6\", \"Topic6\", \"Topic6\", \"Topic6\", \"Topic6\", \"Topic6\", \"Topic6\", \"Topic6\", \"Topic6\", \"Topic6\", \"Topic6\", \"Topic6\", \"Topic6\", \"Topic6\", \"Topic6\", \"Topic6\", \"Topic6\", \"Topic6\", \"Topic6\", \"Topic6\", \"Topic6\", \"Topic6\", \"Topic6\", \"Topic6\", \"Topic6\", \"Topic6\", \"Topic6\", \"Topic6\", \"Topic6\", \"Topic6\", \"Topic6\", \"Topic6\", \"Topic6\", \"Topic6\", \"Topic6\", \"Topic6\", \"Topic6\", \"Topic6\", \"Topic6\", \"Topic6\", \"Topic6\", \"Topic6\", \"Topic6\", \"Topic6\", \"Topic6\", \"Topic6\", \"Topic6\", \"Topic6\", \"Topic6\", \"Topic6\", \"Topic6\", \"Topic6\", \"Topic6\", \"Topic6\", \"Topic7\", \"Topic7\", \"Topic7\", \"Topic7\", \"Topic7\", \"Topic7\", \"Topic7\", \"Topic7\", \"Topic7\", \"Topic7\", \"Topic7\", \"Topic7\", \"Topic7\", \"Topic7\", \"Topic7\", \"Topic7\", \"Topic7\", \"Topic7\", \"Topic7\", \"Topic7\", \"Topic7\", \"Topic7\", \"Topic7\", \"Topic7\", \"Topic7\", \"Topic7\", \"Topic7\", \"Topic7\", \"Topic7\", \"Topic7\", \"Topic7\", \"Topic7\", \"Topic7\", \"Topic7\", \"Topic7\", \"Topic7\", \"Topic7\", \"Topic7\", \"Topic7\", \"Topic7\", \"Topic7\", \"Topic7\", \"Topic7\", \"Topic7\", \"Topic7\", \"Topic7\", \"Topic7\", \"Topic7\", \"Topic7\", \"Topic7\", \"Topic7\", \"Topic7\", \"Topic7\", \"Topic7\", \"Topic7\", \"Topic7\", \"Topic7\", \"Topic7\", \"Topic7\", \"Topic7\", \"Topic7\", \"Topic7\", \"Topic7\", \"Topic7\", \"Topic7\", \"Topic7\", \"Topic7\", \"Topic7\", \"Topic7\", \"Topic7\", \"Topic7\", \"Topic7\", \"Topic7\", \"Topic7\", \"Topic7\", \"Topic7\", \"Topic7\", \"Topic7\", \"Topic7\", \"Topic7\", \"Topic7\", \"Topic7\", \"Topic7\", \"Topic7\", \"Topic7\", \"Topic7\", \"Topic8\", \"Topic8\", \"Topic8\", \"Topic8\", \"Topic8\", \"Topic8\", \"Topic8\", \"Topic8\", \"Topic8\", \"Topic8\", \"Topic8\", \"Topic8\", \"Topic8\", \"Topic8\", \"Topic8\", \"Topic8\", \"Topic8\", \"Topic8\", \"Topic8\", \"Topic8\", \"Topic8\", \"Topic8\", \"Topic8\", \"Topic8\", \"Topic8\", \"Topic8\", \"Topic8\", \"Topic8\", \"Topic8\", \"Topic8\", \"Topic8\", \"Topic8\", \"Topic8\", \"Topic8\", \"Topic8\", \"Topic8\", \"Topic8\", \"Topic8\", \"Topic8\", \"Topic8\", \"Topic8\", \"Topic8\", \"Topic8\", \"Topic8\", \"Topic8\", \"Topic8\", \"Topic8\", \"Topic8\", \"Topic8\", \"Topic8\", \"Topic8\", \"Topic8\", \"Topic8\", \"Topic8\", \"Topic8\", \"Topic8\", \"Topic8\", \"Topic8\", \"Topic8\", \"Topic8\", \"Topic8\", \"Topic8\", \"Topic8\", \"Topic8\", \"Topic8\", \"Topic8\", \"Topic8\", \"Topic8\", \"Topic8\", \"Topic8\", \"Topic8\", \"Topic8\", \"Topic8\", \"Topic8\", \"Topic8\", \"Topic8\", \"Topic8\", \"Topic8\", \"Topic8\", \"Topic8\", \"Topic8\", \"Topic8\", \"Topic8\", \"Topic8\", \"Topic8\", \"Topic8\", \"Topic8\", \"Topic8\", \"Topic8\", \"Topic9\", \"Topic9\", \"Topic9\", \"Topic9\", \"Topic9\", \"Topic9\", \"Topic9\", \"Topic9\", \"Topic9\", \"Topic9\", \"Topic9\", \"Topic9\", \"Topic9\", \"Topic9\", \"Topic9\", \"Topic9\", \"Topic9\", \"Topic9\", \"Topic9\", \"Topic9\", \"Topic9\", \"Topic9\", \"Topic9\", \"Topic9\", \"Topic9\", \"Topic9\", \"Topic9\", \"Topic9\", \"Topic9\", \"Topic9\", \"Topic9\", \"Topic9\", \"Topic9\", \"Topic9\", \"Topic9\", \"Topic9\", \"Topic9\", \"Topic9\", \"Topic9\", \"Topic9\", \"Topic9\", \"Topic9\", \"Topic9\", \"Topic9\", \"Topic9\", \"Topic9\", \"Topic9\", \"Topic9\", \"Topic9\", \"Topic9\", \"Topic9\", \"Topic9\", \"Topic9\", \"Topic9\", \"Topic9\", \"Topic9\", \"Topic9\", \"Topic9\", \"Topic9\", \"Topic9\", \"Topic9\", \"Topic9\", \"Topic9\", \"Topic9\", \"Topic9\", \"Topic9\", \"Topic9\", \"Topic9\", \"Topic9\", \"Topic9\", \"Topic9\", \"Topic9\", \"Topic9\", \"Topic9\", \"Topic9\", \"Topic9\", \"Topic9\", \"Topic9\", \"Topic9\", \"Topic9\", \"Topic9\", \"Topic9\", \"Topic9\", \"Topic9\", \"Topic9\", \"Topic9\", \"Topic9\", \"Topic10\", \"Topic10\", \"Topic10\", \"Topic10\", \"Topic10\", \"Topic10\", \"Topic10\", \"Topic10\", \"Topic10\", \"Topic10\", \"Topic10\", \"Topic10\", \"Topic10\", \"Topic10\", \"Topic10\", \"Topic10\", \"Topic10\", \"Topic10\", \"Topic10\", \"Topic10\", \"Topic10\", \"Topic10\", \"Topic10\", \"Topic10\", \"Topic10\", \"Topic10\", \"Topic10\", \"Topic10\", \"Topic10\", \"Topic10\", \"Topic10\", \"Topic10\", \"Topic10\", \"Topic10\", \"Topic10\", \"Topic10\", \"Topic10\", \"Topic10\", \"Topic10\", \"Topic10\", \"Topic10\", \"Topic10\", \"Topic10\", \"Topic10\", \"Topic10\", \"Topic10\", \"Topic10\", \"Topic10\", \"Topic10\", \"Topic10\", \"Topic10\", \"Topic10\", \"Topic10\", \"Topic10\", \"Topic10\", \"Topic10\", \"Topic10\", \"Topic10\", \"Topic10\", \"Topic10\", \"Topic10\", \"Topic10\", \"Topic10\", \"Topic10\", \"Topic10\", \"Topic10\", \"Topic10\", \"Topic10\", \"Topic10\", \"Topic10\", \"Topic10\", \"Topic10\", \"Topic10\", \"Topic10\", \"Topic11\", \"Topic11\", \"Topic11\", \"Topic11\", \"Topic11\", \"Topic11\", \"Topic11\", \"Topic11\", \"Topic11\", \"Topic11\", \"Topic11\", \"Topic11\", \"Topic11\", \"Topic11\", \"Topic11\", \"Topic11\", \"Topic11\", \"Topic11\", \"Topic11\", \"Topic11\", \"Topic11\", \"Topic11\", \"Topic11\", \"Topic11\", \"Topic11\", \"Topic11\", \"Topic11\", \"Topic11\", \"Topic11\", \"Topic11\", \"Topic11\", \"Topic11\", \"Topic11\", \"Topic11\", \"Topic11\", \"Topic11\", \"Topic11\", \"Topic11\", \"Topic11\", \"Topic11\", \"Topic11\", \"Topic11\", \"Topic11\", \"Topic11\", \"Topic11\", \"Topic11\", \"Topic11\", \"Topic11\", \"Topic11\", \"Topic11\", \"Topic11\", \"Topic11\", \"Topic11\", \"Topic11\", \"Topic11\", \"Topic11\", \"Topic11\", \"Topic11\", \"Topic11\", \"Topic11\", \"Topic11\", \"Topic11\", \"Topic11\", \"Topic11\", \"Topic11\", \"Topic11\", \"Topic11\", \"Topic11\", \"Topic11\", \"Topic11\", \"Topic11\", \"Topic11\", \"Topic11\", \"Topic11\", \"Topic11\", \"Topic11\", \"Topic11\", \"Topic11\", \"Topic11\", \"Topic11\", \"Topic11\", \"Topic11\", \"Topic11\", \"Topic11\", \"Topic11\", \"Topic11\", \"Topic11\", \"Topic11\", \"Topic12\", \"Topic12\", \"Topic12\", \"Topic12\", \"Topic12\", \"Topic12\", \"Topic12\", \"Topic12\", \"Topic12\", \"Topic12\", \"Topic12\", \"Topic12\", \"Topic12\", \"Topic12\", \"Topic12\", \"Topic12\", \"Topic12\", \"Topic12\", \"Topic12\", \"Topic12\", \"Topic12\", \"Topic12\", \"Topic12\", \"Topic12\", \"Topic12\", \"Topic12\", \"Topic12\", \"Topic12\", \"Topic12\", \"Topic12\", \"Topic12\", \"Topic12\", \"Topic12\", \"Topic12\", \"Topic12\", \"Topic12\", \"Topic12\", \"Topic12\", \"Topic12\", \"Topic12\", \"Topic12\", \"Topic12\", \"Topic12\", \"Topic12\", \"Topic12\", \"Topic12\", \"Topic12\", \"Topic12\", \"Topic12\", \"Topic12\", \"Topic12\", \"Topic12\", \"Topic12\", \"Topic12\", \"Topic12\", \"Topic12\", \"Topic12\", \"Topic12\", \"Topic12\", \"Topic12\", \"Topic12\", \"Topic12\", \"Topic12\", \"Topic12\", \"Topic12\", \"Topic12\", \"Topic12\", \"Topic12\", \"Topic12\", \"Topic13\", \"Topic13\", \"Topic13\", \"Topic13\", \"Topic13\", \"Topic13\", \"Topic13\", \"Topic13\", \"Topic13\", \"Topic13\", \"Topic13\", \"Topic13\", \"Topic13\", \"Topic13\", \"Topic13\", \"Topic13\", \"Topic13\", \"Topic13\", \"Topic13\", \"Topic13\", \"Topic13\", \"Topic13\", \"Topic13\", \"Topic13\", \"Topic13\", \"Topic13\", \"Topic13\", \"Topic13\", \"Topic13\", \"Topic13\", \"Topic13\", \"Topic13\", \"Topic13\", \"Topic13\", \"Topic13\", \"Topic13\", \"Topic13\", \"Topic13\", \"Topic13\", \"Topic13\", \"Topic13\", \"Topic13\", \"Topic13\", \"Topic13\", \"Topic13\", \"Topic13\", \"Topic13\", \"Topic13\", \"Topic13\", \"Topic13\", \"Topic13\", \"Topic13\", \"Topic13\", \"Topic13\", \"Topic13\", \"Topic13\", \"Topic13\", \"Topic13\", \"Topic13\", \"Topic13\", \"Topic13\", \"Topic13\", \"Topic13\", \"Topic13\", \"Topic13\", \"Topic13\", \"Topic13\", \"Topic13\", \"Topic13\", \"Topic13\", \"Topic13\", \"Topic14\", \"Topic14\", \"Topic14\", \"Topic14\", \"Topic14\", \"Topic14\", \"Topic14\", \"Topic14\", \"Topic14\", \"Topic14\", \"Topic14\", \"Topic14\", \"Topic14\", \"Topic14\", \"Topic14\", \"Topic14\", \"Topic14\", \"Topic14\", \"Topic14\", \"Topic14\", \"Topic14\", \"Topic14\", \"Topic14\", \"Topic14\", \"Topic14\", \"Topic14\", \"Topic14\", \"Topic14\", \"Topic14\", \"Topic14\", \"Topic14\", \"Topic14\", \"Topic14\", \"Topic14\", \"Topic14\", \"Topic14\", \"Topic14\", \"Topic14\", \"Topic14\", \"Topic14\", \"Topic14\", \"Topic14\", \"Topic14\", \"Topic14\", \"Topic14\", \"Topic14\", \"Topic14\", \"Topic14\", \"Topic14\", \"Topic14\", \"Topic14\", \"Topic14\", \"Topic14\", \"Topic14\", \"Topic14\", \"Topic14\", \"Topic14\", \"Topic14\", \"Topic14\", \"Topic14\", \"Topic14\", \"Topic14\", \"Topic14\", \"Topic14\", \"Topic14\", \"Topic14\", \"Topic14\", \"Topic14\", \"Topic14\", \"Topic14\", \"Topic14\", \"Topic14\", \"Topic14\", \"Topic14\", \"Topic14\", \"Topic14\", \"Topic14\", \"Topic14\", \"Topic15\", \"Topic15\", \"Topic15\", \"Topic15\", \"Topic15\", \"Topic15\", \"Topic15\", \"Topic15\", \"Topic15\", \"Topic15\", \"Topic15\", \"Topic15\", \"Topic15\", \"Topic15\", \"Topic15\", \"Topic15\", \"Topic15\", \"Topic15\", \"Topic15\", \"Topic15\", \"Topic15\", \"Topic15\", \"Topic15\", \"Topic15\", \"Topic15\", \"Topic15\", \"Topic15\", \"Topic15\", \"Topic15\", \"Topic15\", \"Topic15\", \"Topic15\", \"Topic15\", \"Topic15\", \"Topic15\", \"Topic15\", \"Topic15\", \"Topic15\", \"Topic15\", \"Topic15\", \"Topic15\", \"Topic15\", \"Topic15\", \"Topic15\", \"Topic15\", \"Topic15\", \"Topic15\", \"Topic15\", \"Topic15\", \"Topic15\", \"Topic15\", \"Topic15\", \"Topic15\", \"Topic15\", \"Topic15\", \"Topic15\", \"Topic15\", \"Topic15\", \"Topic15\", \"Topic15\", \"Topic15\", \"Topic15\", \"Topic15\", \"Topic15\", \"Topic15\", \"Topic15\", \"Topic15\", \"Topic15\", \"Topic15\", \"Topic15\", \"Topic15\", \"Topic15\", \"Topic15\", \"Topic15\", \"Topic15\", \"Topic15\", \"Topic15\", \"Topic15\", \"Topic15\", \"Topic15\", \"Topic15\", \"Topic15\", \"Topic15\", \"Topic15\", \"Topic15\", \"Topic15\", \"Topic15\", \"Topic15\", \"Topic15\", \"Topic15\", \"Topic15\", \"Topic15\", \"Topic15\", \"Topic15\", \"Topic15\", \"Topic15\"], \"logprob\": [30.0, 29.0, 28.0, 27.0, 26.0, 25.0, 24.0, 23.0, 22.0, 21.0, 20.0, 19.0, 18.0, 17.0, 16.0, 15.0, 14.0, 13.0, 12.0, 11.0, 10.0, 9.0, 8.0, 7.0, 6.0, 5.0, 4.0, 3.0, 2.0, 1.0, -8.2602, -3.5056, -6.1202, -6.063, -6.1202, -7.7006, -8.7302, -6.5785, -8.7302, -7.7747, -8.1425, -7.0075, -6.9385, -8.7302, -8.7302, -8.3938, -8.3938, -8.7302, -8.1425, -7.3952, -7.8548, -7.6316, -7.3439, -8.0371, -8.0371, -8.7302, -7.1616, -7.7006, -7.7006, -7.8548, -6.7288, -7.0075, -7.0438, -7.2952, -7.2952, -7.4493, -7.5065, -7.7006, -7.7006, -7.7006, -7.7747, -7.7747, -5.2771, -4.0207, -6.0222, -4.9325, -6.602, -5.9959, -6.533, -7.0438, -6.7562, -5.4052, -5.5439, -7.1616, -4.5528, -6.2453, -6.2621, -4.5376, -6.2453, -5.2098, -5.6392, -5.7049, -3.1127, -5.6953, -3.1984, -4.2852, -4.9147, -5.2583, -5.9576, -4.8384, -5.2771, -5.7345, -5.8288, -5.6668, -5.5861, -5.4876, -4.4398, -5.0021, -4.8222, -5.4876, -5.3357, -5.0265, -5.4052, -5.4876, -5.5194, -5.5194, -5.3768, -5.2583, -5.4645, -5.427, -5.5034, -5.5114, -8.2205, -7.0418, -7.2089, -8.5082, -8.5082, -8.2205, -7.5919, -8.1027, -8.6905, -8.5082, -7.815, -8.2205, -8.354, -8.354, -8.354, -6.7736, -8.354, -7.902, -8.6905, -8.354, -8.354, -8.6905, -8.6905, -8.2205, -7.735, -8.354, -7.9973, -8.6905, -8.5082, -6.9677, -5.555, -5.8573, -6.7446, -6.7736, -6.8987, -6.8987, -7.0041, -7.0041, -7.081, -7.1644, -7.2089, -7.2089, -7.2554, -7.2554, -7.3042, -7.3555, -7.3555, -7.4095, -7.4095, -7.4667, -7.4667, -7.5919, -7.5919, -7.5919, -7.6609, -5.6178, -6.689, -6.3487, -5.2893, -5.0218, -5.0424, -5.5292, -3.9702, -5.17, -5.9055, -5.0635, -5.5463, -6.2569, -5.9055, -4.471, -4.7278, -5.1641, -4.9339, -3.6933, -5.9305, -4.6545, -5.276, -4.8794, -4.8319, -4.8446, -4.5829, -4.7164, -5.3232, -4.63, -5.1409, -5.4557, -5.1409, -5.1466, -5.1641, -5.1181, -5.2826, -5.2, -5.3441, -5.3727, -5.4324, -7.5393, -4.8583, -5.0999, -7.3029, -6.1869, -7.6824, -7.3029, -7.1563, -7.6824, -7.8495, -6.8801, -7.5393, -7.6824, -8.6379, -8.3015, -8.0501, -8.6379, -8.3015, -8.6379, -8.6379, -7.9448, -8.6379, -8.6379, -7.2028, -7.2028, -7.2028, -8.3015, -7.9448, -8.0501, -8.0501, -5.3347, -7.357, -7.357, -7.7625, -7.9448, -8.0501, -8.0501, -8.1679, -8.1679, -6.5838, -6.0279, -4.3393, -5.9989, -6.8462, -4.9146, -5.556, -6.9893, -5.9036, -7.0693, -6.3762, -7.0693, -7.0693, -7.1563, -6.7816, -6.9515, -5.2986, -5.6935, -5.1475, -5.0216, -4.498, -6.3972, -4.8629, -4.0032, -4.9391, -5.1414, -5.9433, -3.9558, -4.5303, -5.3274, -5.1975, -5.3646, -4.3923, -4.342, -6.073, -5.2706, -4.8402, -5.1354, -4.5369, -4.8721, -4.9441, -4.71, -5.0941, -5.1414, -5.2039, -5.2434, -5.166, -5.0712, -5.2706, -7.3675, -8.2548, -7.5616, -7.7158, -7.5616, -8.0035, -8.4089, -6.1403, -7.7158, -8.2548, -8.5913, -6.5371, -8.5913, -6.6743, -8.4089, -8.2548, -7.7158, -7.8028, -7.5616, -7.8981, -8.4089, -7.5616, -8.4089, -7.3675, -6.5371, -7.6357, -8.2548, -8.0035, -8.5913, -8.5913, -6.463, -6.735, -7.1562, -7.3675, -7.4281, -7.4281, -7.4926, -7.5616, -7.5616, -7.6357, -7.7158, -7.7158, -7.8028, -7.8981, -5.996, -6.463, -5.1069, -5.4645, -6.463, -6.6743, -6.9818, -6.5371, -6.3295, -6.5631, -6.463, -6.0263, -5.3103, -6.2495, -6.0263, -5.1255, -6.2887, -5.3487, -5.224, -4.975, -6.0898, -6.2887, -6.6454, -6.011, -5.2379, -6.0736, -4.8488, -5.2734, -5.224, -4.9226, -4.7802, -5.8832, -4.959, -4.8116, -4.8441, -5.6681, -5.0767, -4.6516, -4.8974, -5.4216, -5.6574, -5.2449, -5.4385, -5.3804, -5.6898, -5.4558, -5.5856, -5.6681, -5.5467, -5.5563, -5.5955, -5.5002, -5.5757, -7.3624, -8.0556, -8.1891, -6.3064, -7.8325, -7.8325, -7.427, -8.3433, -6.3738, -7.3018, -8.1891, -7.3624, -7.0905, -7.0905, -7.9378, -6.2849, -8.3433, -7.7371, -7.9378, -7.5701, -8.3433, -8.0556, -8.1891, -7.8325, -6.0575, -8.3433, -7.9378, -8.0556, -8.5256, -8.5256, -6.3974, -6.5515, -6.8028, -6.9162, -7.044, -7.0905, -7.1393, -7.427, -7.496, -7.6501, -7.6501, -7.7371, -7.7371, -7.7371, -7.8325, -6.3974, -6.6693, -6.7338, -4.9255, -6.7677, -4.1587, -7.1393, -6.9162, -5.4346, -7.1906, -6.1277, -6.7338, -4.7784, -6.3974, -4.8268, -6.3284, -6.8028, -6.3508, -6.223, -5.4346, -5.3988, -4.1019, -4.3952, -5.753, -5.8043, -4.7598, -5.0981, -5.2988, -5.5812, -5.5603, -5.6464, -6.0575, -5.3475, -5.0474, -5.1583, -5.1934, -5.1792, -5.331, -5.4529, -5.2447, -5.7656, -5.2006, -5.4346, -5.7406, -5.5299, -5.4529, -5.6024, -5.6242, -5.6242, -7.1663, -7.1663, -8.5013, -6.6142, -7.0197, -7.7129, -7.115, -8.0313, -6.0164, -6.8919, -8.5013, -8.5013, -7.6258, -8.319, -6.9327, -6.0164, -8.0313, -7.8082, -8.0313, -7.5458, -7.0662, -6.0503, -6.8919, -6.1405, -8.319, -8.1648, -7.4027, -8.319, -8.319, -8.319, -5.2129, -4.9988, -6.3731, -6.8526, -6.8526, -7.115, -7.115, -7.3382, -7.5458, -5.9999, -7.6258, -7.6258, -7.6258, -7.6258, -5.8623, -5.2824, -6.7095, -5.8912, -5.6799, -5.9211, -6.9327, -5.6681, -6.3731, -5.9061, -5.2824, -4.5578, -6.3495, -5.8067, -5.754, -6.0677, -4.1653, -4.9868, -4.3331, -6.2189, -5.8481, -6.0332, -5.9364, -5.0048, -5.2824, -5.6681, -6.0332, -4.9749, -5.1981, -5.2432, -5.1763, -5.4379, -5.2432, -4.9517, -5.3316, -5.4956, -5.4194, -5.6334, -5.6448, -5.589, -5.6109, -5.4664, -5.6919, -5.5464, -5.476, -5.6109, -6.8368, -8.4055, -8.2231, -8.4055, -8.2231, -5.0804, -7.0192, -6.9704, -7.617, -7.0705, -6.6827, -8.069, -8.2231, -7.3758, -7.0705, -7.7123, -6.6476, -6.6137, -7.53, -7.8177, -5.7108, -6.9704, -7.8177, -7.8177, -8.069, -7.3758, -5.8718, -6.9704, -7.8177, -6.9704, -4.2466, -6.8368, -6.8794, -7.0192, -5.7244, -7.1245, -5.7522, -7.4499, -7.53, -7.53, -7.7123, -6.0076, -6.3513, -5.3705, -5.4198, -6.2307, -5.504, -5.9718, -5.5722, -5.0109, -3.2899, -5.4931, -5.5376, -5.7664, -4.991, -4.4542, -4.1772, -5.1629, -4.8791, -5.9206, -5.4505, -3.7196, -5.6204, -5.1866, -5.6329, -5.27, -5.2027, -5.504, -4.635, -4.7626, -4.1978, -5.461, -4.5639, -4.8387, -5.2613, -5.0382, -5.2358, -4.8387, -4.9089, -5.1474, -5.0661, -5.4299, -5.3421, -5.4097, -5.4097, -5.4097, -6.8078, -8.1515, -7.4584, -6.9988, -6.0721, -7.4584, -6.7652, -8.1515, -8.1515, -8.1515, -6.2544, -7.1101, -6.8522, -6.4169, -7.7461, -7.6407, -8.3338, -7.1101, -7.6407, -6.4775, -6.4775, -6.4468, -5.8162, -8.3338, -7.9974, -7.2352, -8.3338, -7.7461, -7.3042, -7.5454, -7.5454, -7.5454, -7.6407, -7.7461, -7.8638, -7.9974, -7.9974, -6.0313, -6.1591, -6.4468, -4.5228, -6.3324, -4.6806, -5.5613, -6.9988, -5.7689, -7.0529, -4.7122, -3.9468, -6.5421, -6.2297, -6.2797, -4.406, -5.5995, -4.7615, -4.5096, -4.7728, -5.9543, -5.2248, -5.6392, -4.8934, -3.6972, -5.2705, -5.992, -5.6258, -5.2612, -5.2159, -4.1625, -4.1625, -4.3865, -4.6652, -5.4546, -4.5052, -4.4139, -4.8313, -4.4795, -4.7283, -4.8016, -4.3121, -5.2519, -5.2612, -5.0913, -4.9529, -5.0088, -5.0233, -5.1984, -5.1393, -5.1811, -5.1642, -7.4651, -7.4651, -6.772, -7.4651, -6.5308, -7.155, -6.8185, -6.1495, -5.2679, -6.2795, -7.5604, -8.2536, -5.6289, -5.6886, -7.9171, -6.0564, -8.0713, -8.0713, -8.0713, -7.7836, -7.9171, -8.0713, -7.5604, -7.6658, -6.8185, -7.7836, -6.9727, -7.7836, -8.2536, -7.2981, -6.429, -6.4957, -6.685, -6.685, -6.7275, -7.224, -7.3781, -7.7836, -5.9312, -6.2795, -6.5308, -5.9118, -6.685, -6.685, -6.3665, -5.7522, -4.9727, -6.3665, -6.8673, -5.6734, -6.6442, -5.3412, -5.9312, -5.1445, -5.9918, -3.9441, -4.6812, -4.7879, -5.6145, -5.7522, -3.5139, -4.6925, -4.5017, -5.6145, -4.6373, -4.3416, -5.6289, -3.8892, -5.2679, -4.4649, -4.6756, -4.659, -5.011, -5.5455, -4.9802, -5.3304, -5.2579, -4.7331, -4.6982, -5.1268, -5.1996, -5.0508, -4.8794, -5.2883, -5.1996, -5.2883, -5.2781, -5.2434, -5.1245, -7.7179, -8.0055, -7.8514, -5.9906, -6.2419, -6.5392, -7.8514, -6.9641, -8.0055, -8.0055, -6.6192, -7.8514, -7.8514, -8.0055, -7.7179, -7.7179, -7.7179, -7.7179, -8.1879, -8.0055, -8.1879, -7.4947, -7.3994, -8.1879, -8.0055, -7.3124, -7.7179, -7.1582, -7.0247, -7.7179, -7.8514, -7.8514, -3.6467, -5.7029, -4.5141, -4.8557, -5.3314, -6.2419, -5.2022, -6.8529, -4.0607, -7.0247, -4.5609, -3.7959, -6.3008, -5.3314, -4.6853, -6.0361, -5.4278, -3.4587, -5.5206, -3.2737, -5.2022, -3.9742, -4.9851, -4.3042, -5.4278, -5.2226, -4.6853, -4.2482, -5.5926, -3.9742, -4.4743, -4.9453, -4.499, -4.977, -4.9221, -4.741, -5.2864, -5.2755, -5.2329, -5.3087, -7.1288, -7.3699, -5.5631, -7.9761, -5.8558, -7.4653, -5.4371, -5.1234, -7.4653, -6.2713, -5.2792, -7.6884, -7.5706, -6.1043, -7.5706, -7.6884, -8.1584, -7.1288, -7.3699, -6.9953, -6.7233, -6.6768, -7.8219, -7.9761, -7.4653, -7.2029, -7.4653, -5.9392, -7.2829, -6.8234, -3.6608, -5.7789, -6.1043, -6.3339, -6.7721, -6.8234, -6.9346, -6.9346, -6.9953, -6.9953, -6.9953, -7.0598, -7.1288, -7.2029, -7.2029, -5.257, -4.3254, -6.3666, -5.657, -4.9395, -5.6407, -4.8479, -6.5097, -6.549, -5.5193, -5.9392, -5.657, -6.1043, -4.812, -6.1569, -5.5782, -4.885, -5.0857, -5.8966, -5.6247, -5.3135, -5.6735, -5.2905, -5.0229, -4.9638, -5.5935, -4.3341, -5.1727, -5.0405, -4.8479, -5.4912, -5.0765, -4.9803, -4.7774, -5.1829, -5.3019, -5.1044, -5.0765, -5.1931, -5.4912, -5.424, -5.4504, -5.4371, -3.7814, -7.2584, -7.2584, -7.2584, -4.8121, -4.7005, -8.0469, -4.8121, -7.7104, -3.9796, -6.9483, -7.5769, -7.3537, -7.5769, -7.3537, -7.0173, -6.7119, -6.7119, -7.0914, -7.4591, -7.8645, -7.8645, -7.8645, -7.8645, -7.8645, -7.8645, -8.0469, -7.8645, -7.8645, -7.3537, -3.9197, -3.1717, -5.0119, -5.0412, -7.7104, -5.8951, -4.8605, -2.8878, -5.2496, -5.7443, -5.0612, -6.3605, -5.0816, -5.092, -5.1024, -4.5146, -6.2551, -3.7321, -5.8951, -4.4414, -4.9201, -5.2619, -3.5902, -4.281, -4.7005, -5.9186, -5.0313, -5.0713, -4.639, -4.9289, -4.6194, -4.0691, -4.9114, -4.5811, -4.7735, -4.9201, -4.965, -4.9742, -5.0511, -5.1274, -8.0066, -7.2182, -8.0066, -5.7874, -4.3534, -6.977, -7.3135, -7.3135, -8.0066, -7.5366, -7.6702, -7.6702, -7.0511, -7.6702, -7.6702, -8.0066, -7.5366, -8.0066, -8.0066, -8.0066, -8.0066, -8.0066, -4.4121, -6.7257, -7.4188, -7.8243, -7.8243, -3.4176, -5.6458, -5.1972, -5.4729, -5.7243, -5.3966, -4.9717, -5.5385, -4.5988, -5.5556, -6.8435, -6.7257, -6.5715, -5.1972, -6.2149, -6.7829, -3.3413, -4.8369, -4.7257, -4.2642, -5.4114, -5.1387, -3.8446, -4.8039, -4.9065, -4.0363, -5.1502, -5.0835, -5.1502, -4.7563, -5.1617, -4.4121, -5.1052, -4.7485, -5.0943, -4.7719, -4.9717, -4.6393, -4.5101, -4.4862, -4.4981, -4.8625, -5.1274, -7.2963, -7.2963, -7.2963, -7.2963, -6.9779, -7.584, -7.0732, -7.584, -5.2982, -5.2814, -7.584, -6.4313, -6.9779, -6.1177, -6.7367, -6.2847, -7.584, -6.3312, -6.9779, -7.7663, -6.8909, -7.1785, -7.4299, -7.0732, -7.584, -7.1785, -7.7663, -7.584, -7.7663, -7.4299, -4.7218, -6.4313, -6.6677, -6.6677, -5.2169, -6.7367, -5.2486, -7.0732, -7.1785, -7.1785, -7.1785, -5.2326, -5.8793, -5.2649, -4.9569, -3.1692, -3.7518, -4.876, -6.1977, -4.7123, -5.0853, -6.2403, -6.1569, -4.5082, -6.1569, -5.2169, -5.2169, -5.2326, -5.8793, -5.032, -4.58, -5.2486, -4.58, -5.4439, -5.8494, -5.5046, -5.7649, -4.9099, -5.4439, -5.1861, -5.5256, -4.741, -4.9331, -5.3327, -5.1417, -5.2486, -5.0583, -5.1273, -7.1679, -7.3014, -7.1679, -7.0501, -6.6083, -7.3014, -6.0285, -7.4556, -7.4556, -7.4556, -7.4556, -7.4556, -7.4556, -7.4556, -7.4556, -7.4556, -7.4556, -7.4556, -7.4556, -7.4556, -7.4556, -7.4556, -7.4556, -6.7624, -7.4556, -7.4556, -7.4556, -7.4556, -7.4556, -7.4556, -5.8461, -5.8461, -6.2028, -6.3029, -6.357, -6.357, -6.357, -6.5393, -6.6824, -6.6824, -6.7624, -6.7624, -6.7624, -6.7624, -6.7624, -6.8495, -6.8495, -5.2771, -6.9448, -7.0501, -7.1679, -7.1679, -4.9299, -6.4748, -6.5393, -5.9515, -6.6824, -6.4748, -4.7475, -5.5838, -5.6098, -5.4187, -5.073, -5.5338, -4.4271, -5.5838, -6.0285, -5.1365, -5.7508, -5.6098, -3.9002, -4.0056, -3.9899, -5.6098, -4.5024, -4.5378, -4.6322, -5.3972, -5.4632, -5.0427, -4.5934, -5.1698, -4.7147, -5.0885, -4.603, -5.0427, -5.0427, -4.8406, -5.0577, -5.2961, -5.1202, -5.2043, -5.153, -5.24, -5.24, -5.3761], \"loglift\": [30.0, 29.0, 28.0, 27.0, 26.0, 25.0, 24.0, 23.0, 22.0, 21.0, 20.0, 19.0, 18.0, 17.0, 16.0, 15.0, 14.0, 13.0, 12.0, 11.0, 10.0, 9.0, 8.0, 7.0, 6.0, 5.0, 4.0, 3.0, 2.0, 1.0, 2.3476, 2.3476, 2.3476, 2.3476, 2.3476, 2.3476, 2.3476, 2.3476, 2.3476, 2.3476, 2.3476, 2.3476, 2.3476, 2.3476, 2.3476, 2.3476, 2.3476, 2.3476, 2.3476, 2.3476, 2.3476, 2.3476, 2.3476, 2.3476, 2.3476, 2.3476, 2.3476, 2.3476, 2.3476, 2.3476, 2.3476, 2.3476, 2.3476, 2.3476, 2.3476, 2.3476, 2.3476, 2.3476, 2.3476, 2.3476, 2.3476, 2.3476, 2.3222, 2.2939, 2.3208, 2.2818, 2.3235, 2.2833, 2.2831, 2.3106, 2.2915, 2.197, 2.1775, 2.3061, 2.0754, 2.219, 2.219, 2.0046, 2.2059, 2.0472, 2.0971, 2.1022, 1.6483, 2.0732, 1.5348, 1.5941, 1.7377, 1.7994, 2.0079, 1.5882, 1.7551, 1.9062, 1.9368, 1.8328, 1.7729, 1.7035, 0.9514, 1.1275, 0.9401, 1.568, 1.2854, 0.7556, 1.3479, 1.4323, 1.4429, 1.4016, 0.7751, 0.0471, 0.8943, 0.2885, 0.2925, 0.3777, 2.3766, 2.3766, 2.3766, 2.3766, 2.3766, 2.3766, 2.3766, 2.3766, 2.3766, 2.3766, 2.3766, 2.3766, 2.3766, 2.3766, 2.3766, 2.3766, 2.3766, 2.3766, 2.3766, 2.3766, 2.3766, 2.3766, 2.3766, 2.3766, 2.3766, 2.3766, 2.3766, 2.3766, 2.3766, 2.3766, 2.3766, 2.3766, 2.3766, 2.3766, 2.3766, 2.3766, 2.3766, 2.3766, 2.3766, 2.3766, 2.3766, 2.3766, 2.3766, 2.3766, 2.3766, 2.3766, 2.3766, 2.3766, 2.3766, 2.3766, 2.3766, 2.3766, 2.3766, 2.3766, 2.3766, 2.3484, 2.3495, 2.3209, 2.2419, 2.2035, 2.1847, 2.2217, 2.0671, 2.1776, 2.2263, 2.0855, 2.1344, 2.2309, 2.1765, 1.9151, 1.944, 1.9895, 1.9237, 1.6121, 2.1111, 1.7669, 1.9114, 1.6828, 1.6649, 1.6559, 1.4475, 1.5043, 1.7291, 1.3452, 1.5794, 1.5854, 1.2858, 1.2665, 1.2054, 1.025, 1.0813, 0.6562, 0.6581, 0.8163, 0.9485, 2.4478, 2.4478, 2.4478, 2.4478, 2.4478, 2.4478, 2.4478, 2.4478, 2.4478, 2.4478, 2.4478, 2.4478, 2.4478, 2.4478, 2.4478, 2.4478, 2.4478, 2.4478, 2.4478, 2.4478, 2.4478, 2.4478, 2.4478, 2.4478, 2.4478, 2.4478, 2.4478, 2.4478, 2.4478, 2.4478, 2.4327, 2.4478, 2.4478, 2.4478, 2.4478, 2.4478, 2.4478, 2.4478, 2.4478, 2.4219, 2.403, 2.349, 2.3902, 2.4126, 2.3308, 2.356, 2.4083, 2.3591, 2.4066, 2.3649, 2.4056, 2.405, 2.4001, 2.3575, 2.3742, 2.1341, 2.1901, 2.0604, 1.9716, 1.7845, 2.1963, 1.7352, 1.4624, 1.7561, 1.8157, 2.0257, 1.3038, 1.5115, 1.7733, 1.721, 1.7738, 1.2896, 1.2015, 2.0429, 1.6104, 1.3487, 1.4695, 0.9035, 0.9842, 1.0311, 0.5953, 1.1242, 1.0927, 1.0533, 1.1154, 0.6616, -0.338, 0.0798, 2.4751, 2.4751, 2.4751, 2.4751, 2.4751, 2.4751, 2.4751, 2.4751, 2.4751, 2.4751, 2.4751, 2.4751, 2.4751, 2.4751, 2.4751, 2.4751, 2.4751, 2.4751, 2.4751, 2.4751, 2.4751, 2.4751, 2.4751, 2.4751, 2.4751, 2.4751, 2.4751, 2.4751, 2.4751, 2.4751, 2.4751, 2.4751, 2.4751, 2.4751, 2.4751, 2.4751, 2.4751, 2.4751, 2.4751, 2.4751, 2.4751, 2.4751, 2.4751, 2.4751, 2.4452, 2.4509, 2.3733, 2.3749, 2.4052, 2.4177, 2.4353, 2.3998, 2.3827, 2.3991, 2.3845, 2.3452, 2.2707, 2.3321, 2.3058, 2.155, 2.291, 2.1492, 2.0852, 2.0089, 2.2154, 2.2296, 2.3129, 2.1536, 1.8338, 2.1216, 1.5643, 1.5669, 1.5254, 1.262, 1.1089, 1.9159, 1.1314, 0.8702, 0.863, 1.6531, 1.079, 0.5439, 0.6461, 1.2187, 1.4554, 0.7969, 1.0332, 0.902, 1.4028, 0.7305, 0.975, 1.2234, 0.8141, 0.835, 0.9517, 0.356, 0.5041, 2.5345, 2.5345, 2.5345, 2.5345, 2.5345, 2.5345, 2.5345, 2.5345, 2.5345, 2.5345, 2.5345, 2.5345, 2.5345, 2.5345, 2.5345, 2.5345, 2.5345, 2.5345, 2.5345, 2.5345, 2.5345, 2.5345, 2.5345, 2.5345, 2.5345, 2.5345, 2.5345, 2.5345, 2.5345, 2.5345, 2.5345, 2.5345, 2.5345, 2.5345, 2.5345, 2.5345, 2.5345, 2.5345, 2.5345, 2.5345, 2.5345, 2.5345, 2.5345, 2.5345, 2.5345, 2.5108, 2.5035, 2.5015, 2.4159, 2.4682, 2.2297, 2.4866, 2.4571, 2.2845, 2.4822, 2.3086, 2.3774, 1.9303, 2.3032, 1.8271, 2.2294, 2.3707, 2.2112, 2.1447, 1.8379, 1.822, 1.2485, 1.3073, 1.9186, 1.9241, 1.3921, 1.5422, 1.6168, 1.746, 1.7214, 1.6621, 1.9765, 1.213, 0.8416, 0.9455, 0.9497, 0.8602, 1.0196, 1.0996, 0.7658, 1.5566, 0.4447, 0.8962, 1.3689, 0.6259, 0.3292, 0.6158, 0.6558, 0.6194, 2.5646, 2.5646, 2.5646, 2.5646, 2.5646, 2.5646, 2.5646, 2.5646, 2.5646, 2.5646, 2.5646, 2.5646, 2.5646, 2.5646, 2.5646, 2.5646, 2.5646, 2.5646, 2.5646, 2.5646, 2.5646, 2.5646, 2.5646, 2.5646, 2.5646, 2.5646, 2.5646, 2.5646, 2.5646, 2.5646, 2.5572, 2.5525, 2.5646, 2.5646, 2.5646, 2.5646, 2.5646, 2.5646, 2.5646, 2.5484, 2.5646, 2.5646, 2.5646, 2.5646, 2.5364, 2.4788, 2.5319, 2.4653, 2.4513, 2.4642, 2.5232, 2.4104, 2.4726, 2.4186, 2.3492, 2.2344, 2.4112, 2.2934, 2.267, 2.3301, 1.8216, 2.0131, 1.7965, 2.3432, 2.1702, 2.1862, 2.1266, 1.5425, 1.6091, 1.8474, 2.1691, 1.1421, 1.3408, 1.2463, 0.9795, 1.2984, 0.8382, 0.2438, 0.8932, 1.0912, 0.8571, 1.4108, 1.4383, 1.1792, 1.2294, 0.3157, 1.5516, 0.498, -0.0356, 0.2166, 2.6589, 2.6589, 2.6589, 2.6589, 2.6589, 2.6589, 2.6589, 2.6589, 2.6589, 2.6589, 2.6589, 2.6589, 2.6589, 2.6589, 2.6589, 2.6589, 2.6589, 2.6589, 2.6589, 2.6589, 2.6589, 2.6589, 2.6589, 2.6589, 2.6589, 2.6589, 2.6589, 2.6589, 2.6589, 2.6589, 2.6558, 2.6589, 2.6589, 2.6589, 2.6453, 2.6589, 2.645, 2.6589, 2.6589, 2.6589, 2.6589, 2.6406, 2.6339, 2.5739, 2.552, 2.5928, 2.5436, 2.5571, 2.5065, 2.4432, 2.2562, 2.4788, 2.4807, 2.4989, 2.3654, 2.2825, 2.1161, 2.3113, 2.2421, 2.4355, 2.2715, 1.7208, 2.2926, 2.1232, 2.275, 2.1207, 2.0429, 2.1968, 1.5513, 1.5583, 1.0618, 2.094, 0.9017, 1.2031, 1.7965, 1.4188, 1.7049, 0.8065, 0.8065, 1.0084, 0.4774, 1.7779, -0.6089, 0.8244, 0.56, 0.3861, 2.7055, 2.7055, 2.7055, 2.7055, 2.7055, 2.7055, 2.7055, 2.7055, 2.7055, 2.7055, 2.7055, 2.7055, 2.7055, 2.7055, 2.7055, 2.7055, 2.7055, 2.7055, 2.7055, 2.7055, 2.7055, 2.7055, 2.7055, 2.7055, 2.7055, 2.7055, 2.7055, 2.7055, 2.7055, 2.7055, 2.7055, 2.7055, 2.7055, 2.7055, 2.7055, 2.7055, 2.7055, 2.6669, 2.6407, 2.6481, 2.5373, 2.6291, 2.5208, 2.558, 2.6549, 2.5268, 2.6528, 2.4075, 2.2691, 2.5813, 2.5321, 2.5204, 2.1958, 2.3833, 2.1933, 2.1214, 2.1679, 2.4343, 2.2051, 2.3184, 2.029, 1.5624, 2.1218, 2.4008, 2.2389, 2.0699, 2.0256, 1.303, 1.2779, 1.4094, 1.5524, 2.0489, 1.3223, 1.2314, 1.5296, 1.2024, 1.3754, 1.442, 0.8834, 1.8407, 1.8488, 1.6125, 1.2654, 0.6983, 0.3271, 1.1944, 0.4068, 0.9619, -0.4031, 2.7941, 2.7941, 2.7941, 2.7941, 2.7941, 2.7941, 2.7941, 2.7941, 2.7941, 2.7941, 2.7941, 2.7941, 2.7941, 2.7941, 2.7941, 2.7941, 2.7941, 2.7941, 2.7941, 2.7941, 2.7941, 2.7941, 2.7941, 2.7941, 2.7941, 2.7941, 2.7941, 2.7941, 2.7941, 2.7941, 2.7941, 2.7941, 2.7941, 2.7941, 2.7941, 2.7941, 2.7941, 2.7941, 2.7748, 2.7667, 2.76, 2.7389, 2.754, 2.7535, 2.7348, 2.6871, 2.6125, 2.7091, 2.7461, 2.6034, 2.7199, 2.4955, 2.5481, 2.3597, 2.5592, 2.0256, 2.1913, 2.1308, 2.2956, 2.3278, 1.2193, 1.7781, 1.6413, 2.2067, 1.5907, 1.3739, 2.2053, 0.8719, 1.8982, 1.2423, 1.3661, 1.1368, 1.483, 2.0854, 1.3703, 1.8007, 1.6728, 0.8104, 0.6071, 1.2426, 1.2721, 0.8285, 0.3161, 1.2899, 0.8908, 0.9293, -0.0184, 2.8649, 2.8649, 2.8649, 2.8649, 2.8649, 2.8649, 2.8649, 2.8649, 2.8649, 2.8649, 2.8649, 2.8649, 2.8649, 2.8649, 2.8649, 2.8649, 2.8649, 2.8649, 2.8649, 2.8649, 2.8649, 2.8649, 2.8649, 2.8649, 2.8649, 2.8649, 2.8649, 2.8649, 2.8649, 2.8649, 2.8649, 2.8649, 2.8649, 2.8649, 2.8049, 2.8149, 2.74, 2.7207, 2.7371, 2.7837, 2.7252, 2.8116, 2.6022, 2.8047, 2.6156, 2.5197, 2.7271, 2.6147, 2.5331, 2.6609, 2.5542, 2.2764, 2.5602, 2.1175, 2.4663, 2.1958, 2.2824, 2.0036, 2.3198, 2.237, 1.9337, 1.5338, 2.2941, 1.2213, 1.2412, 1.6585, 1.2036, 1.4039, 1.0649, -0.0079, 1.7028, 1.2667, 0.3106, 0.661, 2.895, 2.895, 2.895, 2.895, 2.895, 2.895, 2.895, 2.895, 2.895, 2.895, 2.895, 2.895, 2.895, 2.895, 2.895, 2.895, 2.895, 2.895, 2.895, 2.895, 2.895, 2.895, 2.895, 2.895, 2.895, 2.895, 2.895, 2.895, 2.895, 2.895, 2.8884, 2.895, 2.895, 2.895, 2.895, 2.895, 2.895, 2.895, 2.895, 2.895, 2.895, 2.895, 2.895, 2.895, 2.895, 2.8737, 2.7834, 2.8626, 2.8317, 2.7894, 2.8184, 2.7376, 2.8577, 2.8562, 2.7632, 2.7905, 2.7424, 2.7758, 2.5249, 2.7688, 2.6212, 2.457, 2.4599, 2.6806, 2.5987, 2.4859, 2.5981, 2.4076, 2.2589, 2.2049, 2.5288, 1.7829, 2.2582, 2.1206, 1.7831, 2.3616, 1.6323, 1.4399, 0.9297, 1.3275, 1.6795, 0.5409, 0.2739, 0.0024, 1.9931, 0.5629, 0.8069, 0.2784, 2.9937, 2.9937, 2.9937, 2.9937, 2.9937, 2.9937, 2.9937, 2.9937, 2.9937, 2.9937, 2.9937, 2.9937, 2.9937, 2.9937, 2.9937, 2.9937, 2.9937, 2.9937, 2.9937, 2.9937, 2.9937, 2.9937, 2.9937, 2.9937, 2.9937, 2.9937, 2.9937, 2.9937, 2.9937, 2.9937, 2.9906, 2.9787, 2.9845, 2.9842, 2.9937, 2.9707, 2.9174, 2.8507, 2.9025, 2.9174, 2.864, 2.9231, 2.8441, 2.7984, 2.7829, 2.6587, 2.8699, 2.5144, 2.8061, 2.4964, 2.5775, 2.5787, 2.1721, 2.2962, 2.3743, 2.7242, 2.3409, 2.1808, 1.6409, 1.8208, 1.4111, 0.692, 1.6411, 0.1521, 0.9616, 1.2688, 1.5356, 0.7852, 1.388, 3.0432, 3.0432, 3.0432, 3.0432, 3.0432, 3.0432, 3.0432, 3.0432, 3.0432, 3.0432, 3.0432, 3.0432, 3.0432, 3.0432, 3.0432, 3.0432, 3.0432, 3.0432, 3.0432, 3.0432, 3.0432, 3.0432, 3.0432, 3.0432, 3.0432, 3.0432, 3.0432, 3.0432, 3.0373, 2.989, 2.9745, 2.982, 2.9847, 2.9725, 2.9329, 2.9475, 2.9031, 2.9296, 2.9835, 2.9395, 2.9132, 2.7281, 2.863, 2.9323, 2.4181, 2.6385, 2.5895, 2.5134, 2.6702, 2.6132, 2.3254, 2.5104, 2.4906, 2.2715, 2.5002, 2.4723, 2.432, 2.2668, 2.4092, 1.6297, 2.2766, 1.8552, 2.2208, 1.7221, 1.951, 1.24, 0.8811, 0.247, 0.263, 0.8194, 2.0183, 3.2475, 3.2475, 3.2475, 3.2475, 3.2475, 3.2475, 3.2475, 3.2475, 3.2475, 3.2475, 3.2475, 3.2475, 3.2475, 3.2475, 3.2475, 3.2475, 3.2475, 3.2475, 3.2475, 3.2475, 3.2475, 3.2475, 3.2475, 3.2475, 3.2475, 3.2475, 3.2475, 3.2475, 3.2475, 3.2475, 3.2383, 3.2475, 3.2475, 3.2475, 3.2327, 3.2475, 3.2323, 3.2475, 3.2475, 3.2475, 3.2475, 3.189, 3.1922, 3.1578, 3.1279, 2.9877, 3.0085, 3.0917, 3.1004, 2.8518, 2.9054, 3.0947, 3.0707, 2.7216, 3.0428, 2.7601, 2.7462, 2.5413, 2.8301, 2.3587, 2.0234, 2.3968, 1.7508, 2.4537, 2.7657, 2.3513, 2.618, 1.6507, 2.0814, 1.6122, 2.1752, 0.6094, 0.9559, 1.7505, 1.2192, 1.2902, 0.4073, 0.518, 3.2791, 3.2791, 3.2791, 3.2791, 3.2791, 3.2791, 3.2791, 3.2791, 3.2791, 3.2791, 3.2791, 3.2791, 3.2791, 3.2791, 3.2791, 3.2791, 3.2791, 3.2791, 3.2791, 3.2791, 3.2791, 3.2791, 3.2791, 3.2791, 3.2791, 3.2791, 3.2791, 3.2791, 3.2791, 3.2791, 3.2791, 3.2791, 3.2791, 3.2791, 3.2791, 3.2791, 3.2791, 3.2791, 3.2791, 3.2791, 3.2791, 3.2791, 3.2791, 3.2791, 3.2791, 3.2791, 3.2791, 3.2627, 3.2791, 3.2791, 3.2791, 3.2791, 3.1307, 3.2239, 3.2232, 3.1612, 3.2149, 3.178, 2.9024, 2.9929, 2.921, 2.8627, 2.7462, 2.8572, 2.4575, 2.8385, 2.9829, 2.6111, 2.84, 2.7614, 1.956, 1.9966, 1.9853, 2.7457, 2.0598, 2.0147, 1.9726, 2.4703, 2.5105, 2.0962, 1.6273, 2.1706, 1.5194, 1.8697, 0.7475, 1.429, 1.2506, 0.7054, 0.9817, 1.4815, 0.4233, 0.8374, 0.2874, 0.8398, 0.7705, 0.4059]}, \"token.table\": {\"Topic\": [1, 3, 4, 7, 8, 11, 5, 8, 2, 6, 14, 2, 8, 8, 15, 1, 1, 5, 15, 15, 15, 15, 15, 15, 1, 2, 4, 6, 7, 10, 11, 12, 15, 15, 15, 15, 1, 2, 3, 4, 5, 6, 8, 10, 13, 14, 15, 3, 4, 8, 15, 15, 8, 6, 15, 15, 15, 15, 15, 14, 2, 14, 15, 15, 5, 15, 8, 15, 15, 15, 15, 2, 8, 7, 4, 8, 15, 15, 8, 8, 3, 6, 15, 15, 8, 14, 2, 7, 10, 4, 7, 14, 1, 5, 5, 1, 3, 4, 5, 6, 8, 9, 10, 11, 12, 13, 14, 2, 7, 2, 3, 4, 7, 8, 9, 12, 15, 13, 8, 1, 2, 3, 4, 7, 8, 9, 10, 13, 14, 15, 14, 2, 3, 13, 15, 3, 3, 3, 4, 6, 10, 11, 12, 13, 1, 3, 4, 6, 7, 8, 9, 10, 11, 13, 15, 1, 3, 8, 11, 13, 15, 3, 4, 9, 2, 2, 3, 7, 11, 15, 5, 8, 11, 3, 5, 13, 4, 5, 6, 2, 3, 4, 5, 6, 8, 10, 14, 5, 11, 14, 2, 7, 11, 2, 5, 12, 1, 2, 3, 4, 5, 8, 10, 14, 1, 2, 3, 4, 5, 6, 7, 8, 9, 11, 13, 14, 15, 1, 3, 5, 7, 8, 10, 11, 12, 13, 15, 6, 12, 11, 10, 6, 11, 5, 1, 2, 3, 4, 5, 6, 7, 8, 9, 10, 11, 12, 13, 14, 15, 2, 5, 6, 7, 7, 6, 11, 1, 3, 7, 8, 10, 15, 4, 9, 7, 9, 3, 4, 6, 7, 8, 9, 11, 12, 13, 14, 15, 2, 11, 12, 14, 5, 9, 5, 8, 9, 11, 15, 3, 4, 11, 12, 4, 9, 3, 4, 6, 11, 15, 1, 6, 8, 10, 12, 1, 3, 5, 9, 10, 11, 12, 13, 14, 1, 10, 11, 12, 13, 1, 3, 4, 6, 7, 9, 10, 11, 5, 8, 14, 3, 4, 5, 11, 14, 2, 4, 5, 6, 2, 9, 11, 12, 9, 5, 10, 13, 3, 11, 11, 10, 12, 7, 7, 1, 3, 5, 6, 8, 10, 11, 12, 13, 14, 1, 2, 1, 9, 11, 11, 12, 3, 4, 8, 12, 13, 14, 15, 14, 1, 1, 2, 1, 2, 3, 4, 5, 6, 7, 8, 10, 11, 12, 13, 15, 3, 4, 8, 13, 15, 15, 4, 2, 3, 4, 5, 7, 10, 12, 13, 15, 5, 4, 5, 7, 8, 10, 11, 11, 6, 3, 8, 1, 2, 5, 8, 10, 13, 1, 2, 2, 3, 6, 4, 5, 2, 11, 1, 3, 6, 9, 10, 13, 15, 15, 7, 1, 11, 4, 9, 2, 2, 3, 9, 11, 15, 4, 8, 10, 14, 6, 9, 11, 1, 3, 4, 5, 6, 12, 15, 6, 14, 2, 1, 2, 6, 7, 2, 4, 6, 7, 8, 9, 10, 11, 13, 14, 6, 1, 2, 3, 4, 5, 7, 9, 10, 11, 12, 13, 14, 1, 2, 5, 7, 10, 11, 4, 7, 14, 1, 2, 5, 7, 10, 4, 6, 8, 15, 11, 3, 4, 12, 3, 5, 6, 7, 12, 14, 15, 3, 7, 12, 13, 1, 1, 1, 2, 6, 7, 8, 9, 11, 12, 15, 5, 1, 10, 12, 13, 2, 4, 2, 5, 6, 13, 3, 7, 8, 11, 7, 6, 1, 4, 5, 13, 14, 1, 1, 3, 8, 10, 1, 4, 5, 6, 7, 10, 13, 14, 6, 7, 4, 9, 12, 2, 3, 4, 5, 2, 4, 5, 6, 7, 9, 10, 13, 14, 15, 1, 3, 7, 9, 10, 11, 13, 4, 15, 5, 2, 3, 5, 7, 8, 9, 11, 12, 13, 14, 15, 1, 2, 4, 9, 11, 13, 5, 7, 2, 4, 5, 12, 13, 14, 3, 4, 5, 6, 7, 8, 10, 11, 14, 5, 10, 11, 1, 2, 7, 8, 9, 10, 11, 13, 15, 10, 1, 2, 4, 6, 9, 6, 6, 7, 10, 15, 2, 4, 6, 9, 12, 14, 15, 8, 6, 7, 11, 7, 7, 12, 1, 8, 9, 10, 11, 12, 5, 6, 7, 4, 2, 4, 5, 6, 8, 12, 14, 2, 1, 5, 1, 2, 8, 12, 13, 15, 3, 4, 5, 6, 7, 8, 10, 14, 15, 4, 1, 3, 4, 5, 7, 9, 13, 1, 10, 13, 14, 11, 4, 12, 9, 15, 1, 6, 8, 9, 11, 12, 1, 9, 12, 11, 1, 2, 3, 4, 5, 9, 10, 11, 13, 14, 15, 1, 2, 3, 4, 5, 9, 10, 13, 15, 1, 2, 3, 4, 5, 6, 13, 14, 15, 2, 4, 5, 13, 15, 1, 3, 4, 5, 6, 7, 11, 15, 4, 2, 4, 4, 12, 2, 8, 8, 10, 15, 2, 4, 13, 7, 1, 2, 5, 6, 6, 1, 2, 6, 1, 2, 3, 6, 7, 8, 9, 10, 12, 14, 2, 2, 3, 4, 7, 8, 9, 13, 15, 1, 3, 4, 7, 8, 9, 10, 11, 1, 2, 3, 4, 5, 6, 7, 8, 9, 10, 11, 13, 14, 3, 4, 5, 6, 8, 10, 11, 12, 5, 9, 10, 11, 12, 7, 2, 3, 6, 7, 8, 10, 14, 15, 6, 1, 2, 3, 4, 5, 7, 8, 9, 10, 14, 15, 1, 2, 3, 4, 5, 6, 7, 10, 12, 13, 15, 9, 4, 11, 9, 2, 2, 11, 13, 15, 9, 3, 14, 6, 1, 2, 4, 7, 8, 9, 10, 11, 1, 2, 3, 4, 5, 6, 7, 8, 9, 10, 11, 12, 13, 14, 15, 3, 10, 15, 1, 2, 3, 6, 7, 8, 9, 15, 1, 5, 6, 7, 8, 11, 12, 1, 2, 3, 5, 6, 12, 13, 2, 3, 13, 4, 5, 6, 8, 9, 10, 12, 13, 15, 3, 1, 1, 2, 3, 7, 13, 3, 7, 13, 11, 11, 13, 1, 3, 6, 7, 10, 12, 13, 13, 6, 13, 1, 2, 3, 9, 10, 11, 12, 13, 1, 2, 3, 4, 10, 12, 13, 14, 15, 11, 2, 3, 4, 6, 7, 8, 9, 10, 11, 13, 14, 15, 13, 7, 11, 1, 2, 5, 7, 9, 11, 6, 4, 14, 11, 11, 13, 3, 4, 5, 7, 9, 14, 15, 9, 14, 3, 12, 6, 13, 6, 4, 8, 9, 1, 3, 4, 6, 7, 10, 14, 12, 1, 3, 6, 7, 11, 4, 13, 1, 2, 4, 5, 9, 10, 12, 13, 14, 7, 8, 9, 1, 12, 9, 11, 12, 1, 1, 2, 3, 4, 5, 6, 7, 10, 12, 14, 1, 1, 2, 3, 8, 9, 10, 12, 13, 14, 12, 1, 14, 2, 3, 5, 6, 7, 3, 5, 7, 9, 13, 4, 6, 3, 4, 7, 8, 9, 11, 13, 8, 5, 1, 2, 3, 4, 6, 7, 8, 9, 10, 11, 13, 14, 8, 1, 3, 4, 5, 7, 8, 9, 15, 3, 8, 14, 4, 3, 4, 6, 7, 14, 4, 14, 1, 4, 7, 14, 7, 3, 6, 9, 11, 14, 1, 2, 4, 5, 7, 10, 12, 14, 1, 2, 3, 9, 10, 12, 13, 10, 10, 4, 13, 1, 3, 10, 1, 2, 1, 4, 9, 10, 9, 2, 9, 1, 14, 6, 2, 3, 5, 6, 7, 8, 9, 10, 11, 12, 11, 1, 2, 11, 1, 4, 9, 2, 5, 11, 13, 4, 7, 11, 2, 10, 6, 7, 2, 4, 6, 14, 2, 5, 9, 10, 1, 5, 3, 4, 6, 8, 10, 11, 14, 15, 6, 1, 2, 4, 5, 6, 7, 5, 11, 3, 7, 8, 14, 15, 7, 1, 3, 4, 5, 7, 8, 9, 12, 13, 14, 13, 14, 4, 3, 6, 9, 10, 13, 11, 12, 1, 3, 4, 5, 6, 7, 8, 9, 11, 12, 13, 14, 15, 1, 6, 11, 15, 1, 2, 3, 4, 5, 6, 7, 8, 9, 10, 11, 14, 1, 3, 5, 1, 2, 3, 5, 6, 7, 8, 9, 11, 12, 14, 15, 11, 7, 1, 9, 10, 11, 2, 2, 7, 1, 2, 3, 4, 6, 7, 8, 9, 10, 11, 12, 13, 15, 12, 14, 1, 2, 3, 4, 5, 6, 7, 8, 9, 11, 12, 14, 15, 1, 2, 3, 5, 7, 8, 9, 11, 12, 1, 2, 3, 4, 5, 6, 7, 8, 9, 10, 11, 12, 13, 14, 7, 1, 4, 5, 6, 9, 11, 14, 6, 14, 4, 4, 10, 15, 6, 13, 15, 4, 11, 7, 8, 3, 4, 6, 7, 8, 2, 3, 5, 6, 7, 9, 11, 12, 13, 15, 9, 6, 1, 2, 4, 9, 10, 3, 15, 4, 6, 1, 3, 5, 6, 7, 10, 11, 14, 15, 2, 5, 1, 2, 4, 5, 6, 7, 8, 9, 10, 12, 13, 6, 1, 2, 3, 4, 7, 11, 13, 14, 15, 13, 3, 9, 1, 6, 5, 2, 2, 11, 4, 9, 2, 4, 5, 10, 13, 1, 2, 4, 6, 9, 13, 12, 12, 3, 5, 12, 12, 2, 2, 3, 6, 7, 8, 10, 11, 13, 1, 2, 3, 4, 5, 7, 9, 11, 15, 3, 4, 5, 7, 9, 10, 12, 5, 8, 10, 1, 2, 3, 4, 5, 6, 8, 9, 10, 14, 3, 1, 2, 8, 11, 8, 1, 2, 3, 4, 5, 6, 7, 8, 9, 10, 11, 12, 14, 1, 4, 8, 14, 3, 7, 9, 1, 13, 1, 1, 5, 10, 13, 5, 10, 2, 3, 14, 1, 3, 4, 5, 10, 12, 10, 2, 12, 15, 9, 2, 4, 12, 3, 5, 6, 7, 8, 9, 11, 12, 14, 15, 2, 8, 5, 11, 7, 2, 3, 4, 5, 6, 8, 9, 12, 13, 14, 1, 8, 14, 1, 1, 1, 3, 4, 5, 6, 8, 9, 10, 11, 12, 14, 15, 3, 4, 5, 6, 7, 8, 11, 13, 14, 2, 9, 11, 13, 5, 5, 14, 8, 10, 14, 6, 7, 8, 11, 15, 8, 1, 2, 3, 6, 7, 8, 9, 10, 11, 12, 13, 2, 3, 15, 10, 9, 4, 2, 3, 5, 6, 7, 8, 9, 11, 13, 1, 4, 10, 6, 9, 14, 13, 3, 4, 6, 7, 6, 3, 5, 3, 9, 4, 14, 8, 1, 2, 3, 4, 5, 6, 7, 8, 9, 10, 11, 12, 13, 14, 15, 2, 3, 4, 7, 8, 9, 10, 11, 14, 15, 5, 8, 14, 7, 8, 9, 1, 7, 7, 6, 1, 4, 5, 6, 7, 10, 11, 13, 14, 4, 9, 10, 13, 12, 1, 2, 4, 9, 10, 12, 1, 10, 1, 2, 3, 4, 8, 15, 10, 14, 1, 4, 5, 14, 1, 2, 9, 10, 11, 13, 1, 1, 5, 9, 10, 10, 12, 3, 7, 2, 9, 1, 2, 3, 4, 6, 7, 8, 9, 10, 11, 12, 13, 14, 15, 15, 11, 2, 6, 2, 13, 1, 2, 15, 1, 2, 4, 5, 6, 9, 10, 11, 12, 14, 1, 2, 14, 12, 2, 10, 14, 1, 5, 8, 10, 11, 3, 7, 9, 10, 12, 13, 15, 1, 2, 12, 10, 11, 1, 2, 4, 5, 8, 9, 10, 11, 12, 13, 1, 5, 9, 10, 12, 2, 11, 5, 7, 14, 11, 5, 6, 7, 8, 11, 12, 13, 14, 14, 8, 9, 8, 2, 3, 4, 5, 8, 9, 2, 1, 2, 4, 5, 6, 9, 6, 3, 12, 1, 6, 14, 6, 11, 1, 3, 5, 6, 7, 8, 9, 10, 11, 12, 13, 6, 1, 2, 3, 4, 5, 8, 9, 10, 11, 12, 15, 1, 2, 3, 4, 9, 12, 13, 15, 1, 2, 3, 4, 5, 6, 7, 8, 9, 10, 11, 12, 13, 14, 1, 2, 3, 4, 5, 7, 9, 10, 11, 12, 13, 14, 15, 1, 3, 4, 5, 6, 7, 9, 13, 14, 15, 4, 14, 9, 6, 8, 2, 3, 4, 13, 15, 2, 1, 2, 10, 12, 13, 15, 4, 5, 3, 10, 15, 7, 5, 6, 7, 8, 11, 12, 14, 5, 6, 7, 8, 9, 10, 11, 12, 14, 15, 10, 3, 4, 3, 4, 5, 6, 7, 10, 11, 13, 14, 15, 3, 2, 13, 11, 6, 11, 14, 4, 6, 7, 12, 13, 4, 6, 10, 12, 13, 11, 3, 4, 6, 7, 8, 9, 12, 14, 15, 3, 4, 6, 13, 10, 13, 1, 1, 2, 3, 8, 9, 11, 12, 14, 1, 5, 6, 11, 4, 7, 8, 2, 3, 5, 7, 8, 9, 11, 15, 6, 7, 8, 11, 12, 14, 1, 4, 6, 11, 15, 1, 2, 6, 12, 1, 2, 5, 6, 7, 8, 11, 9, 1, 3, 10, 12, 5, 5, 7, 5, 7, 11, 13, 14, 15, 1, 5, 11, 13, 2, 1, 2, 3, 5, 6, 7, 8, 9, 10, 11, 12, 13, 15, 14, 7, 2, 5, 11, 7, 11, 1, 2, 3, 4, 5, 7, 9, 10, 11, 12, 13, 15, 11, 1, 3, 4, 5, 6, 7, 8, 9, 10, 11, 13, 15, 4, 9, 13, 2, 4, 3, 12, 2, 3, 4, 8, 1, 2, 3, 5, 6, 7, 8, 9, 10, 11, 12, 13, 14, 2, 3, 4, 6, 11, 2, 3, 4, 5, 6, 7, 8, 9, 10, 11, 12, 14, 9, 3, 13, 10, 14, 2, 5, 6, 11, 1, 5, 5, 13, 1, 4, 6, 8, 9, 11, 12, 15, 5, 11, 3, 11, 3, 5, 14, 9, 14, 2, 9, 10, 2, 6, 13, 14, 4, 11, 7, 1, 2, 3, 4, 5, 6, 8, 9, 10, 11, 14, 15, 5, 2, 11, 13, 3, 9, 9, 6, 1, 2, 4, 5, 6, 7, 8, 9, 11, 12, 13, 5, 14, 3, 15, 1, 2, 5, 6, 7, 10, 11, 12, 5, 1, 2, 4, 9, 12, 1, 5, 7, 12, 10, 8, 4, 10, 7, 9, 9, 9, 14, 1, 5, 6, 8, 10, 12, 13, 1, 4, 5, 7, 8, 10, 11, 12, 13, 1, 15, 1, 2, 3, 4, 7, 8, 9, 10, 12, 13, 14, 15, 4, 10, 14, 1, 2, 9, 10, 13, 15, 2, 10, 1, 3, 4, 5, 11, 15, 1, 2, 3, 4, 5, 6, 7, 8, 9, 10, 11, 13, 4, 6, 13, 1, 2, 3, 4, 5, 6, 7, 9, 10, 12, 13, 14, 6, 2, 3, 4, 6, 11, 9, 1, 3, 4, 5, 6, 8, 11, 15, 3, 7, 8, 4, 3, 12, 12, 2, 3, 6, 7, 8, 9, 10, 11, 13, 14, 15, 5, 6, 12, 14, 4, 7, 14, 9, 1, 2, 3, 9, 10, 12, 4, 14, 14, 2, 3, 4, 5, 6, 8, 10, 13, 15, 7, 8, 12, 5, 6, 11, 1, 2, 3, 4, 5, 11, 13, 14, 3, 13, 1, 3, 4, 11, 13, 15, 5, 6, 9, 11, 1, 2, 3, 6, 12, 10, 1, 3, 5, 8, 10, 3, 15, 1, 2, 3, 4, 5, 6, 7, 8, 9, 10, 11, 12, 13, 14, 15, 14, 3, 4, 5, 8, 15, 3, 14, 1, 5, 7, 8, 10, 11, 12, 14, 7, 5, 6, 7, 4, 5, 8, 13, 7, 5, 10, 11, 1, 8, 9, 14, 4, 6, 3, 4, 5, 11, 1, 2, 3, 4, 5, 7, 9, 11, 13, 14, 15, 1, 10, 1, 6, 8, 10, 11, 12, 1, 3, 5, 10, 1, 4, 13, 6, 1, 1, 2, 5, 6, 8, 9, 10, 11, 12, 13, 15, 2, 3, 13, 13, 3, 8, 2, 10, 1, 2, 3, 7, 8, 9, 10, 11, 12, 13, 14, 1, 2, 10, 12, 13, 2, 4, 5, 7, 15, 2, 3, 7, 8, 9, 11, 13, 1, 9, 11, 15, 12, 4, 7, 9, 12, 3, 4, 5, 7, 9, 14, 15, 1, 2, 5, 12, 1, 2, 4, 5, 8, 9, 11, 14, 15, 3, 4, 6, 11, 13, 15, 3, 9, 11, 2, 10, 11, 11, 1, 2, 3, 4, 5, 6, 7, 10, 12, 13, 14, 15, 5, 1, 2, 3, 4, 5, 6, 7, 8, 9, 11, 13, 14, 10, 1, 1, 1, 11, 4, 3, 8, 9, 14, 12, 15, 1, 2, 3, 5, 6, 7, 10, 14, 6, 15, 4, 1, 7, 8, 12, 13, 5, 5, 4, 7, 15, 4, 13, 2, 6, 7, 8, 9, 10, 11, 13, 15, 1, 5, 6, 7, 2, 2, 9, 4, 6, 7, 10, 5, 7, 10, 9, 1, 2, 3, 4, 6, 8, 9, 10, 11, 12, 14, 3, 6, 12, 15, 7, 4, 4, 3, 3, 3, 3, 6, 8, 14, 1, 2, 4, 6, 13, 14, 15, 3, 1, 2, 8, 9, 12, 15, 3, 15, 13, 1, 2, 3, 4, 6, 7, 8, 9, 11, 13, 14, 15, 2, 3, 4, 14, 15, 2, 3, 5, 13, 2, 15, 1, 2, 3, 10, 11, 12, 1, 2, 3, 7, 9, 10, 12, 13, 14, 15, 1, 4, 5, 6, 7, 10, 14, 15, 3, 4, 5, 6, 7, 8, 9, 10, 11, 13, 1, 2, 3, 4, 5, 6, 7, 10, 14, 15, 6, 7, 11, 15, 3, 14, 15, 1, 4, 5, 6, 7, 8, 11, 13, 15, 1, 10, 10, 1, 3, 4, 5, 6, 7, 8, 13, 3, 4, 5, 7, 8, 9, 10, 13, 14, 15, 11, 4, 5, 6, 6, 2, 15, 2, 3, 4, 5, 6, 7, 13, 1, 2, 9, 10, 11, 12, 13, 5, 7, 4, 6, 4, 6, 2, 4, 6, 13, 14, 6, 7, 15, 4, 12, 12, 14, 2, 3, 4, 5, 6, 14, 3, 6, 14, 12, 13, 2, 3, 4, 7, 9, 10, 8, 1, 2, 3, 4, 5, 9, 10, 14, 1, 2, 3, 4, 9, 10, 11, 13, 15, 14, 1, 2, 3, 4, 12, 13, 1, 2, 3, 5, 9, 10, 12, 13, 14, 15, 1, 2, 3, 4, 5, 7, 11, 12, 13, 14, 2, 15, 8, 2, 4, 7, 9, 15, 2, 5, 7, 9, 14, 9, 1, 2, 3, 4, 5, 6, 9, 10, 11, 12, 13, 14, 2, 3, 4, 5, 6, 7, 12, 13, 14, 15, 8, 9, 5, 7, 11, 14, 14, 6, 11, 1, 3, 11, 14, 11, 11, 5, 12, 5, 8, 11, 7, 11, 13, 1, 3, 4, 5, 6, 7, 8, 9, 15, 5, 6, 13, 3, 4, 12, 3, 6, 13, 12, 1, 2, 3, 4, 5, 6, 9, 11, 12, 13, 2, 2, 6, 4, 10, 10, 4, 5, 6, 5, 4, 5, 6, 3, 11, 3, 1, 2, 5, 6, 12, 11, 1, 2, 3, 4, 5, 6, 7, 8, 9, 10, 11, 12, 13, 14, 15, 5, 10, 10, 2, 4, 5, 8, 9, 11, 13, 14, 15, 8, 4, 3, 3, 6, 11, 1, 4, 5, 6, 14, 8, 6, 1, 3, 5, 6, 7, 8, 13, 14, 3, 4, 5, 8, 12, 14, 9, 3, 4, 9, 5, 5, 5, 7, 8, 11, 14, 15, 8, 6, 3, 1, 2, 3, 4, 5, 6, 7, 9, 11, 12, 13, 14, 15, 10, 12, 1, 6, 8, 13, 8, 2, 7, 8, 14, 4, 9, 11, 7, 7, 13, 4, 4, 5, 6, 7, 8, 9, 10, 11, 13, 14, 9, 2, 2, 5, 9, 10, 15, 2, 3, 4, 8, 12, 13, 15, 2, 3, 9, 13, 15, 15, 1, 2, 7, 8, 9, 11, 15, 9, 14, 14, 4, 5, 8, 9, 14, 15, 4, 1, 3, 9, 6, 11, 3, 9, 11, 14, 4, 6, 7, 8, 10, 12, 15, 2, 6, 7, 8, 9, 5, 1, 2, 3, 4, 5, 6, 7, 8, 10, 11, 12, 13, 14, 1, 4, 6, 9, 15, 15, 1, 2, 3, 4, 5, 6, 8, 9, 10, 11, 12, 13, 15, 1, 6, 1, 2, 3, 4, 5, 6, 7, 8, 9, 10, 11, 12, 13, 14, 15, 1, 3, 5, 8, 12, 13, 14, 15, 5, 1, 2, 3, 4, 5, 6, 8, 10, 14, 8, 13, 3, 9, 8, 4, 5, 6, 14, 7, 11, 14, 3, 8, 5, 7, 11, 6, 1, 2, 3, 7, 8, 9, 10, 11, 12, 13, 1, 9, 13, 14, 6, 1, 2, 3, 4, 5, 6, 7, 8, 9, 10, 11, 12, 13, 14, 13, 1, 5, 11, 12, 1, 5, 9, 13, 9, 1, 1, 11, 11, 8, 5, 4, 2, 3, 8, 15, 10, 13, 2, 4, 5, 6, 8, 9, 11, 13, 14, 15, 4, 5, 6, 7, 8, 11, 14, 10, 13, 1, 15, 1, 2, 5, 6, 7, 10, 12, 15, 9, 2, 10, 13, 5, 12, 8, 12, 7, 7, 11, 2, 4, 5, 6, 13, 5, 6, 9, 13, 14, 1, 3, 1, 2, 5, 7, 8, 11, 12, 13, 15, 4, 1, 2, 4, 1, 4, 6, 11, 2, 5, 11, 14, 7, 8, 14, 1, 2, 3, 5, 7, 10, 12, 13, 14, 15, 10, 1, 2, 3, 10, 11, 12, 13, 1, 5, 10, 12, 13, 14, 6, 11, 2, 5, 6, 7, 9, 11, 14, 15, 1, 2, 3, 4, 5, 6, 8, 9, 10, 11, 12, 13, 14, 3, 4, 6, 9, 4, 2, 2, 3, 6, 8, 13, 2, 1, 2, 3, 4, 5, 6, 8, 9, 10, 11, 12, 13, 1, 2, 3, 4, 5, 6, 7, 8, 9, 10, 12, 13, 14, 8, 1, 2, 3, 5, 7, 8, 9, 11, 12, 13, 11, 4, 15, 4, 6, 8, 14, 1, 5, 7, 10, 1, 2, 5, 9, 10, 12, 14, 4, 6, 10, 12, 14, 1, 2, 5, 7, 11, 12, 1, 2, 5, 6, 8, 9, 10, 11, 9, 14, 3, 9, 10, 2, 3, 5, 11, 12, 13, 4, 5, 6, 7, 12, 8, 13, 1, 2, 3, 4, 5, 6, 7, 9, 10, 11, 13, 14, 15, 2, 3, 4, 5, 7, 8, 10, 13, 15, 3, 4, 5, 2, 4, 5, 6, 7, 8, 9, 14, 5, 11, 12, 1, 2, 3, 4, 5, 7, 9, 10, 12, 13, 14, 15, 13, 7, 1, 2, 3, 4, 5, 6, 7, 8, 9, 10, 11, 12, 13, 14, 15, 1, 2, 3, 5, 6, 7, 8, 9, 14, 6, 14, 9, 11, 13, 10], \"Freq\": [0.19818846645961016, 0.007927538658384407, 0.015855077316768815, 0.6896958632794434, 0.03171015463353763, 0.05549277060869085, 0.9881672054080147, 0.9936387293871987, 1.0447994721614338, 0.9276914633459552, 0.9783711116062241, 1.0001499220690646, 1.0323519266360506, 1.0323519266360506, 1.0657593603997535, 0.9387687229967533, 0.9834719955204082, 1.000782105902585, 1.0657593603997535, 1.0657593603997535, 1.0657593603997535, 1.0657593603997535, 1.0657593603997535, 1.0657593603997535, 0.013098216015645228, 0.08513840410169397, 0.06549108007822614, 0.026196432031290455, 0.6811072328135518, 0.01964732402346784, 0.08513840410169397, 0.006549108007822614, 0.01964732402346784, 1.0657593603997535, 1.0657593603997535, 1.0657593603997535, 0.2032926638721352, 0.09223463453457986, 0.01882339480297548, 0.06776422129071173, 0.11011685959740657, 0.1054110108966627, 0.029176261944611998, 0.26446869698180553, 0.015058715842380386, 0.03670561986580219, 0.05647018440892645, 0.09510703054619345, 0.07133027290964508, 0.07133027290964508, 0.7370794867329992, 1.0657593603997535, 0.9936387293871987, 0.24630287463083084, 0.7543025535569194, 1.0276965260997626, 1.0657593603997535, 1.0657593603997535, 1.0657593603997535, 0.9999284411839885, 0.01355749680516758, 0.9896972667772334, 1.0657593603997535, 1.0657593603997535, 1.0061338818699785, 0.999149400374769, 1.0095794576661377, 1.0657593603997535, 1.0657593603997535, 1.0657593603997535, 1.0657593603997535, 1.0001499220690646, 1.0538592584409683, 1.0188371962973446, 0.04760929856383274, 0.9521859712766547, 1.0657593603997535, 1.0657593603997535, 0.9854268390616846, 1.0095794576661377, 1.040797704905404, 0.05766421211081371, 0.9226273937730194, 1.0173157531088557, 0.9854268390616846, 0.9783711116062241, 0.9803056775835672, 1.0034002690807182, 1.002284794536034, 0.03167291759412192, 0.09501875278236575, 0.8551687750412917, 0.043955285307625484, 0.9670162767677606, 0.983775351161757, 0.02618765221117041, 0.1353028697577138, 0.024732782643883167, 0.00581947826914898, 0.04073634788404286, 0.3157066961013322, 0.15421617413244798, 0.05383017398962807, 0.08292756533537297, 0.02036817394202143, 0.06546913052792602, 0.07274347836436225, 1.0106556985613866, 1.0188371962973446, 0.17941541699151045, 0.2311113845992338, 0.12062392441802115, 0.06994160323397866, 0.014191049931531901, 0.040545856947234005, 0.07805077462342545, 0.2665890094280636, 0.9128381572333056, 0.9785835971237562, 0.11467691744143169, 0.0022708300483451817, 0.07947905169208137, 0.04428118594273105, 0.12262482261063982, 0.02384371550762441, 0.4632493298624171, 0.11013525734474132, 0.020437470435106637, 0.009083320193380727, 0.010218735217553319, 0.990600750501302, 0.8165822751928093, 0.01877200632627148, 0.10324603479449312, 0.056316018978814435, 0.9461797317321855, 0.9959786649812477, 0.061653400340403126, 0.03523051448023036, 0.6781874037444344, 0.02642288586017277, 0.061653400340403126, 0.12330680068080625, 0.00880762862005759, 0.04314222245877371, 0.03001198084088606, 0.23634434912197771, 0.033763478445996815, 0.09566318893032431, 0.0037514976051107574, 0.21758686109642392, 0.031887729643441436, 0.035639227248552195, 0.11254492815332272, 0.15756289941465182, 0.061612916084694096, 0.015403229021173524, 0.015403229021173524, 0.8009679091010232, 0.015403229021173524, 0.07701614510586761, 0.1542454569165836, 0.10283030461105572, 0.7418471975511877, 0.9287106419212743, 0.08132391848791687, 0.8904969074426896, 0.004066195924395844, 0.016264783697583374, 0.004066195924395844, 0.06785283011315314, 0.9273220115464264, 1.046954234381872, 0.9441472601470646, 0.03255680207403671, 0.03255680207403671, 0.7744535592347882, 0.17601217255336096, 0.04693657934756292, 0.007487335444643594, 0.029949341778574376, 0.10482269622501032, 0.08984802533572313, 0.239594734228595, 0.09733536078036673, 0.014974670889287188, 0.41180344945539765, 1.0101264766393039, 1.0305955744696553, 0.990600750501302, 1.0613835907671707, 1.006756122823463, 0.9993654055463324, 0.3559161969566851, 0.5404653361194106, 0.09886561026574585, 0.07790000309487097, 0.08610000342064686, 0.03690000146599151, 0.22345000887739302, 0.26650001058771644, 0.06355000252476316, 0.04305000171032343, 0.2029500080629533, 0.20707285933981948, 0.10081178678385948, 0.04223196473377897, 0.06811607215125641, 0.31878321766788, 0.044956607619829225, 0.017710178759326664, 0.008173928658150769, 0.05585517916403025, 0.044956607619829225, 0.04223196473377897, 0.023159464531427178, 0.02724642886050256, 0.04367550792875787, 0.26642059836542303, 0.14704087669348484, 0.10045366823614311, 0.23730359307958446, 0.01747020317150315, 0.004367550792875787, 0.04949890898592559, 0.056778160307385236, 0.07716006400747225, 0.002908364494556392, 0.9975690216328426, 1.0076934505925519, 1.0463412690211344, 0.25949958935137796, 0.7460613193852116, 1.000449509656024, 0.003843231812364545, 0.12426449526645363, 0.08070786805965545, 0.26133976324078906, 0.029464777228128177, 0.08839433168438453, 0.05508632264389181, 0.03971339539443363, 0.14860496341142906, 0.04611878174837454, 0.03202693176970454, 0.03202693176970454, 0.043556627206798176, 0.008967540895517271, 0.0051243090831527265, 0.06173335207273741, 0.11112003373092734, 0.024693340829094964, 0.8025335769455864, 1.0034002690807182, 0.029563058826564126, 0.9755809412766161, 0.01676766783689571, 0.6539390456389327, 0.13414134269516567, 0.06707067134758284, 0.07545450526603069, 0.05030300351068712, 1.0164238725419346, 1.0028906259176946, 0.04340956898408192, 0.9550105176498023, 0.008562620354978423, 0.28542067849928077, 0.38531791597402903, 0.005708413569985615, 0.05137572212987054, 0.03425048141991369, 0.09133461711976984, 0.0028542067849928075, 0.06850096283982739, 0.008562620354978423, 0.05708413569985615, 0.09867708975487338, 0.01644618162581223, 0.7565243547873626, 0.11512327138068561, 1.0101264766393039, 1.005111516262973, 0.5417582326592464, 0.3051282000034836, 0.0062271061225200736, 0.0934065918378011, 0.05604395510268066, 0.009855111378821193, 0.009855111378821193, 0.9756560265032982, 1.0551664980381896, 1.0053757869708264, 1.024742600564984, 0.7306529563182611, 0.06865195562721917, 0.06865195562721917, 0.01961484446491976, 0.11278535567328862, 0.024084662182233242, 0.08028220727411081, 0.024084662182233242, 0.00802822072741108, 0.8590196178329856, 0.11959723421039671, 0.007474827138149794, 0.1270720613485465, 0.04858637639797367, 0.04111154925982387, 0.45970186899621235, 0.07474827138149795, 0.04111154925982387, 0.08222309851964774, 0.132833487734918, 0.7780247138759482, 0.06451912261410302, 0.022771455040271654, 0.9948910252992208, 0.0048951157865594385, 0.0048951157865594385, 0.22028021039517473, 0.06853162101183213, 0.07832185258495102, 0.05874138943871326, 0.03426581050591607, 0.5286725049484193, 0.13474094024337013, 0.8276943472092737, 0.03849741149810575, 0.06619143315104034, 0.383910312276034, 0.45451450763714374, 0.004412762210069357, 0.08825524420138713, 0.01742420595784552, 0.1742420595784552, 0.8015134740608939, 0.01742420595784552, 1.0030074932749762, 0.9475328537918792, 0.036443571299687665, 0.9970077146817538, 1.0084768450004604, 0.009191614323484408, 0.9412213067248035, 0.04779639448211893, 1.0513108130357613, 0.9771572854230806, 0.9733402647768966, 1.0011139010844732, 1.0009685398725041, 1.058532151997241, 0.9923738924974135, 0.08991501648685597, 0.06152080075416462, 0.014197107866345681, 0.14197107866345682, 0.009464738577563787, 0.0047323692887818935, 0.0047323692887818935, 0.07098553933172841, 0.5773490532313911, 0.02366184644390947, 0.9387687229967533, 1.0613835907671707, 0.1500384254588192, 0.7952036549317417, 0.06001537018352768, 0.9733402647768966, 1.025018883808527, 0.5303036834591517, 0.07009761333080741, 0.2834381756419604, 0.003047722318730757, 0.06095444637461514, 0.006095444637461514, 0.045715834780961355, 1.0006068186881838, 1.0004101569071966, 0.9387687229967533, 1.0447994721614338, 0.010275039255600207, 0.35620136086080717, 0.2420342580208049, 0.025116762624800507, 0.020550078511200415, 0.0011416710284000231, 0.010275039255600207, 0.0011416710284000231, 0.0045666841136000925, 0.0045666841136000925, 0.027400104681600552, 0.021691749539600437, 0.2740010468160055, 0.5101501607888731, 0.09499347821585913, 0.15832246369309855, 0.10554830912873236, 0.13369452489639433, 1.009666762483977, 0.999426817817153, 0.3684776394665681, 0.12471550874253073, 0.0028344433805120623, 0.0028344433805120623, 0.008503330141536187, 0.01417221690256031, 0.02550999042460856, 0.008503330141536187, 0.4393387239793696, 0.9960725430512789, 0.08083825914664217, 0.5468470471684617, 0.028531150287050173, 0.047551917145083625, 0.011887979286270906, 0.28293390701324755, 0.9957445163958022, 1.0049990852914514, 0.9461797317321855, 0.9936387293871987, 0.011623241944787858, 0.046492967779151434, 0.05811620972393929, 0.8368734200247258, 0.011623241944787858, 0.023246483889575717, 1.0058236317822355, 0.977590149390815, 1.0131388820959355, 1.0321960709805658, 1.0602188152525203, 0.9943277013997185, 1.0101264766393039, 0.9833406796813492, 0.9815195947330051, 0.028126735682123535, 0.06562904992495491, 0.05625347136424707, 0.009375578560707844, 0.7406707062959197, 0.09375578560707845, 1.012471392379766, 0.999149400374769, 1.0034002690807182, 1.0058236317822355, 1.0076934505925517, 0.9920418905919032, 0.910882311613319, 1.0131388820959355, 0.03359301237976161, 0.34264872627356846, 0.047030217331666256, 0.06718602475952322, 0.5106137881723765, 0.34747076490731243, 0.08493729808845416, 0.5636747964051958, 1.0063245719378306, 0.9017476182008779, 0.024705414197284326, 0.061763535493210814, 0.13194685738141082, 0.5153689017720987, 0.20801033987187117, 0.03725558326063364, 0.06519727070610887, 0.013970843722737616, 0.0294940034146683, 1.0436528962641998, 0.9605825459406564, 0.9287106419212743, 0.0845022418227817, 0.8591061251982806, 0.014083706970463615, 0.02816741394092723, 0.07634519031914389, 0.04771574394946493, 0.5757699769902102, 0.015905247983154975, 0.10179358709219184, 0.07952623991577489, 0.0668020415292509, 0.00636209919326199, 0.02544839677304796, 0.003181049596630995, 0.9990523451417982, 0.15661527774810682, 0.2744977448703378, 0.11956650236683425, 0.04041684587047918, 0.07072948027333857, 0.055573163071908876, 0.05894123356111547, 0.028628599158256086, 0.08756983271937156, 0.04883702209349568, 0.031996669647462686, 0.026944563913652787, 0.7611549112653373, 0.0438706000729301, 0.02193530003646505, 0.041677070069283596, 0.09651532016044623, 0.03290295005469758, 0.2109413848431097, 0.14062758989540647, 0.6504026032662549, 0.5648743851003358, 0.3279915784453563, 0.01822175435807535, 0.0728870174323014, 0.013666315768556514, 0.9826297284420749, 1.0204606096805509, 1.0036754842294935, 0.9991494003747692, 0.9865530285521487, 0.025773902480484098, 0.9536343917779116, 0.025773902480484098, 0.15063669079696188, 0.001569132195801686, 0.001569132195801686, 0.5805789124466239, 0.08630227076909273, 0.047073965874050584, 0.13180710444734164, 0.9868337339267343, 0.006853012041157878, 0.006853012041157878, 0.983056477020483, 1.0058236317822355, 1.0058236317822355, 0.04212217260937794, 0.03776470647737333, 0.04357466132004615, 0.08279185650808768, 0.6463574762473512, 0.05519457100539179, 0.007262443553341025, 0.06971945811207383, 0.01452488710668205, 1.0061338818699785, 0.11041864095741319, 0.7304617786413488, 0.033974966448434826, 0.1189123825695219, 1.0013923443325043, 0.9826297284420749, 0.8583024632564515, 0.07892436443737486, 0.009865545554671857, 0.04932772777335928, 0.026422279344680052, 0.8367055125815349, 0.052844558689360104, 0.08807426448226684, 0.9923738924974135, 0.9765173298378478, 0.026118720549311913, 0.06529680137327978, 0.7770319363420294, 0.0914155219225917, 0.03917808082396787, 0.9909225409410173, 0.9895129782938752, 0.01230495868380909, 0.10254132236507575, 0.8818553723396514, 0.06812347114129286, 0.18670877275761746, 0.05550801352253493, 0.24978606085140717, 0.1614778575201016, 0.027754006761267463, 0.1614778575201016, 0.09083129485505714, 0.01251669655880262, 0.9888190281454069, 0.9860416372213874, 0.936525639014065, 0.05202920216744806, 0.8561406002307046, 0.09437770396243987, 0.05393011654996564, 1.0760042903331715, 0.12934199891682405, 0.043927471330242135, 0.08175390497572842, 0.0329456034976816, 0.028064773349876917, 0.24038088477938055, 0.0658912069953632, 0.2428212998532829, 0.05002850901499798, 0.08663473512353309, 0.07129389577772628, 0.013367605458323679, 0.013367605458323679, 0.01782347394443157, 0.1292201860971289, 0.6906596153467234, 0.05792629031940261, 0.29405835427517873, 0.7057400502604289, 1.0760042903331715, 0.017118712699393537, 0.22468310417954016, 0.04279678174848384, 0.19044567878075308, 0.029957747223938687, 0.14764889703226924, 0.02139839087424192, 0.008559356349696769, 0.008559356349696769, 0.2931579549771143, 0.017118712699393537, 0.13723648860866777, 0.12323276528125268, 0.07562010596804142, 0.546145209769188, 0.06441712730610936, 0.0532141486441773, 0.922289391714147, 1.029128481108429, 0.01743517825420949, 0.01743517825420949, 0.01743517825420949, 0.8368885562020554, 0.12204624777946642, 0.9979385338383485, 0.06973103905807829, 0.11051711850714295, 0.06446831912916672, 0.24076943674770426, 0.003947039946683676, 0.032891999555697306, 0.11183279848937083, 0.32891999555697304, 0.03552335952015309, 0.08730090106497305, 0.021825225266243264, 0.8730090106497305, 0.3880239000459879, 0.05585192500661947, 0.06173107500731626, 0.23810557502821986, 0.05291235000627108, 0.10582470001254216, 0.014697875001741967, 0.06173107500731626, 0.023516600002787148, 1.0681400454590746, 0.010510996972215896, 0.010510996972215896, 0.7042367971384651, 0.09459897274994307, 0.18919794549988614, 0.9856721798050775, 0.3874553679060059, 0.10949825614734948, 0.03369177112226138, 0.46326185293109395, 0.19943029388542405, 0.17890070480898335, 0.0879839531847459, 0.5161725253505093, 0.0029327984394915303, 0.005865596878983061, 0.008798395318474591, 0.9983929816809174, 0.03940682682545501, 0.9457638438109203, 0.019703413412727504, 1.0144266456640225, 0.9879633418640917, 1.0551664980381896, 0.14653696278388129, 0.01465369627838813, 0.556840458578749, 0.227132292315016, 0.021980544417582196, 0.02930739255677626, 0.9799324786962812, 0.9663025047437374, 0.02576806679316633, 0.9280391879730706, 0.05459618589327366, 0.2790471723433987, 0.06066242877030407, 0.030331214385152034, 0.06672867164733447, 0.0788611574013953, 0.42463700139212845, 0.9906246847160259, 1.0109817016888114, 1.0080837537340677, 0.14979263170152837, 0.6301621057788436, 0.0017217543873738895, 0.14118385976465894, 0.03787859652222557, 0.03960035090959946, 0.06154379766335714, 0.24754283060150314, 0.14770511439205714, 0.20514599221119045, 0.19146959273044442, 0.04239683839031269, 0.019146959273044443, 0.05607323787105872, 0.02735279896149206, 0.9280391879730706, 0.24761450906474589, 0.16342557598273227, 0.38627863414100355, 0.01980916072517967, 0.03466603126906442, 0.08666507817266106, 0.06190362726618647, 0.05624107309289024, 0.01406026827322256, 0.9139174377594664, 0.01406026827322256, 1.023859655682272, 1.0053757869708264, 1.0004465133062677, 0.014835862647656678, 0.9791669347453408, 0.08913407117008475, 0.044567035585042374, 0.2913998480560463, 0.017141167532708605, 0.017141167532708605, 0.5382326605270502, 0.04027498010120672, 0.04027498010120672, 0.9162557973024529, 1.0687657809314943, 0.02772745767109058, 0.4173712049437845, 0.14593398774258198, 0.00145933987742582, 0.09777577178752993, 0.00291867975485164, 0.00437801963227746, 0.00437801963227746, 0.07296699387129099, 0.0291867975485164, 0.19117352394278242, 0.04329239930525133, 0.4497599261156666, 0.10342073167365597, 0.06734373225261318, 0.07455913213682175, 0.007215399884208556, 0.10101559837891978, 0.038482132715778966, 0.11063613155786452, 0.029785265924519813, 0.6484023274337775, 0.004582348603772279, 0.13517928381128222, 0.08248227486790102, 0.043532311735836646, 0.0022911743018861393, 0.05040583464149507, 0.0022911743018861393, 0.785546392074214, 0.018853113409781134, 0.08798119591231196, 0.025137484546374846, 0.08169682477571825, 0.007216882071451273, 0.007216882071451273, 0.18763893385773311, 0.10103634900031783, 0.03608441035725637, 0.02886752828580509, 0.03608441035725637, 0.5845674477875531, 0.9994268178171529, 0.06790889896286352, 0.9280882858258015, 0.9280391879730706, 1.0174819802511113, 0.9950471163442225, 0.9854268390616846, 0.9879930547884077, 1.0681400454590746, 0.9911562051717709, 0.08837858256204853, 0.9058804712609974, 0.007364881880170711, 1.029128481108429, 0.7102020955658929, 0.2590148819122668, 0.008355318771363446, 0.01671063754272689, 1.0049990852914514, 0.03378378355298222, 0.9459459394835021, 0.01689189177649111, 0.018978172171955895, 0.01562908296514015, 0.3187216561819652, 0.03069998439581101, 0.20261989701235267, 0.3187216561819652, 0.06028360572268344, 0.01060544915491653, 0.013954538361732277, 0.010047267620447239, 1.0094680890448633, 0.036551817890112054, 0.2156557255516611, 0.058482908624179285, 0.1352417261934146, 0.029241454312089642, 0.025586272523078435, 0.19737981660660509, 0.3070352702769412, 0.9388489869104132, 0.03911870778793389, 0.019559353893966944, 0.03562267070022389, 0.07916149044494196, 0.13853260827864844, 0.7164114885267248, 0.03166459617797679, 0.027265111345592778, 0.03765182042962812, 0.12334217037291971, 0.0428451749716458, 0.20383916577419364, 0.020773418168070688, 0.04024849770063696, 0.2648610816429013, 0.12593884764392854, 0.002596677271008836, 0.03375680452311487, 0.04024849770063696, 0.03505514315861929, 0.08663887840030975, 0.08894924849098468, 0.00346555513601239, 0.4759362386790349, 0.07970776812828498, 0.16519146148325725, 0.09703554380834692, 0.00346555513601239, 1.0061338818699785, 0.0765896505550084, 0.0468548450454169, 0.009911601836530498, 0.8668146333402127, 0.9776720570530074, 0.010031672225660442, 0.21334022933237873, 0.07423437446988727, 0.39123521680075724, 0.24009135526747324, 0.012706784819169892, 0.008025337780528352, 0.05015836112830221, 1.0019067804136317, 0.010714223982487935, 0.0664281886914252, 0.3749978393870777, 0.019285603168478282, 0.017142758371980694, 0.07499956787741555, 0.09214232624939624, 0.038571206336956564, 0.010714223982487935, 0.023571292761473458, 0.26999844435869597, 0.5238021597663048, 0.04621783762643866, 0.07702972937739777, 0.1309505399415762, 0.015405945875479552, 0.003851486468869888, 0.0962871617217472, 0.011554459406609666, 0.02310891881321933, 0.026960405282089216, 0.042366351157568774, 1.024742600564984, 0.9272325412620549, 0.061815502750803664, 1.062696030215539, 1.0171592744852052, 0.01363009001828642, 0.04089027005485926, 0.940476211261763, 1.0391153763897598, 1.062696030215539, 1.0189627880192766, 1.0272896671865355, 1.0436528962641998, 0.004429982447894183, 0.004429982447894183, 0.004429982447894183, 0.314528753800487, 0.531597893747302, 0.017719929791576734, 0.11517954364524877, 0.004429982447894183, 0.05215326630169637, 0.057368592931866004, 0.022599748730735093, 0.009561432155311002, 0.29292751239452797, 0.07388379392740319, 0.012169095470395819, 0.0990912059732231, 0.04606871856649846, 0.18949020089616347, 0.05215326630169637, 0.05649937182683774, 0.006953768840226183, 0.013907537680452366, 0.01564597989050891, 0.2793570343465622, 0.6704568824317493, 0.04966347277272217, 0.13420533844282612, 0.06891625487604584, 0.35908995961729145, 0.014508685237062282, 0.007254342618531141, 0.0036271713092655704, 0.3699714735450882, 0.03627171309265571, 1.0013533045298701, 0.024195734835208895, 0.008798449030985053, 0.006598836773238789, 0.5587015134675508, 0.32994183866193943, 0.07258720450562668, 0.6460085504253016, 0.08452448323321704, 0.15093657720217327, 0.030187315440434657, 0.006037463088086931, 0.06641209396895624, 0.012074926176173862, 0.9287106419212743, 0.35090126827640716, 0.6478177260487518, 0.05208720323809788, 0.15300615951191252, 0.02929905182143006, 0.009766350607143353, 0.15951705991667475, 0.05208720323809788, 0.055342653440479, 0.4590184785357376, 0.02929905182143006, 0.991235909433718, 1.0058236317822355, 0.7772688788347153, 0.06643323750724062, 0.02657329500289625, 0.1262231512637572, 0.9128381572333056, 0.07633996060096677, 0.03816998030048339, 0.8779095469111179, 1.0125149503561526, 1.017872172315709, 0.9981032598320211, 0.005546197018508072, 0.1996630926662906, 0.044369576148064575, 0.044369576148064575, 0.09428534931463722, 0.04991577316657265, 0.5657120958878233, 0.9128381572333056, 0.06160614848132507, 0.9343599186334303, 0.46799637992697407, 0.3353077511354182, 0.02151707493917122, 0.0017930895782642684, 0.03048252283049256, 0.02510325409569976, 0.06455122481751366, 0.05020650819139952, 0.14278467618783763, 0.2106427401186912, 0.3336354809933632, 0.0014137096652261153, 0.050893547948140154, 0.17812741781849054, 0.06220322526994907, 0.0014137096652261153, 0.019791935313165615, 1.0076934505925519, 0.07073096039273773, 0.02270376506433557, 0.19909455517955807, 0.013971547731898811, 0.07160418212598141, 0.13447614691952606, 0.2121928811782132, 0.08120962119166183, 0.13971547731898812, 0.04366108666218378, 0.0008732217332436757, 0.008732217332436757, 1.026942926887469, 0.8888334274294246, 0.10883674621584792, 0.10555673519417998, 0.010555673519417998, 0.010555673519417998, 0.021111347038835996, 0.09500106167476198, 0.7600084933980958, 1.0204606096805509, 1.0208431067703776, 1.0063245719378306, 0.9924253680078161, 0.06253834289591462, 0.9255674748595363, 0.017335984984601264, 0.6761034143994492, 0.11701789864605852, 0.04333996246150316, 0.03900596621535284, 0.06934393993840506, 0.03900596621535284, 0.1475751389126289, 0.8264207779107219, 0.9461797317321855, 1.0174819802511113, 0.9641715786295898, 0.03708352225498422, 1.0204606096805509, 1.0124063868797133, 1.0323519266360506, 0.9997488785999844, 0.40441295234553637, 0.17156913129810636, 0.16237792783570779, 0.015318672437330923, 0.09497576911145172, 0.08884830013651936, 0.05821095526185751, 1.0336324878741447, 0.009209961024513614, 0.14735937639221783, 0.644697271715953, 0.20261914253929952, 1.0687657809314943, 0.05374814925717916, 0.967466686629225, 0.09386166940729912, 0.5229435866978094, 0.04357863222481745, 0.04357863222481745, 0.1441447065897808, 0.0033522024788321114, 0.06369184709781012, 0.02681761983065689, 0.060339644618978006, 0.8065851907119481, 0.19037414439163994, 0.0050098459050431565, 0.008870126445120934, 0.9934541618535446, 0.02663629225944189, 0.07990887677832567, 0.8789976445615825, 1.0430763588852814, 1.0169994499131494, 0.35103787229876693, 0.03120336642655706, 0.12481346570622824, 0.02860308589101064, 0.08580925767303192, 0.10141094088631045, 0.0598064523175677, 0.023402524819917794, 0.19502104016598162, 0.9387687229967533, 0.47096180532102533, 0.017635133679421655, 0.07468997793637407, 0.07987678195973337, 0.14004370863070137, 0.014523051265406067, 0.03112082414015586, 0.16494036794282607, 0.006224164828031172, 0.9690304573820107, 1.0169994499131494, 0.9979385338383485, 0.047701094031101586, 0.11274804043714921, 0.18213144993693334, 0.06938340949978412, 0.5854225176544285, 0.013417792784569373, 0.026835585569138745, 0.04025337835370812, 0.898992116566148, 0.013417792784569373, 0.9943277013997184, 1.0160430312836652, 0.09711345685919376, 0.0051112345715365135, 0.7053503708720389, 0.04600111114382863, 0.06133481485843817, 0.020444938286146054, 0.06133481485843817, 1.0162214277823622, 1.0375755656784154, 0.02608236542134683, 0.04347060903557805, 0.03477648722846244, 0.023908834969567926, 0.14780007072096538, 0.12823829665495523, 0.11519711394428182, 0.004347060903557805, 0.39340901177198134, 0.06737944400514598, 0.0021735304517789024, 0.013041182710673414, 1.083969522967853, 0.01915631654644854, 0.48955031174257374, 0.2234903597085663, 0.01702783693017648, 0.05108351079052943, 0.16389293045294862, 0.01915631654644854, 0.01915631654644854, 0.1521218330816047, 0.23663396257138508, 0.6169385452753968, 0.9280391879730706, 0.05204582489963991, 0.30827142440555944, 0.004003524992279993, 0.04804229990735991, 0.592521698857439, 0.13144630750673605, 0.8544009987937843, 0.058858590376803244, 0.050450220322974214, 0.8324286353290745, 0.050450220322974214, 1.029128481108429, 1.0250280427098675, 0.04706702288430305, 0.04706702288430305, 0.009413404576860608, 0.8848600302248972, 0.5519655982321073, 0.07228120929229978, 0.0032855095132863534, 0.05585366172586801, 0.02956958561957718, 0.27269728960276735, 0.00985652853985906, 0.0032855095132863534, 0.2476642451259157, 0.04329349272123976, 0.03692680261517509, 0.02164674636061988, 0.4736817438912115, 0.06175689402882731, 0.11523709091977054, 1.0463412690211344, 0.9918443279262836, 0.9860416372213874, 0.9128381572333056, 0.9387687229967533, 0.7828085892411277, 0.21918640498751576, 0.9387687229967533, 0.9833406796813492, 0.784436220298429, 0.0641811452971442, 0.0641811452971442, 0.0927060987625416, 1.024742600564984, 0.9287106419212743, 0.9949637557622408, 0.05049522142549706, 0.9341615963716956, 0.9939551392992377, 0.1460660280148301, 0.3088253163742122, 0.06885969892127704, 0.008346630172276005, 0.06051306874900104, 0.03964649331831103, 0.22118569956531414, 0.1251994525841401, 0.006259972629207004, 0.01460660280148301, 1.0076934505925519, 0.9375124936999994, 0.011433079191463408, 0.04573231676585363, 0.2653184933325553, 0.7243616008444367, 0.008422809312144612, 0.10430626226670613, 0.016469409831585177, 0.647796786709017, 0.2305717376421925, 0.08339884346039049, 0.020849710865097622, 0.8965375671991977, 0.9975040228043316, 1.0463412690211344, 1.0049990852914517, 1.0034002690807182, 0.15880314179780206, 0.02117375223970694, 0.677560071670622, 0.14821626567794857, 0.1118439442012137, 0.8388295815091027, 0.027960986050303425, 1.0299921866926793, 0.9756221809677622, 0.037523930037221626, 0.13106039545616016, 0.013795831100648439, 0.0068979155503242195, 0.3104061997645899, 0.013795831100648439, 0.0068979155503242195, 0.4966499196233438, 0.02069374665097266, 0.9990523451417982, 0.056950749444647945, 0.027119404497451403, 0.4040791270120259, 0.16542836743445355, 0.26305822362527864, 0.08407015394209935, 1.0375755656784154, 0.9733402647768966, 0.6699794362361324, 0.009709846901972933, 0.3204249477651068, 1.0272896671865355, 0.999149400374769, 1.0034002690807182, 0.12134292878435465, 0.04381827983879474, 0.01685318455338259, 0.04044764292811822, 0.42132961383456474, 0.10786038114164857, 0.10111910732029554, 0.026965095285412143, 0.053930190570824287, 0.06404210130285384, 1.043243608266635, 1.0272896671865355, 1.0606162148263663, 0.2796247861501529, 0.013981239307507646, 0.06524578343503568, 0.17243528479259432, 0.46604131025025486, 0.8969891081060819, 0.10763869297272984, 0.23456843849770695, 0.26305174888671423, 0.010052933078473155, 0.12231068578809004, 0.0016754888464121924, 0.1105822638632047, 0.056966620778014544, 0.011728421924885346, 0.03350977692824385, 0.03853624346748043, 0.0050264665392365775, 0.05529113193160235, 0.056966620778014544, 0.7615003411427597, 0.061743270903467, 0.17150908584296387, 0.006860363433718555, 0.006980180271365605, 0.06282162244229045, 0.08027207312070446, 0.020940540814096815, 0.07329189284933886, 0.10819279420616688, 0.07678198298502166, 0.42230090641761914, 0.010470270407048407, 0.01396036054273121, 0.05235135203524204, 0.06631171257797325, 0.03783524181936661, 0.9458810454841652, 1.0760042903331715, 0.05376434838949287, 0.003258445356938962, 0.18247293998858188, 0.19387749873786825, 0.04398901231867599, 0.07983191124500456, 0.03258445356938962, 0.01466300410622533, 0.09123646999429094, 0.01629222678469481, 0.2232035069503189, 0.06516890713877924, 0.9865530285521487, 1.001314197835228, 0.6635805983539087, 0.14366177902507302, 0.0068410370964320484, 0.1847080016036653, 1.0447994721614338, 0.01286458602906697, 0.9905731242381568, 0.009638480649465622, 0.043002452128385084, 0.2876715763071278, 0.16088848468723385, 0.014828431768408649, 0.11269608143990573, 0.009638480649465622, 0.13790441544620044, 0.0778492667841454, 0.051158089601009836, 0.02075980447577211, 0.017052696533669948, 0.05783088389679373, 0.9948712695788644, 0.990600750501302, 0.3463018020475896, 0.07405195767055375, 0.021779987550162867, 0.006533996265048861, 0.1785958979113355, 0.02831398381521173, 0.12196793028091206, 0.006533996265048861, 0.03484798008026059, 0.058805966385439744, 0.037025978835276876, 0.04138197634530945, 0.04138197634530945, 0.008499810872197023, 0.016999621744394046, 0.059498676105379164, 0.08499810872197024, 0.016999621744394046, 0.722483924136747, 0.008499810872197023, 0.04249905436098512, 0.02549943261659107, 0.022585604179323815, 0.01290605953104218, 0.08066287206901362, 0.01935908929656327, 0.0467844658000279, 0.07582309974487281, 0.33233103292433613, 0.15648597181388643, 0.05969052533107008, 0.06291704021383063, 0.04355795091726736, 0.024198861620704087, 0.01290605953104218, 0.048397723241408175, 1.0237120154183843, 0.14989719879047686, 0.012922172309523866, 0.010337737847619093, 0.718472780409527, 0.002584434461904773, 0.09820850955238139, 0.005168868923809546, 0.8614600762677792, 0.13161195609646628, 1.0053757869708264, 1.0053757869708264, 1.0681400454590746, 0.9769460803664408, 0.3454895492989834, 0.06169456237481846, 0.5922677987982573, 0.0352515013751949, 0.9517905371302623, 0.9995132730189776, 0.9879930547884077, 0.48384860293034765, 0.011729663101341761, 0.17594494652012643, 0.1671476991941201, 0.15835045186811378, 0.1461471560293248, 0.05995780760177428, 0.15176820049199113, 0.06370517057688517, 0.01498945190044357, 0.3616205270982011, 0.10305248181554953, 0.02248417785066535, 0.03559994826355348, 0.04309467421377526, 0.9918496282011697, 1.0436528962641998, 0.15579867621304982, 0.6788370892140028, 0.0037094922907869006, 0.15950816850383673, 0.0037094922907869006, 1.0189627880192766, 0.9769460803664408, 0.014962855963550712, 0.987548493594347, 0.00488801791417603, 0.05132418809884831, 0.11242441202604869, 0.28106103006512173, 0.23706886883753744, 0.12464445681148877, 0.026884098527968164, 0.04643617018467228, 0.11242441202604869, 0.32477591102271414, 0.6745345844317909, 0.0936024381148451, 0.1421370356558759, 0.06240162540989674, 0.06066824692628849, 0.14733717110670064, 0.024267298770515398, 0.22013906741824682, 0.09533581659845335, 0.04333446209020607, 0.08320216721319565, 0.027734055737731883, 0.9990523451417982, 0.0028245602558122844, 0.07626312690693168, 0.43215771913927953, 0.24291218199985645, 0.08473680767436853, 0.0028245602558122844, 0.10733328972086681, 0.016947361534873705, 0.03107016281393513, 0.9128381572333056, 1.0092583805143311, 0.9936897944872574, 0.8814660771500578, 0.1259237253071511, 1.0247659907934967, 1.0613835907671707, 1.0131388820959355, 0.9160849550841381, 0.4411709822951562, 0.5568879612578201, 0.01751443881435664, 0.06050442499505021, 0.038213321049505394, 0.42193875325495545, 0.4617442960148569, 0.1219193109557853, 0.14020720759915312, 0.09753544876462825, 0.05486368993010339, 0.006095965547789265, 0.5791167270399802, 0.9999666409979623, 0.9996314191940742, 1.040797704905404, 0.967448585865796, 0.046068980279323615, 1.0551664980381896, 1.0051926947853793, 0.04870416462435447, 0.13799513310233769, 0.3612225542972957, 0.06088020578044309, 0.004058680385362873, 0.19887533888278078, 0.1501711742584263, 0.03652812346826586, 0.16348280845396318, 0.043898161529304924, 0.24825167209675889, 0.11050226867721584, 0.06054918831628266, 0.022705945618605995, 0.13926313312745012, 0.12412583604837944, 0.08779632305860985, 0.3067859696835578, 0.6260938156807302, 0.015652345392018256, 0.012521876313614604, 0.02504375262722921, 0.003130469078403651, 0.006260938156807302, 0.01738265551767717, 0.9560460534722443, 0.01738265551767717, 0.05197236449198194, 0.06496545561497742, 0.08662060748663657, 0.08228957711230474, 0.41577891593585553, 0.09528266823530022, 0.038979273368986454, 0.08228957711230474, 0.030317212620322796, 0.05197236449198194, 0.9461797317321855, 0.9939904125847976, 0.9287106419212743, 0.9491352318610843, 0.04519691580290878, 1.083969522967853, 0.06823702893541156, 0.2515021923619455, 0.05069036435202001, 0.07993480532433926, 0.0487407349538654, 0.015597035185236927, 0.0370429585649377, 0.02339555277785539, 0.08188443472249388, 0.052639993750174634, 0.2086103456025439, 0.06628739953725694, 0.013647405787082312, 0.041670697742992945, 0.025002418645795766, 0.3250314423953449, 0.6083921870476969, 0.9987452723839734, 0.39521621623926717, 0.6086329730084714, 1.0083071469224387, 1.026942926887469, 1.0058236317822355, 0.02976105501928165, 0.9225927055977312, 0.02976105501928165, 1.043243608266635, 0.9815588110065178, 0.029744206394136902, 1.0215817061134018, 0.9743584151380272, 0.03044870047306335, 0.8442955318632903, 0.02617970641436559, 0.006544926603591398, 0.05235941282873118, 0.02617970641436559, 0.04581448622513978, 0.9918443279262836, 1.0613835907671707, 0.9948712695788644, 0.9991494003747692, 0.986789170914429, 1.0215817061134018, 0.9280391879730706, 0.9739998443429442, 0.06764077381515976, 0.009662967687879965, 0.017839324962239937, 0.6682313808772375, 0.10034620291259964, 0.031962123890679886, 0.009662967687879965, 0.005203136447319981, 0.013379493721679951, 0.07656043629627972, 1.0171592744852052, 1.0538592584409683, 0.9864797863701713, 0.021445212747177637, 0.9997248102196165, 0.025183927337068698, 0.038615355250172005, 0.1897189192725842, 0.0033578569782758264, 0.12424070819620558, 0.30892284200137604, 0.04029428373930992, 0.04700999769586157, 0.09066213841344732, 0.13095642215275724, 0.12967530383827816, 0.8336269532460739, 0.01852504340546831, 0.9834719955204082, 1.0561148133713476, 0.13886745518968413, 0.003967641576848119, 0.0872881146906586, 0.4919875555291667, 0.011902924730544355, 0.011902924730544355, 0.03174113261478495, 0.03570877419163306, 0.007935283153696238, 0.003967641576848119, 0.17060858780446908, 0.003967641576848119, 0.07021029620495207, 0.046138194648968504, 0.14844462626189867, 0.2948832440607987, 0.030090126944979458, 0.11634849085392057, 0.11634849085392057, 0.04012016925997261, 0.14042059240990415, 0.17338615211192912, 0.4902642921785582, 0.041851829820120826, 0.29296280874084574, 1.0061338818699785, 0.886286243483254, 0.11190482872263308, 0.9854268390616846, 1.0299921866926793, 0.968587400490162, 0.03325158554633759, 0.5708188852121288, 0.11638054941218158, 0.27155461529509034, 0.005541930924389599, 0.9974025124530591, 0.10049901137296154, 0.4656843724665718, 0.15659148283694008, 0.030383422042988373, 0.020450380221242175, 0.016360304176993738, 0.11218494292795707, 0.03681068439823591, 0.008180152088496869, 0.009933041821746199, 0.043237946753483456, 0.11024868599003573, 0.027562171497508933, 0.8636147069219465, 0.9969307090951365, 0.9936897944872574, 0.9280391879730706, 0.9287106419212743, 0.11771074265659642, 0.004359657135429497, 0.1351493711983144, 0.08283348557316045, 0.008719314270858994, 0.1395090283337439, 0.06539485703144246, 0.4403253706783792, 0.9731772196262292, 0.017378164636182664, 0.005792721545394221, 0.9194977795770508, 0.08173313596240452, 0.9783711116062241, 0.9922153882970713, 0.012054813045263766, 0.8438369131684635, 0.14465775654316518, 0.9974629893820155, 0.9276914633459552, 0.991235909433718, 1.0024884692545075, 0.0676597311948732, 0.9134063711307882, 0.9860416372213874, 0.968587400490162, 0.9785835971237562, 0.062113677957360676, 0.06971943444193544, 0.13563599064158352, 0.1394388688838709, 0.084930947411085, 0.10267771254175947, 0.031690652019061565, 0.01394388688838709, 0.053240295392023435, 0.03295827809982403, 0.04943741714973605, 0.04563453890744866, 0.06971943444193544, 0.021549643372961867, 0.08746619957260993, 0.07298098370993317, 0.06994010938868594, 0.14596196741986633, 0.015204371606236075, 0.5990522412857013, 0.01216349728498886, 0.02432699456997772, 0.003040874321247215, 0.027367868891224934, 0.027367868891224934, 0.35193139005061197, 0.031993762731873814, 0.6238783732715394, 0.11691880023289637, 0.8671477683939814, 0.01948646670548273, 0.023163134183366057, 0.9728516357013745, 1.0188371962973446, 0.9990523451417982, 0.04709179811689581, 0.1284321766824431, 0.0021405362780407187, 0.08134037856554731, 0.09632413251183233, 0.2996750789257006, 0.004281072556081437, 0.303956151481782, 0.0342485804486515, 0.9994268178171529, 0.9759453338714132, 0.11238514225957447, 0.8990811380765957, 1.0336324878741447, 0.3993687028327911, 0.035238414955834504, 0.044048018694793134, 0.0851595028099334, 0.1321440560843794, 0.30539959628389907, 1.0326455952964286, 1.007103471432842, 0.10209319800159523, 0.6346333929828893, 0.09381537113660103, 0.046907685568300515, 0.002759275621664736, 0.11864885173158365, 1.0681400454590746, 0.9979385338383485, 0.022545530157613413, 0.8567301459893096, 0.045091060315226826, 0.06763659047284024, 0.232895606895068, 0.09766589966567368, 0.409445502444555, 0.056345711345580966, 0.17279351479311497, 0.03380742680734858, 1.0039609954270834, 0.23418850771319583, 0.009367540308527832, 0.6276252006713648, 0.13114556431938967, 1.0232602116162566, 1.085314112267852, 0.9693118996139148, 0.023641753649119874, 0.16563398539151455, 0.8338814436952112, 0.054814762657619025, 0.23981458662708321, 0.08393510531947913, 0.06509253065592259, 0.04111107199321427, 0.023981458662708323, 0.003425922666101189, 0.03768514932711308, 0.23124977996183024, 0.09421287331778269, 0.04111107199321427, 0.04453699465931546, 0.013703690664404756, 0.025694419995758916, 1.0173157531088557, 1.010042386374819, 1.008314411228812, 1.0049990852914514, 0.9771430277687644, 0.02442857569421911, 0.9473880102766162, 0.03686958415628117, 0.016030253980991813, 0.015921904114019253, 0.32905268502306456, 0.4015858037647078, 0.10614602742679502, 0.06899491782741676, 0.008845502285566251, 0.0017691004571132503, 0.0035382009142265005, 0.030074707770925253, 0.03361290868515175, 0.9387687229967533, 0.14233219987229975, 0.8539931992337986, 0.9948712695788644, 0.969815212893181, 0.016720951946434155, 0.008360475973217077, 0.07685584779731859, 0.15371169559463718, 0.7429398620407464, 0.012809307966219765, 0.012809307966219765, 0.06253221603174887, 0.19593427689947981, 0.07503865923809865, 0.14173968967196413, 0.49817332105293266, 0.022928479211641255, 0.006253221603174887, 0.1548337488738448, 0.1843258915164819, 0.6635732094593348, 0.9155486103934926, 1.010042386374819, 0.005989995938988899, 0.06139745837463621, 0.05989995938988899, 0.020964985786461145, 0.0029949979694944497, 0.0029949979694944497, 0.08984993908483349, 0.12279491674927243, 0.619964579685351, 0.013477490862725023, 0.9748916804837371, 0.024372292012093427, 0.986789170914429, 0.06242666595912023, 0.9363999893868034, 0.06843397799372058, 0.9307021007146, 0.025647109619401188, 0.6283541856753291, 0.33982420245706574, 1.0125149503561526, 0.06402106029666081, 0.04142539195666287, 0.07155294974332678, 0.15440373365665253, 0.5008706482032875, 0.030127557786663907, 0.02636161306333092, 0.11297834169998966, 1.0272896671865355, 1.0538592584409683, 1.001970542774651, 1.0237489939140834, 0.10757526570640494, 0.13202418973058788, 0.03911827843869271, 0.07334677207254882, 0.6063333157997369, 0.044008063243529294, 0.9803056775835672, 0.015702694803040932, 0.010468463202027288, 0.7223239609398828, 0.09421616881824559, 0.0837477056162183, 0.06804501081317738, 1.0120270509228604, 0.9445647640892588, 0.03498388015145403, 0.9368438451506101, 0.024653785398700268, 0.024653785398700268, 0.9065255277667602, 0.0805800469126009, 0.13747447908908242, 0.09737775602143339, 0.045824826363027475, 0.2673114871176603, 0.03245925200714446, 0.09546838825630724, 0.026731148711766028, 0.053462297423532056, 0.042006090832775185, 0.19093677651261448, 0.009546838825630724, 1.0049990852914517, 0.03919710321303785, 0.138971547755316, 0.019598551606518924, 0.014253492077468307, 0.06592240085829093, 0.04276047623240492, 0.051668908780822614, 0.10868287709069585, 0.23340093276854354, 0.18707708351677155, 0.09977444454227816, 0.059669623253208334, 0.4541521325383079, 0.3016630953356643, 0.016574895348113426, 0.06298460232283101, 0.03314979069622685, 0.07292953953169908, 1.012471392379766, 0.10731124665248286, 0.19385257459803354, 0.006923306235644055, 0.19385257459803354, 0.06577140923861853, 0.015577439030199125, 0.057117276444063454, 0.19039092148021153, 0.05884810300297447, 0.00865413279455507, 0.0380781842960423, 0.01903909214802115, 0.020769918706932164, 0.024231571824754192, 0.07123056983090251, 0.1285247238253241, 0.07742453242489403, 0.07432755112789827, 0.15330057420129017, 0.020130378430472447, 0.04180924750944277, 0.0015484906484978804, 0.05419717269742582, 0.25859793829914607, 0.05419717269742582, 0.04955170075193217, 0.015484906484978805, 0.12446147663138349, 0.010371789719281958, 0.05531621183617044, 0.09334610747353762, 0.3249827445375013, 0.02765810591808522, 0.0034572632397606527, 0.04494442211688848, 0.2247221105844424, 0.08988884423377697, 0.052730340410891134, 0.9491461273960404, 1.0410083561295074, 0.05169523989915171, 0.9563619381343067, 0.498991491055718, 0.08624544289851915, 0.06981773948927741, 0.04722964730157002, 0.2956986613663514, 1.0613835907671707, 0.08825940244667183, 0.6293279130980078, 0.2110550928072587, 0.04221101856145174, 0.026861557266378382, 0.0038373653237683404, 0.9943277013997184, 0.9991468410236594, 0.029027868931130258, 0.9579196747272986, 0.014513934465565129, 0.926215632997586, 0.49286511276117445, 0.05851366635520793, 0.16653889654943796, 0.0022505256290464588, 0.05626314072616147, 0.09902312767804419, 0.12377890959755523, 0.40055877195553397, 0.19881749264946214, 0.06432330644541422, 0.0029237866566097373, 0.0935611730115116, 0.05847573313219474, 0.0029237866566097373, 0.04093301319253632, 0.09940874632473107, 0.04093301319253632, 1.0299921866926793, 0.9109037988459319, 0.08996580729342538, 0.12542462194042356, 0.2184815995091249, 0.04855146655758331, 0.36009004363540953, 0.11126377752779508, 0.03236764437172221, 0.024275733278791654, 0.016183822185861105, 0.022252755505559017, 0.04045955546465276, 0.9461797317321854, 0.9906246847160259, 0.9780408827499704, 1.0305955744696553, 0.2833969334204936, 0.6938338714777601, 0.019544616097965074, 0.021020088403179905, 0.08408035361271962, 0.005255022100794976, 0.01576506630238493, 0.8670786466311712, 0.018504959580689227, 0.8512281407117045, 0.018504959580689227, 0.07401983832275691, 0.018504959580689227, 1.0004612009471507, 0.19845828803153642, 0.060752537152511145, 0.020250845717503716, 0.07695321372651412, 0.5062711429375929, 0.04050169143500743, 0.016200676574002974, 0.04050169143500743, 0.03645152229150669, 1.040797704905404, 0.032629780091961616, 0.016314890045980808, 0.9462636226668868, 0.5119112566310384, 0.48832726919817215, 1.0169994499131494, 0.0037834632609938103, 0.15890545696174002, 0.06810233869788858, 0.0037834632609938103, 0.0037834632609938103, 0.04540155913192572, 0.7150745563278301, 1.0063245719378306, 0.008433498699693677, 0.4427586817339181, 0.016866997399387355, 0.5313104180807017, 0.9679770139306525, 0.013444125193481284, 0.013444125193481284, 0.0526363505558534, 0.06842725572260942, 0.1052727011117068, 0.031581810333512046, 0.5210998705029487, 0.01052727011117068, 0.14738178155638954, 0.06842725572260942, 0.06815688089986609, 0.7451818978385358, 0.14994513797970538, 0.02271896029995536, 0.009087584119982143, 1.0063245719378306, 0.11280655305829528, 0.27574935192027733, 0.012534061450921697, 0.012534061450921697, 0.6016349496442415, 0.8690745908793347, 0.013579290482489605, 0.10863432385991684, 0.013579290482489605, 0.05755147133877135, 0.0255784317061206, 0.03197303963265075, 0.255784317061206, 0.00639460792653015, 0.00639460792653015, 0.6138823609468944, 0.986789170914429, 1.0326455952964286, 0.06925671579779916, 0.006925671579779916, 0.9280399916905088, 1.0145183308855616, 1.0101264766393039, 0.9900925732043161, 0.020335166764761735, 0.5409154359426621, 0.016268133411809386, 0.2358879344712361, 0.09354176711790398, 0.09354176711790398, 0.7404410943030577, 0.15631534213064552, 0.08227123270033974, 0.020567808175084936, 0.9906246847160259, 0.019304246650621807, 0.39453054092208323, 0.02413030831327726, 0.08928214075912587, 0.007239092493983178, 0.0229237928976134, 0.002413030831327726, 0.07359744035549565, 0.02051076206628567, 0.053086678289209974, 0.2051076206628567, 0.026543339144604987, 0.05911925536752929, 0.9605825459406564, 0.926215632997586, 0.9906246847160259, 0.9218269231449873, 0.06828347578851757, 1.029128481108429, 0.9865530285521487, 0.004953799894272905, 0.15852159661673296, 0.014861399682818716, 0.05696869878413841, 0.21301339545373493, 0.007430699841409358, 0.07430699841409358, 0.0024768999471364525, 0.06192249867841131, 0.3096124933920566, 0.054491798837001955, 0.04458419904845615, 1.017872172315709, 0.021285731564363267, 0.31417739789000176, 0.2009373059675892, 0.019582873039214205, 0.023840019352086857, 0.022137160826937795, 0.2222230375319525, 0.002554287787723592, 0.02639430713981045, 0.01447429746376702, 0.10813151634696538, 0.02469144861466139, 1.0208431067703776, 0.9847946617310187, 0.02461986654327547, 0.13921929885950074, 0.8662534151257824, 0.008617225449535018, 0.990980926696527, 1.0319007132458602, 0.9891879013563756, 0.9705858194514996, 0.02156857376558888, 0.13203963868624335, 0.04697564068645196, 0.03808835731333943, 0.008887283373112533, 0.17774566746225065, 0.07109826698490027, 0.03174029776111619, 0.10283856474601645, 0.08633360991023603, 0.09522089328334857, 0.12315235531313082, 0.07109826698490027, 0.013965731014891123, 0.12533033013558117, 0.6775670972954857, 0.15274633985273955, 0.003916572816736912, 0.039165728167369115, 0.011945651458582108, 0.16723912042014952, 0.02090489005251869, 0.14782743679995358, 0.037330160808069085, 0.10004483096562515, 0.2822160157090023, 0.07913994091310647, 0.04180978010503738, 0.06420787658987882, 0.010452445026259345, 0.03882336724039185, 1.062696030215539, 0.9959786649812477, 1.0649778501055234, 0.9594184675882075, 0.04568659369467654, 0.1431569231256478, 0.5726276925025912, 0.008947307695352987, 0.2773665385559426, 0.9716761143186843, 0.03350607290754084, 1.0247659907934967, 1.0041219729566362, 0.08895123405695997, 0.020929702131049405, 0.015697276598287055, 0.020929702131049405, 0.005232425532762351, 0.13604306385182113, 0.6592856171280562, 0.047091829794861165, 1.0247659907934967, 0.9993654055463324, 0.944938025985117, 0.03779752103940468, 0.012681123828685074, 0.4565204578326627, 0.5326072008047732, 1.0120914573481323, 1.0272896671865355, 0.9287106419212743, 0.9900894691449121, 1.0299921866926793, 0.8197284398130421, 0.153136082162876, 0.013512007249665529, 0.009008004833110353, 0.9632495530451087, 0.03567590937204106, 1.058532151997241, 0.13931072718333093, 0.08798572243157743, 0.002094898153132796, 0.2555775746822011, 0.18435103747568604, 0.07227398628308146, 0.02094898153132796, 0.06389439367055028, 0.03980306490952312, 0.001047449076566398, 0.1016025604269406, 0.03142347229699194, 1.0145183308855616, 0.10163948685002604, 0.05081974342501302, 0.8385257665127148, 0.9579377199988466, 0.03991407166661861, 0.9936897944872574, 0.9895375609023523, 0.2957759811977854, 0.01998486359444496, 0.023981836313333952, 0.029311133271852606, 0.46364883539112306, 0.04130205142851958, 0.01998486359444496, 0.001332324239629664, 0.030643457511482272, 0.01998486359444496, 0.051960645345556895, 0.9881672054080147, 1.056640800534722, 0.9461797317321855, 0.9837778711382342, 0.2248442455160083, 0.046842551149168396, 0.046842551149168396, 0.24045842923239777, 0.028105530689501036, 0.04996538789244629, 0.29666949061139986, 0.06557957160883575, 0.9765417088738028, 0.11566082611098878, 0.007710721740732586, 0.04626433044439551, 0.015421443481465172, 0.8096257827769214, 0.3856507278366918, 0.002989540525865828, 0.002989540525865828, 0.6068767267507631, 1.0463412690211344, 0.9818564519636349, 0.07235703721656396, 0.9165224714098102, 0.926215632997586, 1.0410083561295074, 0.9976330079574447, 1.0120914573481323, 1.056640800534722, 0.12766804310139365, 0.03359685344773517, 0.194861749996864, 0.006719370689547035, 0.577865879301045, 0.047035594826829244, 0.006719370689547035, 0.16995084413447467, 0.0031472378543421233, 0.15736189271710616, 0.02832514068907911, 0.00944171356302637, 0.3115765475798702, 0.0031472378543421233, 0.11015332490197431, 0.204570460532238, 1.0109817016888114, 1.0213527203830972, 0.006408993309368363, 0.03418129764996461, 0.06836259529992922, 0.01922697992810509, 0.08118058191866594, 0.6003090399775034, 0.002136331103122788, 0.061953601990560846, 0.02990863544371903, 0.02990863544371903, 0.021363311031227877, 0.042726622062455755, 0.9899084671712755, 1.0681400454590746, 0.9783711116062241, 0.09156667504977233, 0.013080953578538904, 0.09156667504977233, 0.12644921792587607, 0.6366064074888933, 0.03924286073561671, 0.977590149390815, 0.9809449397073136, 0.0177351863356396, 0.007094074534255839, 0.014188149068511678, 0.04611148447266295, 0.8938533913162358, 0.0177351863356396, 0.12767846046709586, 0.0008805411066696266, 0.010566493280035519, 0.036982726480124316, 0.03258002094677618, 0.06339895968021311, 0.1567363169871935, 0.05723517193352572, 0.24126826322747766, 0.19724120789399635, 0.073084911853579, 0.0017610822133392531, 0.03514211948457075, 0.017571059742285376, 0.9488372260834104, 0.049903044089566126, 0.02587565249088614, 0.14970913226869836, 0.0018482608922061527, 0.029572174275298443, 0.05914434855059689, 0.290176960076366, 0.14970913226869836, 0.1256817406700184, 0.022179130706473833, 0.08502000104148302, 0.011089565353236916, 1.0019067804136317, 0.09714809013618006, 0.00883164455783455, 0.09714809013618006, 0.7418581428581023, 0.06182151190484185, 1.024742600564984, 0.05681558155581442, 0.05681558155581442, 0.20240550929258885, 0.07812142463924482, 0.10652921541715203, 0.4261168616686081, 0.03195876462514561, 0.046162660014099216, 0.10574299380669748, 0.27191055550293636, 0.6269048918539922, 0.9943277013997184, 0.9980251964846338, 0.9866491929707746, 1.085314112267852, 0.0123449417588237, 0.37309157315556074, 0.05143725732843209, 0.1728291846235318, 0.24621300507876157, 0.013716601954248555, 0.02194656312679769, 0.007544131074836705, 0.01920324273594798, 0.05829555830555636, 0.023318223322222546, 0.08827133891526152, 0.032098668696458735, 0.8746887219785006, 1.056640800534722, 0.004701775141572384, 0.5830201175549756, 0.40905443731679736, 0.9936897944872574, 0.4574095082635409, 0.2825176374568929, 0.08408263019550383, 0.04035966249384184, 0.07062940936422323, 0.06390279894858292, 0.01398809577631747, 0.9791667043422229, 0.990600750501302, 0.28068977590678296, 0.27763880008170927, 0.01525487912536864, 0.08237634727699066, 0.024407806600589825, 0.021356830775516096, 0.02745878242566355, 0.03050975825073728, 0.24407806600589824, 0.9161891091957545, 0.06544207922826817, 0.016360519807067042, 1.0375755656784154, 0.033944801643159606, 0.950454446008469, 0.047494777882731126, 0.06210855569280224, 0.511482223352489, 0.0694154445978378, 0.2411273338661734, 0.003653444452517779, 0.05845511124028446, 0.003653444452517779, 0.9443153379985981, 0.05104407232424855, 0.03848737085767131, 0.7697474171534262, 0.015394948343068525, 0.06927726754380836, 0.023092422514602785, 0.07697474171534262, 0.09124651212868068, 0.011405814016085085, 0.8212186091581261, 0.07984069811259559, 0.04800035132522524, 0.7458516128996536, 0.08492369849847542, 0.11446237623707556, 0.003692334717325018, 0.9987803022474465, 0.040968397610493756, 0.024581038566296252, 0.1147115133093825, 0.032774718088395, 0.7783995545993814, 0.10524582337157719, 0.8945894986584061, 0.0541766905693739, 0.045968101089165735, 0.05828098530947799, 0.009029448428228984, 0.12394970115114333, 0.05581840846541554, 0.156784059071976, 0.22901964649780787, 0.04268466529708247, 0.03529693476489512, 0.09521963797041474, 0.018879755804478784, 0.0024625768440624503, 0.06484785689364453, 0.008208589480208167, 1.0160007697449251, 0.038911576530228094, 0.023346945918136856, 0.0038911576530228096, 0.8327077377468812, 0.10117009897859304, 0.9431226945575168, 0.04100533454597899, 0.05819939298938229, 0.04157099499241592, 0.06235649248862388, 0.0498851939908991, 0.5570513328983733, 0.02078549749620796, 0.016628397996966367, 0.18706947746587163, 1.0144266456640225, 0.01871342609781954, 0.121637269635827, 0.8608176004996988, 0.8337855470898673, 0.12352378475405441, 0.015440473094256802, 0.030880946188513603, 1.0144266456640225, 0.9779675262326958, 0.027941929320934165, 1.0009076361104472, 0.03959113727645411, 0.013197045758818035, 0.02639409151763607, 0.9105961573584445, 0.006871807689822099, 0.9895403073343824, 0.9461797317321855, 0.004053764635370053, 0.0020268823176850265, 0.993172335665663, 0.04572358317007745, 0.30990428593052494, 0.09991449655683592, 0.11684915699019793, 0.0033869320866724037, 0.06943210777678428, 0.21168325541702523, 0.0033869320866724037, 0.07281903986345668, 0.05249744734342226, 0.015241194390025817, 0.12086026926867599, 0.8701939387344672, 0.1813490803599388, 0.010074948908885488, 0.11082443799774037, 0.5339722921709309, 0.005037474454442744, 0.15616170808772506, 0.06944933638850241, 0.08681167048562802, 0.017362334097125603, 0.8160297025649034, 0.06054750775183117, 0.9082126162774675, 0.020182502583943725, 1.0204606096805509, 1.0430763588852814, 0.36782253749653493, 0.07704390988103096, 0.05219103572585969, 0.1342055204379249, 0.04970574831034256, 0.0049705748310342555, 0.017397011908619895, 0.039764598648274044, 0.02485287415517128, 0.20130828065688736, 0.03230873640172266, 0.0018444437773501219, 0.0036888875547002437, 0.9941551959917156, 0.9979733221566192, 0.9443868741809632, 0.03777547496723853, 0.9906246847160259, 0.9155486103934926, 0.4970436916630513, 0.032209516171889406, 0.04136379971547903, 0.022038090012345385, 0.0447542751019937, 0.14612948915878246, 0.0291580883240262, 0.018986662164482176, 0.1000190239021829, 0.062045699573218545, 0.006441903234377881, 0.7104729791502411, 0.024152055948450123, 0.201267132903751, 0.03622808392267518, 0.028177398606525142, 0.9975040228043316, 0.0315464397165059, 0.007886609929126475, 0.6782484539048769, 0.27603134751942665, 0.056297165730377505, 0.1688914971911325, 0.018765721910125835, 0.018765721910125835, 0.018765721910125835, 0.018765721910125835, 0.6849488497195929, 0.031441941520025225, 0.9747001871207819, 1.023859655682272, 1.0276965260997626, 0.9866491929707746, 0.9270038130501708, 0.0220715193583374, 0.0220715193583374, 0.0220715193583374, 0.3917239149464172, 0.18670952955389977, 0.03172841678693721, 0.23308183101173108, 0.02196582700634115, 0.07077877590932148, 0.06467715729644893, 0.15324741446368062, 0.7662370723184031, 0.009014553791981213, 0.0721164303358497, 0.06835525723466099, 0.003417762861733049, 0.5263354807068896, 0.058101968649461835, 0.07519078295812708, 0.07519078295812708, 0.013671051446932196, 0.08202630868159318, 0.09569736012852538, 0.07320108188334096, 0.05067767207308221, 0.033785114715388136, 0.12387875395642317, 0.5293001305410808, 0.19144898338719943, 0.9253306901190174, 0.05443121706582455, 0.018143739021941517, 0.03956511941971911, 0.05934767912957866, 0.8968093735136331, 1.0041700469191515, 0.019228797087559854, 0.023666211800073667, 0.25737005332580115, 0.08874829425027625, 0.03845759417511971, 0.029582764750092087, 0.15974692965049725, 0.13016416490040517, 0.020707935325064458, 0.03993673241262431, 0.016270520612550646, 0.17158003555053408, 0.922289391714147, 0.06768146471614825, 0.0282006102983951, 0.046531006992351916, 0.17484378385004962, 0.11139241067866065, 0.04794103750727167, 0.3299471404912227, 0.016920366179037062, 0.029610640813314857, 0.001410030514919755, 0.09306201398470383, 0.05076109853711118, 0.9940242055700779, 0.9939904125847976, 0.9881776031544771, 1.0058236317822355, 0.9733402647768966, 0.9943277013997184, 0.09424930600427417, 0.18849861200854834, 0.008568118727661288, 0.7111538543958869, 1.0551664980381896, 0.999149400374769, 0.5797049820019482, 0.23255606836124668, 0.0404445336280429, 0.003370377802336908, 0.006740755604673816, 0.037074155825705994, 0.09774095626777034, 0.003370377802336908, 0.9276914633459552, 1.0213527203830972, 1.031154653303412, 1.0042642152988523, 0.04391562496677918, 0.844531249361138, 0.003378124997444552, 0.10809999991822566, 1.0540450191018824, 0.9991468410236594, 0.9943277013997184, 0.05038894086710202, 0.9573898764749383, 0.09143358145524795, 0.9143358145524796, 0.16486008344245717, 0.10009362209006328, 0.05593467116797654, 0.5092999006347337, 0.035327160737669394, 0.07065432147533879, 0.008831790184417349, 0.04710288098355919, 0.0029439300614724495, 0.03813724301650678, 0.012712414338835593, 0.9025814180573272, 0.03813724301650678, 1.0613835907671707, 0.03646329169611813, 0.9480455840990715, 0.0962469517173328, 0.011323170790274447, 0.022646341580548894, 0.8662225654559952, 0.00926049955207122, 0.11112599462485465, 0.8797474574467659, 1.0032906620668443, 0.13957041826303979, 0.16559202166801332, 0.0804304105244636, 0.10408641361989408, 0.018924802476344378, 0.33591524395511274, 0.01655920216680133, 0.0023656003095430473, 0.11591441516760932, 0.009462401238172189, 0.014193601857258284, 0.9060793607386723, 0.009317011421477351, 0.025621781409062714, 0.058231321384233446, 1.0237120154183843, 0.9826297284420749, 1.0606162148263663, 0.9951200626838502, 0.9987452723839734, 1.011433506334405, 0.17954111103150774, 0.1951533815559867, 0.1717349757692683, 0.4527558452098891, 0.09718376360437114, 0.7337374152130021, 0.11054653109997217, 0.01822195567581959, 0.01822195567581959, 0.020651549765928867, 0.0012147970450546392, 0.9461797317321854, 0.08770742770844958, 0.004616180405707872, 0.2031119378511464, 0.10617214933128107, 0.5216283858449896, 0.07385888649132595, 1.0513108130357613, 0.999149400374769, 0.9128381572333056, 0.12786713841948089, 0.03626083029806174, 0.05916240732841653, 0.014313485643971741, 0.03530659792179696, 0.10305709663659654, 0.2738646919879926, 0.19084647525295656, 0.0553454778233574, 0.07443012534865305, 0.006679626633853479, 0.02385580940661957, 0.8264096245516253, 0.04790780432183335, 0.0958156086436667, 0.011976951080458337, 0.019961585134097227, 0.8766564879403365, 0.11905211564621854, 0.005411459802100843, 1.0142646191481175, 0.5529473306065193, 0.44690263706554306, 0.21734102126602647, 0.4904598267507677, 0.06924138730599073, 0.030773949913773663, 0.001923371869610854, 0.18849044322186367, 0.2142487214517144, 0.15614737326141895, 0.2741657367729565, 0.014525337047573857, 0.021788005571360784, 0.06354834958313563, 0.20153905153508725, 0.012709669916627125, 0.027235006964200982, 0.01634100417852059, 0.0701845254876643, 0.43865328429790185, 0.03509226274383215, 0.0043865328429790185, 0.2105535764629929, 0.017546131371916074, 0.16230171519022368, 0.06141145980170626, 0.08645481242161376, 0.04655259130394587, 0.059853331676501836, 0.3158925838482042, 0.04322740621080688, 0.16625925465694955, 0.07980444223533578, 0.12968221863242066, 0.04322740621080688, 0.026601480745111927, 0.0044713487700344615, 0.022356743850172306, 0.03129944139024123, 0.14308316064110277, 0.08942697540068922, 0.12966911433099937, 0.03577079016027569, 0.022356743850172306, 0.18779664834144738, 0.33087980898255015, 0.21106772842920185, 0.0791503981609507, 0.05276693210730046, 0.6463949183144307, 1.0513108130357613, 0.04727528658139034, 0.9455057316278067, 0.2439440966012474, 0.004356144582165132, 0.047917590403816455, 0.03484915665732106, 0.008712289164330264, 0.06098602415031185, 0.004356144582165132, 0.5880795185922929, 0.004356144582165132, 1.0013533045298701, 1.0299921866926793, 0.9859754265776076, 0.07064322234344908, 0.004709548156229939, 0.023547740781149695, 0.22134876334280715, 0.08006231865590896, 0.03767638524983951, 0.5557266824351328, 0.004709548156229939, 0.14099169759201907, 0.12532595341512806, 0.03916436044222752, 0.4151422206876117, 0.0744122848402323, 0.05483010461911853, 0.027415052309559266, 0.031331488353782015, 0.07832872088445504, 0.015665744176891008, 0.9815195947330051, 0.7239067633310254, 0.02039173981214156, 0.2548967476517695, 1.0049990852914514, 1.0106556985613866, 1.0276965260997626, 1.0613835907671707, 0.12026021760399197, 0.5730045662307852, 0.007074130447293645, 0.07074130447293646, 0.007074130447293645, 0.22637217431339665, 0.5977546659888496, 0.005243461982358331, 0.3093642569591415, 0.005243461982358331, 0.07865192973537495, 0.9970077146817538, 0.9958234442545153, 0.9932347295383123, 1.0104170541791846, 0.029925892780712796, 0.9576285689828095, 1.0606162148263663, 0.997705913409801, 0.0777809573905777, 0.10171355966460162, 0.807725326748307, 0.005983150568505977, 0.005983150568505977, 0.9276914633459552, 1.0188371962973446, 1.012471392379766, 1.0606162148263663, 0.9866491929707746, 1.0551664980381896, 1.0195656847264862, 0.02053733400697473, 0.07804186922650397, 0.017799022806044767, 0.019168178406509747, 0.09310258083161878, 0.7708346030617849, 0.028703903785697402, 0.143519518928487, 0.8037093059995273, 0.921806164436823, 0.06704044832267803, 0.9287106419212743, 0.011275337350156985, 0.011275337350156985, 0.8569256386119309, 0.12402871085172684, 0.9727703985430859, 0.9678299312212973, 0.10685657887361408, 0.1424754384981521, 0.09795186396747957, 0.06826948094703122, 0.005936476604089671, 0.3265062132249319, 0.18996725133086947, 0.05936476604089671, 0.04027811459566217, 0.10165428921762357, 0.04411412550953476, 0.16686647475345756, 0.2704387694280174, 0.06713019099277029, 0.021098060026299232, 0.26660275851414483, 0.021098060026299232, 1.0272896671865355, 0.17761552388463112, 0.4865120871622504, 0.023167242245821448, 0.05405689857358338, 0.2336030259786996, 0.02702844928679169, 0.24452703704684217, 0.12641586443553726, 0.09042886653053031, 0.006459204752180737, 0.001845487072051639, 0.02214584486461967, 0.4401486666843159, 0.01845487072051639, 0.016609383648464753, 0.033218767296929505, 0.06778023385494747, 0.5440255612041835, 0.02140428437524657, 0.04280856875049314, 0.04102487838588925, 0.04102487838588925, 0.0071347614584155224, 0.1569647520851415, 0.016053213281434924, 0.062429162761135824, 0.3452126040397392, 0.6520682520750629, 0.9936387293871987, 0.0672561858203068, 0.00840702322753835, 0.8995514853466036, 0.0168140464550767, 0.00840702322753835, 0.041896547283889425, 0.013965515761296475, 0.013965515761296475, 0.7820688826326025, 0.13965515761296474, 1.0120914573481323, 0.014198495051879817, 0.22007667330413716, 0.021297742577819724, 0.06389322773345918, 0.31236689114135596, 0.14198495051879817, 0.0851909703112789, 0.04259548515563945, 0.02484736634078968, 0.06389322773345918, 0.003549623762969954, 0.003549623762969954, 0.0009201013194735073, 0.0377241540984138, 0.06716739632156604, 0.06072668708525148, 0.07176790291893358, 0.042324660695781335, 0.10949205701734738, 0.5354989679335813, 0.057046281807357456, 0.016561823750523133, 0.8775985973998698, 0.10637558756362059, 0.8670072344101601, 0.02627294649727758, 0.05254589299455516, 0.05254589299455516, 0.968587400490162, 0.26096937851945773, 0.7375221566854241, 1.0109817016888114, 0.04570393853680755, 0.8569488475651416, 0.09712086939071604, 0.9984296701478809, 0.9993654055463324, 0.9799324786962812, 1.0551664980381896, 0.03848375902042291, 0.9428520960003614, 0.019241879510211456, 1.0144266456640225, 1.0076934505925519, 0.9128381572333056, 0.003159705512649737, 0.6224619859919982, 0.21801968037283184, 0.02211793858854816, 0.05687469922769526, 0.003159705512649737, 0.006319411025299474, 0.015798527563248684, 0.05055528820239579, 1.0145183308855616, 1.0076648653585376, 0.9128381572333056, 0.9461797317321853, 0.9280391879730706, 1.0551664980381896, 1.0189627880192766, 0.9765173298378478, 1.0649778501055234, 1.0551664980381896, 0.21696476613481902, 0.032749398661859476, 0.012281024498197303, 0.057311447658254085, 0.0040936748327324345, 0.024562048996394605, 0.1064355456510433, 0.061405122490986515, 0.4421168819351029, 0.03684307349459191, 0.9906246847160259, 0.840874527245606, 0.15940749331670256, 1.0124063868797133, 0.9155486103934926, 1.0299921866926793, 0.03861671595128212, 0.16733910245555583, 0.7852065576760697, 1.0540450191018824, 0.13381952763386637, 0.10514391456946644, 0.764683015050665, 1.0513108130357613, 0.9993654055463324, 0.991235909433718, 0.15170646648958483, 0.015170646648958482, 0.7281910391500072, 0.12136517319166786, 0.9996314191940742, 1.0047383378342158, 0.0005235204526115834, 0.06701061793428267, 0.07748102698651435, 0.1450151653734086, 0.022511379462298087, 0.09842184509097768, 0.04135811575631509, 0.16176781985697927, 0.08376327241785335, 0.19317904701367428, 0.055493167976827844, 0.0010470409052231668, 0.011517449957454835, 0.01727617493618225, 0.023558420367521253, 0.053878964600103614, 0.9159423982017614, 1.0299921866926793, 0.10302957969399205, 0.07477953364886519, 0.21935329870333792, 0.19110325265821107, 0.24095627509078787, 0.011632371900934586, 0.12297078866702277, 0.00997060448651536, 0.0249265112162884, 1.0036754842294935, 1.031154653303412, 1.0011901812514985, 0.9461797317321854, 0.8605552840475249, 0.14030792674687906, 0.32931324663442874, 0.008781686576918099, 0.37761252280747826, 0.22832385099987057, 0.061471806038426696, 1.012799806813398, 0.9276914633459552, 0.007360714691800361, 0.4122000227408202, 0.08832857630160433, 0.022082144075401083, 0.047844645496702344, 0.0368035734590018, 0.3569946625523175, 0.02576250142130126, 0.0851039182275146, 0.0625764104614078, 0.02753362060301943, 0.007509169255368936, 0.030036677021475743, 0.7884627718137383, 0.9716077990542071, 0.025354601188752456, 0.05070920237750491, 0.9127656427950883, 0.9991468410236594, 0.983775351161757, 0.011457882406866838, 0.06874729444120102, 0.1604103536961357, 0.04583152962746735, 0.03437364722060051, 0.6645571795982765, 1.0095794576661377, 1.0049990852914514, 1.0513108130357613, 0.059821302001267125, 0.17946390600380138, 0.1454478715324926, 0.10791293694346227, 0.05747536858945273, 0.03988086800084475, 0.0011729667059071985, 0.009383733647257588, 0.03167010105949436, 0.029324167647679963, 0.005864833529535993, 0.05512943517763833, 0.2768201425940989, 0.014963203180481069, 0.9848508275152994, 0.07460032149483255, 0.24037881370557154, 0.6796918180640299, 0.00828892461053695, 1.0162214277823622, 1.0447994721614338, 0.05592581176637602, 0.27403647765524247, 0.6711097411965122, 0.028193448879170146, 0.028193448879170146, 0.9444805374521998, 0.926215632997586, 0.9755790252710702, 0.016535237716458817, 0.999426817817153, 0.35969359052567934, 0.0391745494631928, 0.021367936070832438, 0.24216994213610094, 0.007122645356944146, 0.1032783576756901, 0.09259438964027389, 0.08191042160485767, 0.046297194820136944, 0.003561322678472073, 0.910882311613319, 0.9950471163442225, 0.25282810041930825, 0.005267252092068921, 0.6478720073244774, 0.005267252092068921, 0.08427603347310274, 0.010188037473573594, 0.15282056210360392, 0.022923084315540587, 0.05348719673626137, 0.005094018736786797, 0.588359164098875, 0.1655556089455709, 0.17672240048978677, 0.09750201406333063, 0.012187751757916329, 0.024375503515832658, 0.6886079743222726, 0.9991494003747692, 0.05735502690039921, 0.022942010760159684, 0.011471005380079842, 0.011471005380079842, 0.011471005380079842, 0.871796408886068, 0.9896336917997712, 0.008309536352165227, 0.988834825907662, 1.0195656847264862, 0.9050662191715132, 0.02056968679935257, 0.005142421699838143, 0.005142421699838143, 0.010284843399676285, 0.05142421699838143, 0.9280391879730706, 0.08104627890843959, 0.9185244942956486, 1.062696030215539, 0.9276914633459552, 0.9981224137483893, 0.0257865400729123, 0.09025289025519305, 0.8638490924425621, 0.0257865400729123, 0.007334592810450787, 0.03667296405225393, 0.6870068599122238, 0.15647131328961678, 0.02200377843135236, 0.03178323551195341, 0.0586767424836063, 0.0215464805273043, 0.11850564290017365, 0.6607587361706652, 0.06823052166979696, 0.1292788831638258, 1.0540450191018824, 0.05682550928508226, 0.11154637007812444, 0.07155804872936285, 0.04209296984080168, 0.07155804872936285, 0.22940668563236913, 0.002104648492040084, 0.05051156380896201, 0.15363933991892612, 0.05051156380896201, 0.11575566706220461, 0.029465078888561175, 0.014732539444280587, 0.09368595757115494, 0.031228652523718318, 0.04684297878557747, 0.17175758888045073, 0.6401873767362255, 0.999149400374769, 0.18903869709301935, 0.1040445542139874, 0.09378664041824217, 0.027842908874165642, 0.010257913795745236, 0.18757328083648434, 0.08792497539210202, 0.06740914780061155, 0.04982415272219115, 0.09232122416170713, 0.051289568978726184, 0.03516999015684081, 0.0014654162565350339, 0.9939904125847976, 0.9276914633459552, 0.049672074632470156, 0.056768085294251605, 0.10644015992672176, 0.03311471642164677, 0.17030425588275483, 0.06268142751240281, 0.028384042647125803, 0.14546821856651973, 0.014192021323562901, 0.08042145416685643, 0.05913342218151209, 0.02601870575986532, 0.05913342218151209, 0.02720137420349556, 0.08160412261048668, 0.09211854190312521, 0.01023539354479169, 0.07164775481354184, 0.06141236126875014, 0.015353090317187535, 0.6653005804114599, 0.05117696772395845, 0.025588483861979226, 1.0760042903331715, 0.15343169530429146, 0.16046984646503876, 0.0492670581252312, 0.29700997898353665, 0.13231724182204951, 0.0985341162504624, 0.03237549533943765, 0.021114453482241943, 0.054897579053829054, 0.7652718213277848, 0.2423360767537985, 1.0092583805143311, 0.9990322127371888, 1.0036754842294935, 0.8776959011699476, 0.025077025747712787, 0.10030810299085115, 1.0063245719378304, 0.9099658042182227, 0.07338433904985667, 0.014676867809971334, 0.9107430455538205, 0.08711455218340891, 0.7402085745232286, 0.07553148719624782, 0.18127556927099475, 1.0120270509228604, 0.44347385987451465, 0.018794059489105827, 0.061657703937943675, 0.03824755966203992, 0.035609796926726826, 0.20706437472207823, 0.056382178467317474, 0.01912377983101996, 0.0583605005188023, 0.0609982632541154, 0.017082701321515015, 0.39290213039484534, 0.5409522085146422, 0.04555387019070671, 1.0049990852914514, 0.11255643246172489, 0.11377987194500451, 0.13824866161059687, 0.02936254759871084, 0.018351592249194276, 0.1260142667778007, 0.011010955349516564, 0.024468789665592367, 0.092981400729251, 0.07462980848005672, 0.06973605054693825, 0.10521579556204717, 0.07830012692989557, 0.00734063689967771, 1.043243608266635, 0.8805580361543723, 0.013758719314912068, 0.05503487725964827, 0.04127615794473621, 0.859831511353527, 0.023238689496041267, 0.011619344748020633, 0.1045741027321857, 0.9976330079574447, 1.0058236317822355, 0.9818669743282654, 0.021819266096183676, 0.9815195947330051, 1.0538592584409683, 1.0061338818699785, 1.0053757869708264, 0.9287106419212743, 0.258171076061056, 0.742241843675536, 0.9991494003747692, 1.0681400454590746, 1.043243608266635, 0.09317419004376641, 0.06481682785653316, 0.20525328821235497, 0.0013503505803444406, 0.17554557544477728, 0.31598203580059914, 0.02025525870516661, 0.09722524178479973, 0.009452454062411084, 0.01755455754447773, 0.3420234568005789, 0.08376084656340707, 0.08376084656340707, 0.08376084656340707, 0.11517116402468473, 0.10819109347773415, 0.18497186949419062, 0.09611818022249587, 0.9131227121137108, 0.09030374117301224, 0.9030374117301224, 0.026634220791383733, 0.0799026623741512, 0.005326844158276747, 0.4900696625614607, 0.05859528574104421, 0.22372745464762336, 0.05859528574104421, 0.05859528574104421, 1.001970542774651, 0.10433476174260478, 0.1685407689688231, 0.7303433321982336, 1.0145183308855616, 1.0049204743220852, 0.02055461205258585, 0.9866213785241208, 0.9923738924974135, 0.9954311066779845, 0.0028853075555883606, 0.09692372878972513, 0.08615442559086679, 0.043077212795433396, 0.6892354047269343, 0.09692372878972513, 1.0145183308855616, 0.03144306956842419, 0.02358230217631814, 0.8961274827000894, 0.04716460435263628, 0.9387687229967533, 0.9461797317321853, 0.006100743830465417, 0.08541041362651584, 0.23792900938815129, 0.022369394045039865, 0.012201487660930835, 0.002033581276821806, 0.2582648221563693, 0.09354473873380306, 0.282667797478231, 0.9943277013997184, 0.9381255012126397, 0.05912555679911595, 0.00394170378660773, 0.10326612948094611, 0.2684919366504599, 0.22202217838403415, 0.4079012114497372, 0.004478647366104728, 0.23736831040355058, 0.6449252207190808, 0.11196618415261819, 0.3837617252458107, 0.5846370033041647, 0.029981384784828962, 0.013469606475314823, 0.11763456321774945, 0.06285816355146917, 0.05657234719632225, 0.012571632710293835, 0.5549477867829707, 0.13110416969306427, 0.026939212950629645, 0.016163527770377786, 0.008081763885188893, 1.0463412690211344, 0.14923327285852142, 0.004813976543823271, 0.025674541567057448, 0.7076545519420209, 0.07381430700529017, 0.03690715350264508, 0.0016046588479410905, 0.029523111852160548, 0.040878154872222294, 0.7698719167601866, 0.00227100860401235, 0.1317184990327163, 0.024981094644135848, 0.9276914633459552, 1.0076934505925519, 0.17964225346139018, 0.49714949213733556, 0.008355453649366984, 0.04177726824683492, 0.06266590237025238, 0.13786498521455523, 0.07102135601961937, 1.0213527203830972, 0.14044851449620877, 0.25928956522377, 0.152602712866073, 0.020256997283107033, 0.02295793025418797, 0.06347192482040204, 0.11073825181431844, 0.051317726450537816, 0.010803731884323752, 0.06617285779148298, 0.04726632699391641, 0.028359796196349846, 0.02430839673972844, 0.01137604359768591, 0.8133871172345426, 0.10807241417801615, 0.06256823978727251, 1.0099249986765768, 1.0131388820959355, 0.009860582178308205, 0.029581746534924618, 0.8973129782260467, 0.03944232871323282, 0.01972116435661641, 1.006103195414714, 0.19289010073169646, 0.1203634228565786, 0.029319295311217863, 0.08024228190438573, 0.02623305369951072, 0.1805451342848679, 0.08024228190438573, 0.07406979868097144, 0.047836744981460726, 0.12190654366243217, 0.01697432886438929, 0.030862416117071436, 0.08766214248046461, 0.0630379451544914, 0.1674445418166178, 0.029549036791167847, 0.054173234117141054, 0.09554188562477604, 0.0019699357860778564, 0.2511668127249267, 0.07978239933615319, 0.0837222709083089, 0.05023336254498534, 0.021669293646856422, 0.013789550502544995, 1.083969522967853, 0.17346484702325543, 0.07350205382341332, 0.06615184844107198, 0.08379234135869118, 0.09702271104690557, 0.057331601982262385, 0.29988837959952636, 0.09114254674103252, 0.03234090368230186, 0.02352065722349226, 1.0033311412826273, 0.9166838331163142, 0.08814267626118406, 0.005521098200890895, 0.9882765779594702, 0.005521098200890895, 1.0272896671865355, 0.01608323380554555, 0.10454101973604607, 0.008041616902772775, 0.8684946254994597, 0.5438569524424232, 0.16180868006551433, 0.13484056672126193, 0.06067825502456787, 0.015731399450813893, 0.006742028336063096, 0.07640965447538177, 0.0758615516090434, 0.80413244705586, 0.0758615516090434, 0.015172310321808678, 0.015172310321808678, 0.09906002563918366, 0.15566575457586004, 0.014151432234169094, 0.014151432234169094, 0.6651173150059474, 0.056605728936676376, 0.08956328388760329, 0.08209967689696969, 0.05224524893443525, 0.0074636069906336075, 0.1044904978688705, 0.0074636069906336075, 0.07463606990633607, 0.589624952260055, 0.9809501817374205, 0.9783711116062241, 0.016575811639870524, 0.9448212634726199, 0.03315162327974105, 0.025888172750619023, 0.018984660017120618, 0.7369499843009548, 0.04314695458436504, 0.12771498556972052, 0.04659871095111424, 0.14715215596054956, 0.8026481234211794, 0.013377468723686324, 0.02675493744737265, 0.013377468723686324, 1.0052943156556702, 1.0142646191481175, 0.053564801802651996, 0.09252102129548981, 0.11078174918275753, 0.10712960360530399, 0.18747680630928198, 0.06452123853501263, 0.09495578501379218, 0.041390983211140174, 0.02921716461962836, 0.01582596416896536, 0.04504312878859372, 0.05721694738010554, 0.10104269430954808, 0.05863684647480719, 0.4995859319653573, 0.05160042489783033, 0.02110926473093059, 0.07036421576976863, 0.07974611120573778, 0.06567326805178406, 0.08443705892372236, 0.06801874191077634, 0.10164812940845717, 0.7841427125795268, 0.1161692907525225, 0.019982088227135125, 0.28418969923036624, 0.3707787482146184, 0.04440464050474472, 0.09546997708520115, 0.14431508164042034, 0.03552371240379578, 0.0022202320252372363, 0.038750285655431434, 0.13175097122846688, 0.8215060558951464, 0.9857071591465909, 0.16489709755389856, 0.04416886541622283, 0.04416886541622283, 0.02355672822198551, 0.15900791549840218, 0.02355672822198551, 0.07361477569370471, 0.12367282316542393, 0.3356833771632935, 0.008833773083244565, 0.9837778711382342, 1.0041219729566362, 0.926215632997586, 0.03667452621541309, 0.05806799984107073, 0.09352004184930339, 0.059290484048251164, 0.2762814308227786, 0.047065641976446804, 0.0134473262789848, 0.09290879974571316, 0.033618315697462, 0.04095322094054462, 0.07273781032723596, 0.015281052589755454, 0.009779873657443492, 0.07151532612005553, 0.07946147346672837, 0.037659212337233586, 0.1344971869186914, 0.026899437383738276, 0.31741336112811164, 0.005379887476747655, 0.03227932486048593, 0.12373741196519607, 0.005379887476747655, 0.312033473651364, 1.0120270509228604, 0.9605825459406564, 0.9810573285749719, 0.017518880867410214, 0.9128381572333056, 1.0463412690211344], \"Term\": [\"1000\", \"1000\", \"1000\", \"1000\", \"1000\", \"1000\", \"100th\", \"102\", \"1100\", \"1130\", \"1150am\", \"116th\", \"134\", \"183000\", \"1974\", \"1980\", \"1990s\", \"19th\", \"2011nbspfederal\", \"2012nbspcongressional\", \"2013nbsp10\", \"2014nbsp10\", \"2015nbspcan\", \"2016nbsp10\", \"2017\", \"2017\", \"2017\", \"2017\", \"2017\", \"2017\", \"2017\", \"2017\", \"2017\", \"2017nbsp10\", \"2018nbsp8th\", \"2019nbsp9th\", \"2020\", \"2020\", \"2020\", \"2020\", \"2020\", \"2020\", \"2020\", \"2020\", \"2020\", \"2020\", \"2020\", \"2022\", \"2022\", \"2022\", \"2022\", \"2088\", \"225000\", \"247\", \"247\", \"273\", \"2733\", \"2765\", \"301\", \"314\", \"32\", \"32\", \"3332\", \"3576\", \"365\", \"3995\", \"40000\", \"4497\", \"4549\", \"4687\", \"4907\", \"535\", \"54\", \"545\", \"56\", \"56\", \"5776\", \"5980\", \"638000\", \"69\", \"750\", \"8255\", \"8255\", \"838255\", \"840000\", \"935fm\", \"abigail\", \"abolition\", \"absentee\", \"academic\", \"academic\", \"academic\", \"accommodate\", \"accommodate\", \"accomplish\", \"accord\", \"accord\", \"accord\", \"accord\", \"accord\", \"accord\", \"accord\", \"accord\", \"accord\", \"accord\", \"accord\", \"accord\", \"accountable\", \"accuracy\", \"act\", \"act\", \"act\", \"act\", \"act\", \"act\", \"act\", \"act\", \"actuary\", \"acute\", \"administration\", \"administration\", \"administration\", \"administration\", \"administration\", \"administration\", \"administration\", \"administration\", \"administration\", \"administration\", \"administration\", \"adolescent\", \"affairs\", \"affairs\", \"affairs\", \"affairs\", \"affording\", \"afloat\", \"afternoon\", \"afternoon\", \"afternoon\", \"afternoon\", \"afternoon\", \"afternoon\", \"afternoon\", \"agency\", \"agency\", \"agency\", \"agency\", \"agency\", \"agency\", \"agency\", \"agency\", \"agency\", \"agency\", \"agency\", \"agent\", \"agent\", \"agent\", \"agent\", \"agent\", \"agent\", \"agreement\", \"agreement\", \"agreement\", \"agri\", \"aid\", \"aid\", \"aid\", \"aid\", \"aid\", \"airborne\", \"airborne\", \"airlift\", \"airline\", \"airline\", \"airline\", \"airport\", \"airport\", \"airport\", \"alabama\", \"alabama\", \"alabama\", \"alabama\", \"alabama\", \"alabama\", \"alabama\", \"alabama\", \"albert\", \"alicia\", \"allowance\", \"altered\", \"alzheimer\", \"ambush\", \"amendment\", \"amendment\", \"amendment\", \"america\", \"america\", \"america\", \"america\", \"america\", \"america\", \"america\", \"america\", \"american\", \"american\", \"american\", \"american\", \"american\", \"american\", \"american\", \"american\", \"american\", \"american\", \"american\", \"american\", \"american\", \"americans\", \"americans\", \"americans\", \"americans\", \"americans\", \"americans\", \"americans\", \"americans\", \"americans\", \"americans\", \"amy\", \"amy\", \"anarchist\", \"andstay\", \"angeles\", \"angeles\", \"anniversary\", \"announce\", \"announce\", \"announce\", \"announce\", \"announce\", \"announce\", \"announce\", \"announce\", \"announce\", \"announce\", \"announce\", \"announce\", \"announce\", \"announce\", \"announce\", \"anthony\", \"anthony\", \"anthony\", \"anthony\", \"antibody\", \"antifa\", \"antifa\", \"apply\", \"apply\", \"apply\", \"apply\", \"apply\", \"apply\", \"apprenticeship\", \"arab\", \"arabia\", \"arabia\", \"area\", \"area\", \"area\", \"area\", \"area\", \"area\", \"area\", \"area\", \"area\", \"area\", \"area\", \"argument\", \"argument\", \"argument\", \"argument\", \"arlington\", \"armenia\", \"army\", \"army\", \"army\", \"army\", \"army\", \"arrest\", \"arrest\", \"arrest\", \"arrow\", \"artificial\", \"assertion\", \"assistance\", \"assistance\", \"assistance\", \"assistance\", \"assistance\", \"atlantic\", \"atlantic\", \"atlantic\", \"atlantic\", \"atlantic\", \"attack\", \"attack\", \"attack\", \"attack\", \"attack\", \"attack\", \"attack\", \"attack\", \"attack\", \"attorney\", \"attorney\", \"attorney\", \"attorney\", \"audit\", \"authority\", \"authority\", \"authority\", \"authority\", \"authority\", \"authority\", \"authority\", \"authority\", \"average\", \"average\", \"average\", \"award\", \"award\", \"award\", \"award\", \"award\", \"awareness\", \"awareness\", \"awareness\", \"awareness\", \"ayanna\", \"azerbaijan\", \"azerbaijan\", \"bader\", \"bahrain\", \"ballot\", \"ballot\", \"ballot\", \"banking\", \"bannon\", \"baptist\", \"barr\", \"barrett\", \"baseline\", \"bash\", \"battle\", \"battle\", \"battle\", \"battle\", \"battle\", \"battle\", \"battle\", \"battle\", \"battle\", \"battle\", \"baturina\", \"beck\", \"beijing\", \"beijing\", \"beijing\", \"belarus\", \"bench\", \"benefit\", \"benefit\", \"benefit\", \"benefit\", \"benefit\", \"benefit\", \"benefit\", \"betsy\", \"biden\", \"biden\\u00e2s\", \"biggs\", \"bill\", \"bill\", \"bill\", \"bill\", \"bill\", \"bill\", \"bill\", \"bill\", \"bill\", \"bill\", \"bill\", \"bill\", \"bill\", \"billion\", \"billion\", \"billion\", \"billion\", \"billion\", \"bills\", \"biology\", \"bipartisan\", \"bipartisan\", \"bipartisan\", \"bipartisan\", \"bipartisan\", \"bipartisan\", \"bipartisan\", \"bipartisan\", \"bipartisan\", \"birthday\", \"black\", \"black\", \"black\", \"black\", \"black\", \"black\", \"blake\", \"blaze\", \"blitz\", \"boast\", \"bob\", \"bob\", \"bob\", \"bob\", \"bob\", \"bob\", \"bombshell\", \"booker\", \"boozman\", \"borrower\", \"boulder\", \"boundary\", \"bourla\", \"bowman\", \"bowser\", \"box\", \"box\", \"box\", \"box\", \"box\", \"box\", \"brainerrdquo\", \"brainersquot\", \"breast\", \"brennan\", \"breonna\", \"broadband\", \"broader\", \"buck\", \"budget\", \"budget\", \"budget\", \"budget\", \"budget\", \"bureau\", \"bureau\", \"bureau\", \"bureaucrat\", \"burn\", \"burn\", \"burn\", \"business\", \"business\", \"business\", \"business\", \"business\", \"business\", \"business\", \"butte\", \"byrne\", \"ca10\", \"calif\", \"calif\", \"calif\", \"calif\", \"california\", \"california\", \"california\", \"california\", \"california\", \"california\", \"california\", \"california\", \"california\", \"california\", \"californians\", \"call\", \"call\", \"call\", \"call\", \"call\", \"call\", \"call\", \"call\", \"call\", \"call\", \"call\", \"call\", \"campaign\", \"campaign\", \"campaign\", \"campaign\", \"campaign\", \"campaign\", \"campus\", \"campus\", \"campus\", \"candidate\", \"candidate\", \"candidate\", \"candidate\", \"candidate\", \"canoe\", \"canyon\", \"capita\", \"capito\", \"caputo\", \"carbon\", \"carbon\", \"carbon\", \"care\", \"care\", \"care\", \"care\", \"care\", \"care\", \"care\", \"cares\", \"cares\", \"cares\", \"caribou\", \"carlson\", \"carroll\", \"case\", \"case\", \"case\", \"case\", \"case\", \"case\", \"case\", \"case\", \"case\", \"cashe\", \"cast\", \"cast\", \"cast\", \"cast\", \"castro\", \"cattle\", \"caucus\", \"caucus\", \"caucus\", \"caucus\", \"cdc\", \"cdc\", \"cdc\", \"cdc\", \"cdc\\u00e2s\", \"cedar\", \"celebrate\", \"celebrate\", \"celebrate\", \"celebrate\", \"celebrate\", \"censor\", \"censorship\", \"census\", \"census\", \"census\", \"center\", \"center\", \"center\", \"center\", \"center\", \"center\", \"center\", \"center\", \"centers\", \"centers\", \"certification\", \"chad\", \"chad\", \"chair\", \"chair\", \"chair\", \"championship\", \"change\", \"change\", \"change\", \"change\", \"change\", \"change\", \"change\", \"change\", \"change\", \"change\", \"charge\", \"charge\", \"charge\", \"charge\", \"charge\", \"charge\", \"charge\", \"chat\", \"chat\", \"chiefs\", \"child\", \"child\", \"child\", \"child\", \"child\", \"child\", \"child\", \"child\", \"child\", \"child\", \"child\", \"china\", \"china\", \"china\", \"china\", \"china\", \"china\", \"christianity\", \"chronic\", \"chuck\", \"chuck\", \"chuck\", \"chuck\", \"chuck\", \"cis\", \"city\", \"city\", \"city\", \"city\", \"city\", \"city\", \"city\", \"city\", \"city\", \"civic\", \"civic\", \"civic\", \"claim\", \"claim\", \"claim\", \"claim\", \"claim\", \"claim\", \"claim\", \"claim\", \"claim\", \"claus\", \"clean\", \"clean\", \"clean\", \"clean\", \"clean\", \"cleanup\", \"click\", \"click\", \"click\", \"click\", \"climate\", \"climate\", \"climate\", \"climate\", \"climate\", \"climate\", \"climate\", \"climb\", \"clinic\", \"clinic\", \"clinic\", \"clinical\", \"cloth\", \"cloture\", \"cnn\", \"cnn\", \"cnn\", \"cnn\", \"cnn\", \"cnn\", \"coach\", \"coast\", \"coast\", \"collaborative\", \"college\", \"college\", \"college\", \"college\", \"college\", \"college\", \"college\", \"comer\", \"comey\", \"command\", \"committee\", \"committee\", \"committee\", \"committee\", \"committee\", \"committee\", \"community\", \"community\", \"community\", \"community\", \"community\", \"community\", \"community\", \"community\", \"community\", \"compact\", \"company\", \"company\", \"company\", \"company\", \"company\", \"company\", \"company\", \"complaint\", \"complaint\", \"complaint\", \"complaint\", \"compton\", \"computing\", \"coney\", \"confidential\", \"confidential\", \"confirm\", \"confirm\", \"confirm\", \"confirm\", \"confirm\", \"confirm\", \"confirmation\", \"confirmation\", \"confirmation\", \"confrontation\", \"congress\", \"congress\", \"congress\", \"congress\", \"congress\", \"congress\", \"congress\", \"congress\", \"congress\", \"congress\", \"congress\", \"congressional\", \"congressional\", \"congressional\", \"congressional\", \"congressional\", \"congressional\", \"congressional\", \"congressional\", \"congressional\", \"congressman\", \"congressman\", \"congressman\", \"congressman\", \"congressman\", \"congressman\", \"congressman\", \"congressman\", \"congressman\", \"congresswoman\", \"congresswoman\", \"congresswoman\", \"congresswoman\", \"congresswoman\", \"connect\", \"connect\", \"connect\", \"connect\", \"connect\", \"connect\", \"connect\", \"connect\", \"connectivity\", \"conservation\", \"conservation\", \"conserve\", \"constitutionality\", \"consultant\", \"consultant\\u00e2s\", \"contagious\", \"continuation\\u00e2\", \"contracting\", \"contribute\", \"contribute\", \"contribute\", \"convalescent\", \"convention\", \"convention\", \"convention\", \"convention\", \"cool\", \"cornyn\", \"cornyn\", \"cornyn\", \"coronavirus\", \"coronavirus\", \"coronavirus\", \"coronavirus\", \"coronavirus\", \"coronavirus\", \"coronavirus\", \"coronavirus\", \"coronavirus\", \"coronavirus\", \"cortez\", \"cost\", \"cost\", \"cost\", \"cost\", \"cost\", \"cost\", \"cost\", \"cost\", \"counsel\", \"counsel\", \"counsel\", \"count\", \"count\", \"count\", \"count\", \"count\", \"country\", \"country\", \"country\", \"country\", \"country\", \"country\", \"country\", \"country\", \"country\", \"country\", \"country\", \"country\", \"country\", \"county\", \"county\", \"county\", \"county\", \"county\", \"county\", \"county\", \"county\", \"courage\", \"court\", \"court\", \"court\", \"court\", \"cov2\", \"covid19\", \"covid19\", \"covid19\", \"covid19\", \"covid19\", \"covid19\", \"covid19\", \"covid19\", \"creek\", \"crisis\", \"crisis\", \"crisis\", \"crisis\", \"crisis\", \"crisis\", \"crisis\", \"crisis\", \"crisis\", \"crisis\", \"crisis\", \"critical\", \"critical\", \"critical\", \"critical\", \"critical\", \"critical\", \"critical\", \"critical\", \"critical\", \"critical\", \"critical\", \"crossfire\", \"csis\", \"csis\", \"cuccinelli\", \"curtis\", \"customs\", \"customs\", \"customs\", \"cuts\", \"daca\", \"dairy\", \"dame\", \"daring\", \"datum\", \"datum\", \"datum\", \"datum\", \"datum\", \"datum\", \"datum\", \"datum\", \"day\", \"day\", \"day\", \"day\", \"day\", \"day\", \"day\", \"day\", \"day\", \"day\", \"day\", \"day\", \"day\", \"day\", \"day\", \"deadline\", \"deadline\", \"deadline\", \"deal\", \"deal\", \"deal\", \"deal\", \"deal\", \"deal\", \"deal\", \"deal\", \"dealing\", \"death\", \"death\", \"death\", \"death\", \"death\", \"death\", \"debate\", \"debate\", \"debate\", \"debate\", \"debate\", \"debate\", \"debate\", \"debates\", \"debt\", \"debt\", \"decade\", \"decade\", \"decade\", \"decade\", \"decade\", \"decade\", \"decade\", \"decade\", \"decade\", \"december\\u00e2\", \"declassify\", \"defeat\", \"defeat\", \"defeat\", \"defeat\", \"defer\", \"deferral\", \"deferral\", \"deferral\", \"defund\", \"defunde\", \"dejoy\", \"delay\", \"delay\", \"delay\", \"delay\", \"delay\", \"delay\", \"delay\", \"delivering\", \"delivery\", \"delivery\", \"democratic\", \"democratic\", \"democratic\", \"democratic\", \"democratic\", \"democratic\", \"democratic\", \"democratic\", \"democrats\", \"democrats\", \"democrats\", \"democrats\", \"democrats\", \"democrats\", \"democrats\", \"democrats\", \"democrats\", \"demonstrator\", \"department\", \"department\", \"department\", \"department\", \"department\", \"department\", \"department\", \"department\", \"department\", \"department\", \"department\", \"department\", \"department\\u00e2s\", \"deport\", \"deport\", \"deputy\", \"deputy\", \"deputy\", \"deputy\", \"deputy\", \"deputy\", \"derecho\", \"desktop\", \"destine\", \"detective\", \"detention\", \"detention\", \"development\", \"development\", \"development\", \"development\", \"development\", \"development\", \"development\", \"devos\", \"devos\", \"diabetes\", \"dianne\", \"diego\", \"diego\", \"dining\", \"dioxide\", \"dip\", \"diplomatic\", \"director\", \"director\", \"director\", \"director\", \"director\", \"director\", \"director\", \"disarmament\", \"disaster\", \"disaster\", \"disaster\", \"disaster\", \"disband\", \"disconnect\", \"disconnect\", \"discuss\", \"discuss\", \"discuss\", \"discuss\", \"discuss\", \"discuss\", \"discuss\", \"discuss\", \"discuss\", \"disease\", \"disease\", \"disease\", \"disparage\", \"disparage\", \"dissent\", \"dissent\", \"dissent\", \"distort\", \"distract\", \"district\", \"district\", \"district\", \"district\", \"district\", \"district\", \"district\", \"district\", \"district\", \"dni\", \"donald\", \"donald\", \"donald\", \"donald\", \"donald\", \"donald\", \"donald\", \"donald\", \"donald\", \"doom\", \"dorsey\", \"dow\", \"dr\", \"dr\", \"dr\", \"dr\", \"dr\", \"draft\", \"draft\", \"draft\", \"draft\", \"draft\", \"drinking\", \"drought\", \"drug\", \"drug\", \"drug\", \"drug\", \"drug\", \"drug\", \"drug\", \"dual\", \"dynamic\", \"early\", \"early\", \"early\", \"early\", \"early\", \"early\", \"early\", \"early\", \"early\", \"early\", \"early\", \"early\", \"eclipse\", \"economic\", \"economic\", \"economic\", \"economic\", \"economic\", \"economic\", \"economic\", \"economic\", \"economist\", \"economist\", \"economist\", \"eda\", \"education\", \"education\", \"education\", \"education\", \"education\", \"educator\", \"educator\", \"effective\", \"effective\", \"effective\", \"effective\", \"efficacy\", \"egregious\", \"el\", \"el\", \"el\", \"el\", \"elect\", \"elect\", \"elect\", \"elect\", \"elect\", \"elect\", \"elect\", \"elect\", \"election\", \"election\", \"election\", \"election\", \"election\", \"election\", \"election\", \"electionin\", \"elections\", \"electric\", \"electronically\", \"elena\", \"eligible\", \"eligible\", \"elimination\", \"eliot\", \"email\", \"email\", \"email\", \"email\", \"embargo\", \"embark\", \"emirates\", \"emotional\", \"emotional\", \"en\", \"end\", \"end\", \"end\", \"end\", \"end\", \"end\", \"end\", \"end\", \"end\", \"end\", \"endangerment\", \"enemy\", \"enemy\", \"enemy\", \"energy\", \"energy\", \"energy\", \"enforcement\", \"enforcement\", \"enforcement\", \"enforcement\", \"engagement\", \"engagement\", \"engagement\", \"engel\", \"enumeration\", \"ep\", \"epidemiologist\", \"episode\", \"episode\", \"episode\", \"episode\", \"equal\", \"equal\", \"equal\", \"escobedo\", \"esper\", \"esper\", \"estimate\", \"estimate\", \"estimate\", \"estimate\", \"estimate\", \"estimate\", \"estimate\", \"estimate\", \"evacuation\", \"event\", \"event\", \"event\", \"event\", \"event\", \"event\", \"eventually\", \"evers\", \"eviction\", \"eviction\", \"eviction\", \"exaggerate\", \"expensing\", \"experimental\", \"expert\", \"expert\", \"expert\", \"expert\", \"expert\", \"expert\", \"expert\", \"expert\", \"expert\", \"expert\", \"explicitly\", \"exploitation\", \"exploration\", \"extend\", \"extend\", \"extend\", \"extend\", \"extend\", \"extremist\", \"extremist\", \"face\", \"face\", \"face\", \"face\", \"face\", \"face\", \"face\", \"face\", \"face\", \"face\", \"face\", \"face\", \"face\", \"facebook\", \"facebook\", \"facebook\", \"facebook\", \"fall\", \"fall\", \"fall\", \"fall\", \"fall\", \"fall\", \"fall\", \"fall\", \"fall\", \"fall\", \"fall\", \"fall\", \"fallout\", \"fallout\", \"fame\", \"family\", \"family\", \"family\", \"family\", \"family\", \"family\", \"family\", \"family\", \"family\", \"family\", \"family\", \"family\", \"fatally\", \"fauci\", \"fbi\", \"fbi\", \"fbi\", \"fbi\", \"fcc\", \"fda\", \"fda\", \"federal\", \"federal\", \"federal\", \"federal\", \"federal\", \"federal\", \"federal\", \"federal\", \"federal\", \"federal\", \"federal\", \"federal\", \"federal\", \"feinstein\", \"fernandes\", \"fight\", \"fight\", \"fight\", \"fight\", \"fight\", \"fight\", \"fight\", \"fight\", \"fight\", \"fight\", \"fight\", \"fight\", \"fight\", \"figure\", \"figure\", \"figure\", \"figure\", \"figure\", \"figure\", \"figure\", \"figure\", \"figure\", \"find\", \"find\", \"find\", \"find\", \"find\", \"find\", \"find\", \"find\", \"find\", \"find\", \"find\", \"find\", \"find\", \"find\", \"finder\", \"fire\", \"fire\", \"fire\", \"fire\", \"fire\", \"fire\", \"fire\", \"firefighter\", \"firefighter\", \"fish\", \"fishing\", \"flaw\", \"flexible\", \"flood\", \"flood\", \"flood\", \"floyd\", \"floyd\", \"flu\", \"flus\", \"food\", \"food\", \"food\", \"food\", \"food\", \"force\", \"force\", \"force\", \"force\", \"force\", \"force\", \"force\", \"force\", \"force\", \"force\", \"force\\u00e2\", \"forecaster\", \"foreign\", \"foreign\", \"foreign\", \"foreign\", \"foreign\", \"forgiveness\", \"formula\", \"francisco\", \"francisco\", \"free\", \"free\", \"free\", \"free\", \"free\", \"free\", \"free\", \"free\", \"free\", \"freedom\", \"freedom\", \"friday\", \"friday\", \"friday\", \"friday\", \"friday\", \"friday\", \"friday\", \"friday\", \"friday\", \"friday\", \"friday\", \"fun\", \"funding\", \"funding\", \"funding\", \"funding\", \"funding\", \"funding\", \"funding\", \"funding\", \"funding\", \"fund\\u00e2\", \"furlough\", \"furor\", \"gaetz\", \"gaetz\", \"gala\", \"garamendi\", \"garcia\", \"garza\", \"gas\", \"gas\", \"general\", \"general\", \"general\", \"general\", \"general\", \"georgia\", \"georgia\", \"georgia\", \"georgia\", \"georgia\", \"georgia\", \"ginsburg\", \"ginsburg\\u00e2s\", \"goalpost\", \"gold\", \"gold\", \"gorsuch\", \"gottheimer\", \"gov\", \"gov\", \"gov\", \"gov\", \"gov\", \"gov\", \"gov\", \"gov\", \"government\", \"government\", \"government\", \"government\", \"government\", \"government\", \"government\", \"government\", \"government\", \"grant\", \"grant\", \"grant\", \"grant\", \"grant\", \"grant\", \"grant\", \"grassroots\", \"grassroots\", \"grassroots\", \"great\", \"great\", \"great\", \"great\", \"great\", \"great\", \"great\", \"great\", \"great\", \"great\", \"greatly\", \"greatness\", \"grijalva\", \"grip\", \"grip\", \"grossly\", \"group\", \"group\", \"group\", \"group\", \"group\", \"group\", \"group\", \"group\", \"group\", \"group\", \"group\", \"group\", \"group\", \"growth\", \"growth\", \"growth\", \"growth\", \"guess\", \"guideline\", \"guideline\", \"guilty\", \"gynecology\", \"hack\", \"hail\", \"hail\", \"hail\", \"halkbank\", \"hannity\", \"hannity\", \"harder\", \"hardship\", \"hardship\", \"harris\", \"harris\", \"harris\", \"harris\", \"harris\", \"harris\", \"harrisburg\", \"harrison\", \"harrisx\", \"hassan\", \"hatch\", \"hawley\", \"headquarter\", \"headwind\", \"health\", \"health\", \"health\", \"health\", \"health\", \"health\", \"health\", \"health\", \"health\", \"health\", \"hegar\", \"height\", \"hero\", \"hero\", \"hhs\", \"high\", \"high\", \"high\", \"high\", \"high\", \"high\", \"high\", \"high\", \"high\", \"high\", \"highly\", \"highly\", \"highly\", \"hillary\", \"hinge\", \"history\", \"history\", \"history\", \"history\", \"history\", \"history\", \"history\", \"history\", \"history\", \"history\", \"history\", \"history\", \"home\", \"home\", \"home\", \"home\", \"home\", \"home\", \"home\", \"home\", \"home\", \"homeland\", \"homeland\", \"homeland\", \"homeland\", \"hometown\", \"honor\", \"honor\", \"hopkins\", \"horn\", \"horrific\", \"hospital\", \"hospital\", \"hospital\", \"hospital\", \"hospital\", \"hospitalization\", \"house\", \"house\", \"house\", \"house\", \"house\", \"house\", \"house\", \"house\", \"house\", \"house\", \"house\", \"hr\", \"hr\", \"hr\", \"hrc\", \"huawei\", \"hud\", \"hugely\", \"hundred\", \"hundred\", \"hundred\", \"hundred\", \"hundred\", \"hundred\", \"hundred\", \"hundred\", \"hunter\", \"hunter\", \"hunter\", \"hurricane\", \"hurricane\", \"hybrid\", \"hysterectomy\", \"idaho\", \"idaho\", \"idaho\", \"idiot\", \"iheartradio\", \"ihme\", \"ii\", \"import\", \"import\", \"impossible\", \"impulse\", \"inaccurate\", \"include\", \"include\", \"include\", \"include\", \"include\", \"include\", \"include\", \"include\", \"include\", \"include\", \"include\", \"include\", \"include\", \"include\", \"include\", \"increase\", \"increase\", \"increase\", \"increase\", \"increase\", \"increase\", \"increase\", \"increase\", \"increase\", \"increase\", \"indigenous\", \"indigenous\", \"indigenous\", \"infection\", \"infection\", \"infection\", \"infectious\", \"infectious\", \"influenza\", \"info\", \"information\", \"information\", \"information\", \"information\", \"information\", \"information\", \"information\", \"information\", \"information\", \"inl\", \"innocent\", \"inspector\", \"inspector\", \"instantaneously\", \"intelligence\", \"intelligence\", \"intelligence\", \"intelligence\", \"intelligence\", \"intelligence\", \"interesting\", \"intimidate\", \"introduce\", \"introduce\", \"introduce\", \"introduce\", \"introduce\", \"introduce\", \"intrusion\", \"invader\", \"invest\", \"invest\", \"invest\", \"invest\", \"investigation\", \"investigation\", \"investigation\", \"investigation\", \"investigation\", \"investigation\", \"invisible\", \"iran\", \"iran\", \"iran\", \"iran\", \"irregularity\", \"irreparable\", \"irs\", \"irs\", \"israel\", \"israel\", \"issue\", \"issue\", \"issue\", \"issue\", \"issue\", \"issue\", \"issue\", \"issue\", \"issue\", \"issue\", \"issue\", \"issue\", \"issue\", \"issue\", \"jacky\", \"jacob\", \"jayapal\", \"jazz\", \"joaquin\", \"joaquin\", \"joe\", \"joe\", \"joe\", \"join\", \"join\", \"join\", \"join\", \"join\", \"join\", \"join\", \"join\", \"join\", \"join\", \"joke\", \"jones\", \"jones\", \"joni\", \"josh\", \"josh\", \"josh\", \"journalist\", \"journalist\", \"journalist\", \"journalist\", \"journalist\", \"judge\", \"judge\", \"judge\", \"judge\", \"judge\", \"judge\", \"judge\", \"judiciary\", \"judiciary\", \"judiciary\", \"jupiter\", \"jury\", \"justice\", \"justice\", \"justice\", \"justice\", \"justice\", \"justice\", \"justice\", \"justice\", \"justice\", \"justice\", \"kamala\", \"kamala\", \"karabakh\", \"kavanaugh\", \"kavanaugh\", \"kenosha\", \"kenosha\", \"kid\", \"kid\", \"kid\", \"kidnap\", \"kill\", \"kill\", \"kill\", \"kill\", \"kill\", \"kill\", \"kill\", \"kill\", \"kindergarten\", \"korea\", \"kosovo\", \"kushner\", \"labor\", \"labor\", \"labor\", \"labor\", \"labor\", \"labor\", \"lahood\", \"land\", \"land\", \"land\", \"land\", \"land\", \"land\", \"landfall\", \"landlord\", \"landlord\", \"laptop\", \"laptop\", \"laptop\", \"las\", \"las\", \"late\", \"late\", \"late\", \"late\", \"late\", \"late\", \"late\", \"late\", \"late\", \"late\", \"late\", \"laura\", \"law\", \"law\", \"law\", \"law\", \"law\", \"law\", \"law\", \"law\", \"law\", \"law\", \"law\", \"lawmaker\", \"lawmaker\", \"lawmaker\", \"lawmaker\", \"lawmaker\", \"lawmaker\", \"lawmaker\", \"ldquono\", \"lead\", \"lead\", \"lead\", \"lead\", \"lead\", \"lead\", \"lead\", \"lead\", \"lead\", \"lead\", \"lead\", \"lead\", \"lead\", \"lead\", \"leader\", \"leader\", \"leader\", \"leader\", \"leader\", \"leader\", \"leader\", \"leader\", \"leader\", \"leader\", \"leader\", \"leader\", \"leader\", \"learn\", \"learn\", \"learn\", \"learn\", \"learn\", \"learn\", \"learn\", \"learn\", \"learn\", \"learn\", \"learning\", \"learning\", \"leasing\", \"legendary\", \"legendary\", \"legislation\", \"legislation\", \"legislation\", \"legislation\", \"legislation\", \"lesko\", \"letter\", \"letter\", \"letter\", \"letter\", \"letter\", \"letter\", \"leverage\", \"lewis\", \"lgbtq\", \"lgbtq\", \"lgbtq\", \"li\", \"life\", \"life\", \"life\", \"life\", \"life\", \"life\", \"life\", \"live\", \"live\", \"live\", \"live\", \"live\", \"live\", \"live\", \"live\", \"live\", \"live\", \"lizette\", \"loan\", \"loan\", \"local\", \"local\", \"local\", \"local\", \"local\", \"local\", \"local\", \"local\", \"local\", \"local\", \"locality\", \"loeffler\", \"logistics\", \"looting\", \"los\", \"los\", \"los\", \"louis\", \"louis\", \"louis\", \"louis\", \"louis\", \"louisiana\", \"louisiana\", \"louisiana\", \"louisiana\", \"louisiana\", \"louisville\", \"low\", \"low\", \"low\", \"low\", \"low\", \"low\", \"low\", \"low\", \"low\", \"lyft\", \"machine\", \"machine\", \"machine\", \"mail\", \"mail\", \"mainstream\", \"majority\", \"majority\", \"majority\", \"majority\", \"majority\", \"majority\", \"majority\", \"makeup\", \"man\", \"man\", \"man\", \"man\", \"manufacturing\", \"manufacturing\", \"manufacturing\", \"march\", \"march\", \"march\", \"march\", \"march\", \"march\", \"march\", \"march\", \"mask\", \"mask\", \"mask\", \"mask\", \"mask\", \"massac\", \"material\", \"material\", \"material\", \"material\", \"material\", \"matt\", \"matt\", \"matt\", \"matt\", \"mayor\", \"mayor\", \"mayor\", \"mayor\", \"mayor\", \"mayor\", \"mayor\", \"mbs\", \"mccain\", \"mcconnell\", \"mcconnell\", \"mcconnell\", \"mckenzie\", \"medal\", \"medicaid\", \"medical\", \"medical\", \"medical\", \"medical\", \"medical\", \"medical\", \"medium\", \"medium\", \"medium\", \"medium\", \"meeks\", \"member\", \"member\", \"member\", \"member\", \"member\", \"member\", \"member\", \"member\", \"member\", \"member\", \"member\", \"member\", \"member\", \"members\\u00e2\", \"meng\", \"merkley\", \"mexican\", \"mexican\", \"microscopic\", \"militant\", \"military\", \"military\", \"military\", \"military\", \"military\", \"military\", \"military\", \"military\", \"military\", \"military\", \"military\", \"military\", \"militia\", \"million\", \"million\", \"million\", \"million\", \"million\", \"million\", \"million\", \"million\", \"million\", \"million\", \"million\", \"million\", \"mineral\", \"minister\", \"minister\", \"missouri\", \"missouri\", \"mitch\", \"mitch\", \"mn\", \"mnuchin\", \"modern\", \"modern\", \"monday\", \"monday\", \"monday\", \"monday\", \"monday\", \"monday\", \"monday\", \"monday\", \"monday\", \"monday\", \"monday\", \"monday\", \"monday\", \"money\", \"money\", \"money\", \"money\", \"money\", \"month\", \"month\", \"month\", \"month\", \"month\", \"month\", \"month\", \"month\", \"month\", \"month\", \"month\", \"month\", \"monthslong\", \"mortgage\", \"motivated\", \"motive\", \"motive\", \"movement\", \"movement\", \"movement\", \"movement\", \"mueller\", \"mueller\", \"multimedia\", \"multimillion\", \"multiple\", \"multiple\", \"multiple\", \"multiple\", \"multiple\", \"multiple\", \"multiple\", \"multiple\", \"mural\", \"muriel\", \"murray\", \"murray\", \"museum\", \"museum\", \"museum\", \"muslims\", \"mythology\", \"nadler\", \"nagorno\", \"naleo\", \"nancy\", \"nancy\", \"nancy\", \"nancy\", \"nasa\", \"nasa\", \"nasal\", \"national\", \"national\", \"national\", \"national\", \"national\", \"national\", \"national\", \"national\", \"national\", \"national\", \"national\", \"national\", \"ncaa\", \"neglect\", \"neglect\", \"neglect\", \"negotiation\", \"negotiation\", \"netanyahu\", \"newport\", \"news\", \"news\", \"news\", \"news\", \"news\", \"news\", \"news\", \"news\", \"news\", \"news\", \"news\", \"newsmaxtv\", \"newtown\", \"nfib\", \"nfip\", \"night\", \"night\", \"night\", \"night\", \"night\", \"night\", \"night\", \"night\", \"nineteenth\", \"nomination\", \"nomination\", \"nomination\", \"nomination\", \"nomination\", \"nominee\", \"nominee\", \"nominee\", \"nominee\", \"noncitizen\", \"nonfarm\", \"nonpartisan\", \"nonpartisan\", \"normalcy\", \"normalise\", \"normalization\", \"normalize\", \"notre\", \"nov\", \"nov\", \"nov\", \"nov\", \"nov\", \"nov\", \"nov\", \"november\", \"november\", \"november\", \"november\", \"november\", \"november\", \"november\", \"november\", \"november\", \"npr\", \"ntu\", \"number\", \"number\", \"number\", \"number\", \"number\", \"number\", \"number\", \"number\", \"number\", \"number\", \"number\", \"number\", \"nuscale\", \"observer\", \"obsession\", \"obtain\", \"obtain\", \"obtain\", \"obtain\", \"obtain\", \"obtain\", \"ocasio\", \"odni\", \"officer\", \"officer\", \"officer\", \"officer\", \"officer\", \"officer\", \"official\", \"official\", \"official\", \"official\", \"official\", \"official\", \"official\", \"official\", \"official\", \"official\", \"official\", \"official\", \"operational\", \"operational\", \"operational\", \"order\", \"order\", \"order\", \"order\", \"order\", \"order\", \"order\", \"order\", \"order\", \"order\", \"order\", \"order\", \"ordinance\", \"oregon\", \"oregon\", \"oregon\", \"oregon\", \"oregon\", \"organisation\", \"organization\", \"organization\", \"organization\", \"organization\", \"organization\", \"organization\", \"organization\", \"organization\", \"outbreak\", \"outbreak\", \"outbreak\", \"ows\", \"package\", \"packing\", \"pancreas\", \"pandemic\", \"pandemic\", \"pandemic\", \"pandemic\", \"pandemic\", \"pandemic\", \"pandemic\", \"pandemic\", \"pandemic\", \"pandemic\", \"pandemic\", \"parade\", \"parade\", \"parade\", \"paranoia\", \"parent\", \"parent\", \"parent\", \"paris\", \"party\", \"party\", \"party\", \"party\", \"party\", \"party\", \"paso\", \"paso\", \"pasoans\", \"pass\", \"pass\", \"pass\", \"pass\", \"pass\", \"pass\", \"pass\", \"pass\", \"pass\", \"patient\", \"patient\", \"patient\", \"patriot\", \"patrol\", \"patrol\", \"pay\", \"pay\", \"pay\", \"pay\", \"pay\", \"pay\", \"pay\", \"pay\", \"paycheck\", \"paycheck\", \"payment\", \"payment\", \"payment\", \"payment\", \"payment\", \"payment\", \"peace\", \"peace\", \"peace\", \"peace\", \"pelosi\", \"pelosi\", \"pelosi\", \"pelosi\", \"pelosi\", \"pendley\", \"pennsylvania\", \"pennsylvania\", \"pennsylvania\", \"pennsylvania\", \"pennsylvania\", \"pension\", \"pension\", \"people\", \"people\", \"people\", \"people\", \"people\", \"people\", \"people\", \"people\", \"people\", \"people\", \"people\", \"people\", \"people\", \"people\", \"people\", \"peoples\", \"percent\", \"percent\", \"percent\", \"percent\", \"percent\", \"perdue\", \"perdue\", \"person\", \"person\", \"person\", \"person\", \"person\", \"person\", \"person\", \"person\", \"physician\", \"pilot\", \"pilot\", \"pilot\", \"plant\", \"plant\", \"plant\", \"plant\", \"plasma\", \"player\", \"player\", \"plot\", \"plunge\", \"plunge\", \"plunge\", \"plunge\", \"pm\", \"pm\", \"pointing\", \"police\", \"police\", \"police\", \"policy\", \"policy\", \"policy\", \"policy\", \"policy\", \"policy\", \"policy\", \"policy\", \"policy\", \"policy\", \"policy\", \"politics\", \"politics\", \"poll\", \"poll\", \"poll\", \"poll\", \"poll\", \"poll\", \"polling\", \"polling\", \"polling\", \"polling\", \"pollution\", \"pollution\", \"pollution\", \"pop\", \"possession\", \"post\", \"post\", \"post\", \"post\", \"post\", \"post\", \"post\", \"post\", \"post\", \"post\", \"post\", \"postal\", \"postal\", \"postal\", \"postmaster\", \"ppp\", \"ppp\", \"pramila\", \"predictor\", \"president\", \"president\", \"president\", \"president\", \"president\", \"president\", \"president\", \"president\", \"president\", \"president\", \"president\", \"presidential\", \"presidential\", \"presidential\", \"presidential\", \"presidential\", \"pressley\", \"prevention\", \"prevention\", \"prevention\", \"prevention\", \"previously\", \"previously\", \"previously\", \"previously\", \"previously\", \"previously\", \"previously\", \"prime\", \"prime\", \"prisoner\", \"proactively\", \"procedural\", \"production\", \"production\", \"production\", \"production\", \"program\", \"program\", \"program\", \"program\", \"program\", \"program\", \"program\", \"progressive\", \"progressive\", \"progressive\", \"progressive\", \"project\", \"project\", \"project\", \"project\", \"project\", \"project\", \"project\", \"project\", \"project\", \"property\", \"property\", \"property\", \"property\", \"property\", \"property\", \"prospect\", \"prospect\", \"prospect\", \"protest\", \"protest\", \"protest\", \"protester\", \"provide\", \"provide\", \"provide\", \"provide\", \"provide\", \"provide\", \"provide\", \"provide\", \"provide\", \"provide\", \"provide\", \"provide\", \"prudential\", \"public\", \"public\", \"public\", \"public\", \"public\", \"public\", \"public\", \"public\", \"public\", \"public\", \"public\", \"public\", \"puerto\", \"purdue\", \"purportedly\", \"putin\", \"qaeda\", \"quantum\", \"quarter\", \"quarter\", \"quarter\", \"quarter\", \"quiver\", \"quotno\", \"race\", \"race\", \"race\", \"race\", \"race\", \"race\", \"race\", \"race\", \"rainfall\", \"rampd\", \"rancher\", \"ratcliffe\", \"rate\", \"rate\", \"rate\", \"rate\", \"ratification\", \"ratify\", \"reactor\", \"reauthorization\", \"reauthorization\", \"reconnect\", \"reconnect\", \"record\", \"record\", \"record\", \"record\", \"record\", \"record\", \"record\", \"record\", \"record\", \"red\", \"red\", \"red\", \"red\", \"reevaluate\", \"refuge\", \"refuge\", \"register\", \"register\", \"register\", \"register\", \"registration\", \"registration\", \"registration\", \"relation\", \"release\", \"release\", \"release\", \"release\", \"release\", \"release\", \"release\", \"release\", \"release\", \"release\", \"release\", \"relief\", \"relief\", \"relief\", \"relief\", \"remdesivir\", \"renewable\", \"renovation\", \"rent\", \"rental\", \"renter\", \"reopen\", \"reopen\", \"reopen\", \"reopen\", \"rep\", \"rep\", \"rep\", \"rep\", \"rep\", \"rep\", \"rep\", \"repay\", \"repeatedly\", \"repeatedly\", \"repeatedly\", \"repeatedly\", \"repeatedly\", \"repeatedly\", \"repercussion\", \"repetitive\", \"replenishment\", \"report\", \"report\", \"report\", \"report\", \"report\", \"report\", \"report\", \"report\", \"report\", \"report\", \"report\", \"report\", \"representative\", \"representative\", \"representative\", \"representative\", \"representative\", \"representatives\", \"representatives\", \"representatives\", \"reprimand\", \"reps\", \"reps\", \"republican\", \"republican\", \"republican\", \"republican\", \"republican\", \"republican\", \"republicans\", \"republicans\", \"republicans\", \"republicans\", \"republicans\", \"republicans\", \"republicans\", \"republicans\", \"republicans\", \"republicans\", \"research\", \"research\", \"research\", \"research\", \"research\", \"research\", \"research\", \"research\", \"resident\", \"resident\", \"resident\", \"resident\", \"resident\", \"resident\", \"resident\", \"resident\", \"resident\", \"resident\", \"resource\", \"resource\", \"resource\", \"resource\", \"resource\", \"resource\", \"resource\", \"resource\", \"resource\", \"resource\", \"responder\", \"responder\", \"responder\", \"responder\", \"restart\", \"retrieve\", \"retrieve\", \"reveal\", \"reveal\", \"reveal\", \"reveal\", \"reveal\", \"reveal\", \"reveal\", \"reveal\", \"reveal\", \"revelation\", \"ricans\", \"rico\", \"rise\", \"rise\", \"rise\", \"rise\", \"rise\", \"rise\", \"rise\", \"rise\", \"risk\", \"risk\", \"risk\", \"risk\", \"risk\", \"risk\", \"risk\", \"risk\", \"risk\", \"risk\", \"rittenhouse\", \"river\", \"river\", \"river\", \"riverside\", \"roger\", \"rouda\", \"rules\", \"rural\", \"rural\", \"rural\", \"rural\", \"rural\", \"rural\", \"russia\", \"russia\", \"russia\", \"russia\", \"russia\", \"ruth\", \"sabotage\", \"sacrifice\", \"saliva\", \"sally\", \"sally\", \"salmon\", \"salon\", \"san\", \"san\", \"san\", \"san\", \"san\", \"sanitizer\", \"sars\", \"savings\", \"scenic\", \"schakowsky\", \"scholarly\", \"scholarship\", \"school\", \"school\", \"school\", \"school\", \"school\", \"school\", \"schools\", \"schools\", \"schools\", \"schumer\", \"schumer\", \"schweikert\", \"scientific\", \"scientific\", \"scientific\", \"scientific\", \"scranton\", \"seasonally\", \"secretary\", \"secretary\", \"secretary\", \"secretary\", \"secretary\", \"secretary\", \"secretary\", \"secretary\", \"security\", \"security\", \"security\", \"security\", \"security\", \"security\", \"security\", \"security\", \"security\", \"semester\", \"sen\", \"sen\", \"sen\", \"sen\", \"sen\", \"sen\", \"senate\", \"senate\", \"senate\", \"senate\", \"senate\", \"senate\", \"senate\", \"senate\", \"senate\", \"senate\", \"senator\", \"senator\", \"senator\", \"senator\", \"senator\", \"senator\", \"senator\", \"senator\", \"senator\", \"senator\", \"sens\", \"sens\", \"sentinels\", \"separate\", \"separate\", \"separate\", \"separate\", \"separate\", \"separation\", \"separation\", \"separation\", \"separation\", \"separation\", \"serbia\", \"serve\", \"serve\", \"serve\", \"serve\", \"serve\", \"serve\", \"serve\", \"serve\", \"serve\", \"serve\", \"serve\", \"serve\", \"service\", \"service\", \"service\", \"service\", \"service\", \"service\", \"service\", \"service\", \"service\", \"service\", \"severity\", \"severity\", \"sgt\", \"sgt\", \"sgt\", \"sgt\", \"shadow\", \"sheriff\", \"sheriff\", \"shocking\", \"shoot\", \"shoot\", \"shoot\", \"shooting\", \"shout\", \"showcase\", \"siena\", \"sister\", \"sister\", \"sister\", \"skip\", \"slogan\", \"slush\", \"small\", \"small\", \"small\", \"small\", \"small\", \"small\", \"small\", \"small\", \"small\", \"smithsonian\", \"smoke\", \"smuggling\", \"snap\", \"solutions\", \"sonia\", \"sonny\", \"sonoma\", \"sorting\", \"sotomayor\", \"source\", \"source\", \"source\", \"source\", \"source\", \"source\", \"source\", \"source\", \"source\", \"source\", \"spanberger\", \"speaker\", \"speaker\", \"specie\", \"specious\", \"spoof\", \"sport\", \"sport\", \"sport\", \"squadron\", \"st\", \"st\", \"st\", \"stabilization\", \"stable\", \"stall\", \"star\", \"star\", \"star\", \"star\", \"stardom\", \"starting\", \"state\", \"state\", \"state\", \"state\", \"state\", \"state\", \"state\", \"state\", \"state\", \"state\", \"state\", \"state\", \"state\", \"state\", \"state\", \"statehood\", \"statehood\", \"staters\", \"states\", \"states\", \"states\", \"states\", \"states\", \"states\", \"states\", \"states\", \"states\", \"steady\", \"steel\", \"stimulus\", \"stopgap\", \"storm\", \"storm\", \"story\", \"story\", \"story\", \"story\", \"story\", \"strenuous\", \"stroke\", \"struggle\", \"struggle\", \"struggle\", \"struggle\", \"struggle\", \"struggle\", \"struggle\", \"struggle\", \"student\", \"student\", \"student\", \"student\", \"student\", \"student\", \"sudan\", \"sudden\", \"sudden\", \"sudden\", \"suffrage\", \"suffragist\", \"suicide\", \"suicide\", \"suicide\", \"suicide\", \"suicide\", \"suicide\", \"summary\", \"supertalk\", \"supplemental\", \"support\", \"support\", \"support\", \"support\", \"support\", \"support\", \"support\", \"support\", \"support\", \"support\", \"support\", \"support\", \"support\", \"supreme\", \"supreme\", \"surge\", \"surge\", \"surge\", \"surge\", \"surpass\", \"surprisingly\", \"survey\", \"survey\", \"survey\", \"suspect\", \"suspect\", \"suspect\", \"swab\", \"symptom\", \"symptom\", \"synthetic\", \"system\", \"system\", \"system\", \"system\", \"system\", \"system\", \"system\", \"system\", \"system\", \"system\", \"tacit\", \"tammy\", \"task\", \"task\", \"task\", \"task\", \"task\", \"tax\", \"tax\", \"tax\", \"tax\", \"tax\", \"tax\", \"tax\", \"taxpayer\", \"taxpayer\", \"taxpayer\", \"taxpayer\", \"taxpayer\", \"taxpayers\", \"taylor\", \"taylor\", \"taylor\", \"taylor\", \"taylor\", \"taylor\", \"tcja\", \"teacher\", \"teacher\", \"teaching\", \"technology\", \"technology\", \"technology\", \"technology\", \"technology\", \"technology\", \"telecom\", \"tenant\", \"tenant\", \"tent\", \"terrain\", \"terrorism\", \"terrorist\", \"terrorist\", \"terrorist\", \"terrorist\", \"test\", \"test\", \"test\", \"test\", \"test\", \"test\", \"test\", \"testing\", \"testing\", \"testing\", \"testing\", \"testing\", \"texan\", \"texas\", \"texas\", \"texas\", \"texas\", \"texas\", \"texas\", \"texas\", \"texas\", \"texas\", \"texas\", \"texas\", \"texas\", \"texas\", \"text\", \"text\", \"text\", \"text\", \"text\", \"thankfully\", \"thursday\", \"thursday\", \"thursday\", \"thursday\", \"thursday\", \"thursday\", \"thursday\", \"thursday\", \"thursday\", \"thursday\", \"thursday\", \"thursday\", \"thursday\", \"tide\", \"tigers\", \"time\", \"time\", \"time\", \"time\", \"time\", \"time\", \"time\", \"time\", \"time\", \"time\", \"time\", \"time\", \"time\", \"time\", \"time\", \"times\", \"times\", \"times\", \"times\", \"times\", \"times\", \"times\", \"times\", \"tirelessly\", \"today\", \"today\", \"today\", \"today\", \"today\", \"today\", \"today\", \"today\", \"today\", \"toll\", \"toll\", \"tourism\", \"trading\", \"transmit\", \"transportation\", \"transportation\", \"transportation\", \"trauma\", \"trial\", \"trial\", \"trial\", \"trillion\", \"trillion\", \"troop\", \"troop\", \"troop\", \"tropical\", \"trump\", \"trump\", \"trump\", \"trump\", \"trump\", \"trump\", \"trump\", \"trump\", \"trump\", \"trump\", \"trump\\u00e2s\", \"trump\\u00e2s\", \"trump\\u00e2s\", \"trump\\u00e2s\", \"tucson\", \"tuesday\", \"tuesday\", \"tuesday\", \"tuesday\", \"tuesday\", \"tuesday\", \"tuesday\", \"tuesday\", \"tuesday\", \"tuesday\", \"tuesday\", \"tuesday\", \"tuesday\", \"tuesday\", \"turkey\\u00e2s\", \"tweet\", \"tweet\", \"tweet\", \"tweet\", \"twitter\", \"twitter\", \"twitter\", \"twitter\", \"uae\", \"ukraine\", \"ukrainian\", \"ukrainian\", \"unconscious\", \"undercounted\", \"underestimate\", \"undertaking\", \"underwhelming\", \"unemployment\", \"unemployment\", \"unfathomable\", \"unfounded\", \"unilaterally\", \"united\", \"united\", \"united\", \"united\", \"united\", \"united\", \"united\", \"united\", \"united\", \"united\", \"university\", \"university\", \"university\", \"university\", \"university\", \"university\", \"university\", \"unknown\", \"unknown\", \"unlock\", \"unlock\", \"update\", \"update\", \"update\", \"update\", \"update\", \"update\", \"update\", \"update\", \"usbrokered\", \"usps\", \"usps\", \"usps\", \"uss\", \"uterus\", \"vacancy\", \"vacancy\", \"vaccination\", \"vaccine\", \"vaccine\", \"valley\", \"valley\", \"valley\", \"valley\", \"valley\", \"valor\", \"vast\", \"vast\", \"vast\", \"vast\", \"verge\", \"versus\", \"veteran\", \"veteran\", \"veteran\", \"veteran\", \"veteran\", \"veteran\", \"veteran\", \"veteran\", \"veteran\", \"viability\", \"vice\", \"vice\", \"vice\", \"video\", \"video\", \"video\", \"video\", \"violence\", \"violence\", \"violence\", \"violence\", \"virus\", \"virus\", \"virus\", \"vote\", \"vote\", \"vote\", \"vote\", \"vote\", \"vote\", \"vote\", \"vote\", \"vote\", \"vote\", \"voteinnhorg\", \"voter\", \"voter\", \"voter\", \"voter\", \"voter\", \"voter\", \"voter\", \"voting\", \"voting\", \"voting\", \"voting\", \"voting\", \"voting\", \"walton\", \"wanton\", \"war\", \"war\", \"war\", \"war\", \"war\", \"war\", \"war\", \"wartime\", \"washington\", \"washington\", \"washington\", \"washington\", \"washington\", \"washington\", \"washington\", \"washington\", \"washington\", \"washington\", \"washington\", \"washington\", \"washington\", \"water\", \"water\", \"water\", \"water\", \"waters\", \"ways\", \"weather\", \"weather\", \"weather\", \"weather\", \"weather\", \"wedge\", \"wednesday\", \"wednesday\", \"wednesday\", \"wednesday\", \"wednesday\", \"wednesday\", \"wednesday\", \"wednesday\", \"wednesday\", \"wednesday\", \"wednesday\", \"wednesday\", \"week\", \"week\", \"week\", \"week\", \"week\", \"week\", \"week\", \"week\", \"week\", \"week\", \"week\", \"week\", \"week\", \"weeks\", \"white\", \"white\", \"white\", \"white\", \"white\", \"white\", \"white\", \"white\", \"white\", \"white\", \"whitmer\", \"wilderness\", \"wilderness\", \"wildfire\", \"wildfire\", \"wildfire\", \"willfully\", \"william\", \"william\", \"william\", \"william\", \"win\", \"win\", \"win\", \"win\", \"win\", \"win\", \"win\", \"wind\", \"wind\", \"wind\", \"wind\", \"wind\", \"wing\", \"wing\", \"wing\", \"wing\", \"wing\", \"wing\", \"wisconsin\", \"wisconsin\", \"wisconsin\", \"wisconsin\", \"wisconsin\", \"wisconsin\", \"wisconsin\", \"wisconsin\", \"withdrawal\", \"wndb\", \"wolf\", \"wolf\", \"wolf\", \"woman\", \"woman\", \"woman\", \"woman\", \"woman\", \"woman\", \"women\", \"women\", \"women\", \"women\", \"women\", \"woodward\", \"wooten\", \"work\", \"work\", \"work\", \"work\", \"work\", \"work\", \"work\", \"work\", \"work\", \"work\", \"work\", \"work\", \"work\", \"worker\", \"worker\", \"worker\", \"worker\", \"worker\", \"worker\", \"worker\", \"worker\", \"worker\", \"workforce\", \"workforce\", \"workforce\", \"world\", \"world\", \"world\", \"world\", \"world\", \"world\", \"world\", \"world\", \"wound\", \"wound\", \"wound\", \"wray\", \"write\", \"write\", \"write\", \"write\", \"write\", \"write\", \"write\", \"write\", \"write\", \"write\", \"wy\", \"xpo\", \"yan\", \"year\", \"year\", \"year\", \"year\", \"year\", \"year\", \"year\", \"year\", \"year\", \"year\", \"year\", \"year\", \"year\", \"year\", \"year\", \"young\", \"young\", \"young\", \"young\", \"young\", \"young\", \"young\", \"young\", \"young\", \"zeta\", \"zoo\", \"\\u00e2a\", \"\\u00e2a\", \"\\u00e2political\", \"\\u00e2there\"]}, \"R\": 30, \"lambda.step\": 0.01, \"plot.opts\": {\"xlab\": \"PC1\", \"ylab\": \"PC2\"}, \"topic.order\": [10, 14, 15, 1, 3, 8, 4, 6, 2, 9, 12, 11, 13, 5, 7]};\n",
       "\n",
       "function LDAvis_load_lib(url, callback){\n",
       "  var s = document.createElement('script');\n",
       "  s.src = url;\n",
       "  s.async = true;\n",
       "  s.onreadystatechange = s.onload = callback;\n",
       "  s.onerror = function(){console.warn(\"failed to load library \" + url);};\n",
       "  document.getElementsByTagName(\"head\")[0].appendChild(s);\n",
       "}\n",
       "\n",
       "if(typeof(LDAvis) !== \"undefined\"){\n",
       "   // already loaded: just create the visualization\n",
       "   !function(LDAvis){\n",
       "       new LDAvis(\"#\" + \"ldavis_el1167629198695283201006591362\", ldavis_el1167629198695283201006591362_data);\n",
       "   }(LDAvis);\n",
       "}else if(typeof define === \"function\" && define.amd){\n",
       "   // require.js is available: use it to load d3/LDAvis\n",
       "   require.config({paths: {d3: \"https://d3js.org/d3.v5\"}});\n",
       "   require([\"d3\"], function(d3){\n",
       "      window.d3 = d3;\n",
       "      LDAvis_load_lib(\"https://cdn.jsdelivr.net/gh/bmabey/pyLDAvis@3.3.1/pyLDAvis/js/ldavis.v3.0.0.js\", function(){\n",
       "        new LDAvis(\"#\" + \"ldavis_el1167629198695283201006591362\", ldavis_el1167629198695283201006591362_data);\n",
       "      });\n",
       "    });\n",
       "}else{\n",
       "    // require.js not available: dynamically load d3 & LDAvis\n",
       "    LDAvis_load_lib(\"https://d3js.org/d3.v5.js\", function(){\n",
       "         LDAvis_load_lib(\"https://cdn.jsdelivr.net/gh/bmabey/pyLDAvis@3.3.1/pyLDAvis/js/ldavis.v3.0.0.js\", function(){\n",
       "                 new LDAvis(\"#\" + \"ldavis_el1167629198695283201006591362\", ldavis_el1167629198695283201006591362_data);\n",
       "            })\n",
       "         });\n",
       "}\n",
       "</script>"
      ],
      "text/plain": [
       "PreparedData(topic_coordinates=              x         y  topics  cluster      Freq\n",
       "topic                                               \n",
       "9     -0.187321  0.070828       1        1  9.559946\n",
       "13    -0.089604 -0.046633       2        1  9.286763\n",
       "14     0.046745 -0.140597       3        1  8.648655\n",
       "0      0.134461 -0.036340       4        1  8.415713\n",
       "2      0.105627  0.117623       5        1  7.929992\n",
       "7      0.122870  0.124974       6        1  7.694623\n",
       "3      0.107216 -0.059733       7        1  7.002471\n",
       "5      0.107529  0.033847       8        1  6.683868\n",
       "1     -0.105625 -0.011214       9        1  6.117122\n",
       "8     -0.119052  0.023390      10        1  5.698741\n",
       "11    -0.023839  0.210048      11        1  5.530100\n",
       "10    -0.235244  0.005826      12        1  5.010219\n",
       "12    -0.149431 -0.093371      13        1  4.768296\n",
       "4      0.193292  0.078363      14        1  3.887308\n",
       "6      0.092375 -0.277011      15        1  3.766182, topic_info=          Term         Freq        Total Category  logprob  loglift\n",
       "992      court  1109.000000  1109.000000  Default  30.0000  30.0000\n",
       "616      trump  3032.000000  3032.000000  Default  29.0000  29.0000\n",
       "776      biden   989.000000   989.000000  Default  28.0000  28.0000\n",
       "241  president  2949.000000  2949.000000  Default  27.0000  27.0000\n",
       "596   election  1570.000000  1570.000000  Default  26.0000  26.0000\n",
       "..         ...          ...          ...      ...      ...      ...\n",
       "540     change    71.310657   819.532719  Topic15  -5.2043   0.8374\n",
       "284    covid19    75.063849  1495.264166  Topic15  -5.1530   0.2874\n",
       "6      include    68.808529   788.876164  Topic15  -5.2400   0.8398\n",
       "76        time    68.808529   845.545516  Topic15  -5.2400   0.7705\n",
       "15        2020    60.051079  1062.507598  Topic15  -5.3761   0.4059\n",
       "\n",
       "[1324 rows x 6 columns], token_table=      Topic      Freq        Term\n",
       "term                             \n",
       "2032      1  0.198188        1000\n",
       "2032      3  0.007928        1000\n",
       "2032      4  0.015855        1000\n",
       "2032      7  0.689696        1000\n",
       "2032      8  0.031710        1000\n",
       "...     ...       ...         ...\n",
       "1599     14  0.960583         zoo\n",
       "2071      9  0.981057          âa\n",
       "2071     11  0.017519          âa\n",
       "5952     13  0.912838  âpolitical\n",
       "2091     10  1.046341      âthere\n",
       "\n",
       "[3693 rows x 3 columns], R=30, lambda_step=0.01, plot_opts={'xlab': 'PC1', 'ylab': 'PC2'}, topic_order=[10, 14, 15, 1, 3, 8, 4, 6, 2, 9, 12, 11, 13, 5, 7])"
      ]
     },
     "execution_count": 175,
     "metadata": {},
     "output_type": "execute_result"
    }
   ],
   "source": [
    "pyLDAvis.enable_notebook()\n",
    "\n",
    "lda_conv = gensim.models.wrappers.ldamallet.malletmodel2ldamodel(lda15)\n",
    "\n",
    "gensimvis.prepare(lda_conv, corpus, dictionary)"
   ]
  },
  {
   "cell_type": "markdown",
   "id": "bfa37e67",
   "metadata": {},
   "source": [
    "#### 3.3.2 Model 2 (20 topics)"
   ]
  },
  {
   "cell_type": "code",
   "execution_count": 229,
   "id": "9f44a38e",
   "metadata": {},
   "outputs": [],
   "source": [
    "lda20 = LdaMallet(r'C:/mallet/bin/mallet.bat',\n",
    "                corpus=corpus,\n",
    "                id2word=dictionary,\n",
    "                num_topics=20,\n",
    "                optimize_interval=10,\n",
    "                iterations=1000)\n",
    "\n",
    "lda20.save(r'models/lda20.model')"
   ]
  },
  {
   "cell_type": "markdown",
   "id": "40e926e7",
   "metadata": {},
   "source": [
    "Examining top 10 words in each topic:"
   ]
  },
  {
   "cell_type": "code",
   "execution_count": 262,
   "id": "6cd76bfd",
   "metadata": {},
   "outputs": [
    {
     "data": {
      "text/plain": [
       "['Topic 1: coronavirus pandemic million business relief covid19 federal economic week benefit',\n",
       " 'Topic 2: information official trumpâs obtain tax times write decade hundred president',\n",
       " 'Topic 3: biden president trump joe presidential election campaign democratic vice donald',\n",
       " 'Topic 4: department china report security force release homeland georgia border accord',\n",
       " 'Topic 5: house rep bill committee member act legislation introduce congress policy',\n",
       " 'Topic 6: county state announce city year million department grant school federal',\n",
       " 'Topic 7: year people american country government change public black political america',\n",
       " 'Topic 8: news 2020 live talk event story watch show late join',\n",
       " 'Topic 9: election mail service vote postal ballot general voter voting state',\n",
       " 'Topic 10: court supreme senate justice barrett amy coney judge nominee majority',\n",
       " 'Topic 11: health care today join face percent american contribute insurance return',\n",
       " 'Topic 12: woman pelosi speaker nancy house day amendment gottheimer jones year',\n",
       " 'Topic 13: fire wildfire state california water climate hurricane area gas land',\n",
       " 'Topic 14: united president military states trump member veteran israel service source',\n",
       " 'Topic 15: vaccine organization technology lead event conservative effective national safe pfizer',\n",
       " 'Topic 16: trump president administration donald federal white house order coronavirus judge',\n",
       " 'Topic 17: police city officer shoot year black death charge people die',\n",
       " 'Topic 18: act bill year legislation taxpayer bipartisan congress budget tax agency',\n",
       " 'Topic 19: covid19 coronavirus case pandemic health people state test virus death',\n",
       " 'Topic 20: school support student pandemic resource child education provide veteran service']"
      ]
     },
     "execution_count": 262,
     "metadata": {},
     "output_type": "execute_result"
    }
   ],
   "source": [
    "topics20 = []\n",
    "\n",
    "for topic in range(20):\n",
    "    words = lda20.show_topic(topic, 10)\n",
    "    topic_n_words = ' '.join([word[0] for word in words])\n",
    "    topics20.append('Topic {}: {}'.format(str(topic+1), topic_n_words))\n",
    "topics20"
   ]
  },
  {
   "cell_type": "markdown",
   "id": "d72a0762",
   "metadata": {},
   "source": [
    "##### labels for 20 topics\n",
    "\n",
    "We can attempt to label these topics as:\n",
    "- 1: covid19-economy\n",
    "- 2: trump-scandals (tax)\n",
    "- 3: election-biden\n",
    "- 4: foreign affairs\n",
    "- 5: legislation\n",
    "- 6: N/a\n",
    "- 7: N/a\n",
    "- 8: news & live events\n",
    "- 9: postal voting\n",
    "- 10: supreme court\n",
    "- 11: healthcare\n",
    "- 12: nancy pelosi\n",
    "- 13: fires\n",
    "- 14: military affairs\n",
    "- 15: covid19-vaccines\n",
    "- 16: trump administration\n",
    "- 17: police shootings\n",
    "- 18: legislation\n",
    "- 19: covid19-health\n",
    "- 20: covid19-education"
   ]
  },
  {
   "cell_type": "markdown",
   "id": "e4e006e1",
   "metadata": {},
   "source": [
    "The model with 15 topics appears more consistent and interpretable. The model with 20 topics has two topics which I could not assign a label to and has greater overlap between topics. \n",
    "\n",
    "Moreover, I believe that decreasing the number of topics below 15 is not neccessary as the topics are already distinctive enough and lowering the number of topics any further would result in loss of detail. \n",
    "\n",
    "Thus, the rest of this analysis will make use of the lda15 model consisting of 15 topics."
   ]
  },
  {
   "cell_type": "markdown",
   "id": "81519484",
   "metadata": {},
   "source": [
    "### 3.4 Exploring differences between forbes and CNBC"
   ]
  },
  {
   "cell_type": "markdown",
   "id": "8ce26c34",
   "metadata": {},
   "source": [
    "Creating a dataframe of the topic distributions"
   ]
  },
  {
   "cell_type": "code",
   "execution_count": 28,
   "id": "12062644",
   "metadata": {},
   "outputs": [],
   "source": [
    "# Transforming the documents to their topic distributions\n",
    "transformed_docs = lda15.load_document_topics()\n",
    "\n",
    "# Creating a dataframe of the topic distributions\n",
    "topic_distributions = pd.DataFrame([[x[1] for x in doc] for doc in transformed_docs], \n",
    "             columns=['topic_{}'.format(i) for i in range(1,16)])\n",
    "\n",
    "# Joining the topic distributions with the main dataframe\n",
    "joined_topic_dist = framing.reset_index().join(topic_distributions)"
   ]
  },
  {
   "cell_type": "markdown",
   "id": "f8e97791",
   "metadata": {},
   "source": [
    "Creating a subset of the data that only includes tweets referencing forbes and CNBC"
   ]
  },
  {
   "cell_type": "code",
   "execution_count": 32,
   "id": "37beed5c",
   "metadata": {
    "scrolled": true
   },
   "outputs": [
    {
     "data": {
      "text/plain": [
       "449"
      ]
     },
     "execution_count": 32,
     "metadata": {},
     "output_type": "execute_result"
    }
   ],
   "source": [
    "forbes_cnbc = joined_topic_dist[joined_topic_dist['netloc'].isin(['www.forbes.com', 'www.cnbc.com'])]\n",
    "len(forbes_cnbc)"
   ]
  },
  {
   "cell_type": "code",
   "execution_count": 33,
   "id": "7b9ffda3",
   "metadata": {},
   "outputs": [
    {
     "data": {
      "text/html": [
       "<div>\n",
       "<style scoped>\n",
       "    .dataframe tbody tr th:only-of-type {\n",
       "        vertical-align: middle;\n",
       "    }\n",
       "\n",
       "    .dataframe tbody tr th {\n",
       "        vertical-align: top;\n",
       "    }\n",
       "\n",
       "    .dataframe thead th {\n",
       "        text-align: right;\n",
       "    }\n",
       "</style>\n",
       "<table border=\"1\" class=\"dataframe\">\n",
       "  <thead>\n",
       "    <tr style=\"text-align: right;\">\n",
       "      <th></th>\n",
       "      <th>index</th>\n",
       "      <th>tweet_id</th>\n",
       "      <th>date</th>\n",
       "      <th>user</th>\n",
       "      <th>party</th>\n",
       "      <th>state</th>\n",
       "      <th>chamber</th>\n",
       "      <th>tweet</th>\n",
       "      <th>news_mention</th>\n",
       "      <th>url_reference</th>\n",
       "      <th>...</th>\n",
       "      <th>topic_6</th>\n",
       "      <th>topic_7</th>\n",
       "      <th>topic_8</th>\n",
       "      <th>topic_9</th>\n",
       "      <th>topic_10</th>\n",
       "      <th>topic_11</th>\n",
       "      <th>topic_12</th>\n",
       "      <th>topic_13</th>\n",
       "      <th>topic_14</th>\n",
       "      <th>topic_15</th>\n",
       "    </tr>\n",
       "  </thead>\n",
       "  <tbody>\n",
       "    <tr>\n",
       "      <th>75</th>\n",
       "      <td>91</td>\n",
       "      <td>1298656867393167360</td>\n",
       "      <td>2020-08-26 16:21:39</td>\n",
       "      <td>RepByrne</td>\n",
       "      <td>R</td>\n",
       "      <td>Alabama 1st District</td>\n",
       "      <td>Representative</td>\n",
       "      <td>Please join me in prayer for our Gulf Coast ne...</td>\n",
       "      <td></td>\n",
       "      <td>https://www.cnbc.com/2020/08/26/hurricane-laur...</td>\n",
       "      <td>...</td>\n",
       "      <td>0.002627</td>\n",
       "      <td>0.000528</td>\n",
       "      <td>0.896789</td>\n",
       "      <td>0.002372</td>\n",
       "      <td>0.003868</td>\n",
       "      <td>0.001568</td>\n",
       "      <td>0.002028</td>\n",
       "      <td>0.001568</td>\n",
       "      <td>0.003402</td>\n",
       "      <td>0.003541</td>\n",
       "    </tr>\n",
       "    <tr>\n",
       "      <th>149</th>\n",
       "      <td>174</td>\n",
       "      <td>1325789473813172224</td>\n",
       "      <td>2020-11-09 13:16:57</td>\n",
       "      <td>RepMoBrooks</td>\n",
       "      <td>R</td>\n",
       "      <td>Alabama 5th District</td>\n",
       "      <td>U.S. Representative</td>\n",
       "      <td>#Pfizer #COVID19 #vaccine is 90% effective.\\n\\...</td>\n",
       "      <td></td>\n",
       "      <td>https://www.cnbc.com/2020/11/09/covid-vaccine-...</td>\n",
       "      <td>...</td>\n",
       "      <td>0.003045</td>\n",
       "      <td>0.000612</td>\n",
       "      <td>0.003637</td>\n",
       "      <td>0.002750</td>\n",
       "      <td>0.004484</td>\n",
       "      <td>0.001818</td>\n",
       "      <td>0.002351</td>\n",
       "      <td>0.001818</td>\n",
       "      <td>0.003944</td>\n",
       "      <td>0.004105</td>\n",
       "    </tr>\n",
       "    <tr>\n",
       "      <th>155</th>\n",
       "      <td>181</td>\n",
       "      <td>1321803173510680578</td>\n",
       "      <td>2020-10-29 13:16:49</td>\n",
       "      <td>RepMoBrooks</td>\n",
       "      <td>R</td>\n",
       "      <td>Alabama 5th District</td>\n",
       "      <td>U.S. Representative</td>\n",
       "      <td>The American economy grew at an astounding 33....</td>\n",
       "      <td></td>\n",
       "      <td>https://www.cnbc.com/2020/10/29/us-gdp-report-...</td>\n",
       "      <td>...</td>\n",
       "      <td>0.003623</td>\n",
       "      <td>0.000728</td>\n",
       "      <td>0.004326</td>\n",
       "      <td>0.003272</td>\n",
       "      <td>0.005335</td>\n",
       "      <td>0.002163</td>\n",
       "      <td>0.002797</td>\n",
       "      <td>0.002162</td>\n",
       "      <td>0.004692</td>\n",
       "      <td>0.004883</td>\n",
       "    </tr>\n",
       "    <tr>\n",
       "      <th>207</th>\n",
       "      <td>235</td>\n",
       "      <td>1326211786958401537</td>\n",
       "      <td>2020-11-10 17:15:04</td>\n",
       "      <td>USRepGaryPalmer</td>\n",
       "      <td>R</td>\n",
       "      <td>Alabama 6th District</td>\n",
       "      <td>U.S. Representative</td>\n",
       "      <td>This is encouraging news about the development...</td>\n",
       "      <td></td>\n",
       "      <td>https://www.cnbc.com/2020/11/09/covid-vaccine-...</td>\n",
       "      <td>...</td>\n",
       "      <td>0.003045</td>\n",
       "      <td>0.000612</td>\n",
       "      <td>0.003637</td>\n",
       "      <td>0.002750</td>\n",
       "      <td>0.004484</td>\n",
       "      <td>0.001818</td>\n",
       "      <td>0.002351</td>\n",
       "      <td>0.001818</td>\n",
       "      <td>0.003944</td>\n",
       "      <td>0.004105</td>\n",
       "    </tr>\n",
       "    <tr>\n",
       "      <th>208</th>\n",
       "      <td>236</td>\n",
       "      <td>1325888131116228612</td>\n",
       "      <td>2020-11-09 19:48:58</td>\n",
       "      <td>USRepGaryPalmer</td>\n",
       "      <td>R</td>\n",
       "      <td>Alabama 6th District</td>\n",
       "      <td>U.S. Representative</td>\n",
       "      <td>Good news continues on the jobs front! The #Jo...</td>\n",
       "      <td></td>\n",
       "      <td>https://www.cnbc.com/2020/11/06/jobs-report-oc...</td>\n",
       "      <td>...</td>\n",
       "      <td>0.951755</td>\n",
       "      <td>0.000728</td>\n",
       "      <td>0.004326</td>\n",
       "      <td>0.003272</td>\n",
       "      <td>0.005335</td>\n",
       "      <td>0.002163</td>\n",
       "      <td>0.002797</td>\n",
       "      <td>0.002162</td>\n",
       "      <td>0.004692</td>\n",
       "      <td>0.004883</td>\n",
       "    </tr>\n",
       "  </tbody>\n",
       "</table>\n",
       "<p>5 rows × 29 columns</p>\n",
       "</div>"
      ],
      "text/plain": [
       "     index             tweet_id                date             user party  \\\n",
       "75      91  1298656867393167360 2020-08-26 16:21:39         RepByrne     R   \n",
       "149    174  1325789473813172224 2020-11-09 13:16:57      RepMoBrooks     R   \n",
       "155    181  1321803173510680578 2020-10-29 13:16:49      RepMoBrooks     R   \n",
       "207    235  1326211786958401537 2020-11-10 17:15:04  USRepGaryPalmer     R   \n",
       "208    236  1325888131116228612 2020-11-09 19:48:58  USRepGaryPalmer     R   \n",
       "\n",
       "                    state              chamber  \\\n",
       "75   Alabama 1st District       Representative   \n",
       "149  Alabama 5th District  U.S. Representative   \n",
       "155  Alabama 5th District  U.S. Representative   \n",
       "207  Alabama 6th District  U.S. Representative   \n",
       "208  Alabama 6th District  U.S. Representative   \n",
       "\n",
       "                                                 tweet news_mention  \\\n",
       "75   Please join me in prayer for our Gulf Coast ne...                \n",
       "149  #Pfizer #COVID19 #vaccine is 90% effective.\\n\\...                \n",
       "155  The American economy grew at an astounding 33....                \n",
       "207  This is encouraging news about the development...                \n",
       "208  Good news continues on the jobs front! The #Jo...                \n",
       "\n",
       "                                         url_reference  ...   topic_6  \\\n",
       "75   https://www.cnbc.com/2020/08/26/hurricane-laur...  ...  0.002627   \n",
       "149  https://www.cnbc.com/2020/11/09/covid-vaccine-...  ...  0.003045   \n",
       "155  https://www.cnbc.com/2020/10/29/us-gdp-report-...  ...  0.003623   \n",
       "207  https://www.cnbc.com/2020/11/09/covid-vaccine-...  ...  0.003045   \n",
       "208  https://www.cnbc.com/2020/11/06/jobs-report-oc...  ...  0.951755   \n",
       "\n",
       "      topic_7   topic_8   topic_9  topic_10  topic_11  topic_12  topic_13  \\\n",
       "75   0.000528  0.896789  0.002372  0.003868  0.001568  0.002028  0.001568   \n",
       "149  0.000612  0.003637  0.002750  0.004484  0.001818  0.002351  0.001818   \n",
       "155  0.000728  0.004326  0.003272  0.005335  0.002163  0.002797  0.002162   \n",
       "207  0.000612  0.003637  0.002750  0.004484  0.001818  0.002351  0.001818   \n",
       "208  0.000728  0.004326  0.003272  0.005335  0.002163  0.002797  0.002162   \n",
       "\n",
       "     topic_14  topic_15  \n",
       "75   0.003402  0.003541  \n",
       "149  0.003944  0.004105  \n",
       "155  0.004692  0.004883  \n",
       "207  0.003944  0.004105  \n",
       "208  0.004692  0.004883  \n",
       "\n",
       "[5 rows x 29 columns]"
      ]
     },
     "execution_count": 33,
     "metadata": {},
     "output_type": "execute_result"
    }
   ],
   "source": [
    "forbes_cnbc.head()"
   ]
  },
  {
   "cell_type": "markdown",
   "id": "3a7e6705",
   "metadata": {},
   "source": [
    "Getting the mean topic distribution per media outlet"
   ]
  },
  {
   "cell_type": "code",
   "execution_count": 36,
   "id": "0157b770",
   "metadata": {},
   "outputs": [
    {
     "data": {
      "text/html": [
       "<div>\n",
       "<style scoped>\n",
       "    .dataframe tbody tr th:only-of-type {\n",
       "        vertical-align: middle;\n",
       "    }\n",
       "\n",
       "    .dataframe tbody tr th {\n",
       "        vertical-align: top;\n",
       "    }\n",
       "\n",
       "    .dataframe thead th {\n",
       "        text-align: right;\n",
       "    }\n",
       "</style>\n",
       "<table border=\"1\" class=\"dataframe\">\n",
       "  <thead>\n",
       "    <tr style=\"text-align: right;\">\n",
       "      <th></th>\n",
       "      <th>topic_1</th>\n",
       "      <th>topic_2</th>\n",
       "      <th>topic_3</th>\n",
       "      <th>topic_4</th>\n",
       "      <th>topic_5</th>\n",
       "      <th>topic_6</th>\n",
       "      <th>topic_7</th>\n",
       "      <th>topic_8</th>\n",
       "      <th>topic_9</th>\n",
       "      <th>topic_10</th>\n",
       "      <th>topic_11</th>\n",
       "      <th>topic_12</th>\n",
       "      <th>topic_13</th>\n",
       "      <th>topic_14</th>\n",
       "      <th>topic_15</th>\n",
       "    </tr>\n",
       "    <tr>\n",
       "      <th>netloc</th>\n",
       "      <th></th>\n",
       "      <th></th>\n",
       "      <th></th>\n",
       "      <th></th>\n",
       "      <th></th>\n",
       "      <th></th>\n",
       "      <th></th>\n",
       "      <th></th>\n",
       "      <th></th>\n",
       "      <th></th>\n",
       "      <th></th>\n",
       "      <th></th>\n",
       "      <th></th>\n",
       "      <th></th>\n",
       "      <th></th>\n",
       "    </tr>\n",
       "  </thead>\n",
       "  <tbody>\n",
       "    <tr>\n",
       "      <th>www.cnbc.com</th>\n",
       "      <td>0.024364</td>\n",
       "      <td>0.030233</td>\n",
       "      <td>0.084037</td>\n",
       "      <td>0.056749</td>\n",
       "      <td>0.121920</td>\n",
       "      <td>0.235052</td>\n",
       "      <td>0.003238</td>\n",
       "      <td>0.012953</td>\n",
       "      <td>0.012310</td>\n",
       "      <td>0.044315</td>\n",
       "      <td>0.023373</td>\n",
       "      <td>0.014410</td>\n",
       "      <td>0.025795</td>\n",
       "      <td>0.037239</td>\n",
       "      <td>0.274012</td>\n",
       "    </tr>\n",
       "    <tr>\n",
       "      <th>www.forbes.com</th>\n",
       "      <td>0.104951</td>\n",
       "      <td>0.079964</td>\n",
       "      <td>0.096180</td>\n",
       "      <td>0.067463</td>\n",
       "      <td>0.018575</td>\n",
       "      <td>0.074756</td>\n",
       "      <td>0.001618</td>\n",
       "      <td>0.037131</td>\n",
       "      <td>0.020674</td>\n",
       "      <td>0.093666</td>\n",
       "      <td>0.026612</td>\n",
       "      <td>0.015997</td>\n",
       "      <td>0.106660</td>\n",
       "      <td>0.065098</td>\n",
       "      <td>0.190654</td>\n",
       "    </tr>\n",
       "  </tbody>\n",
       "</table>\n",
       "</div>"
      ],
      "text/plain": [
       "                 topic_1   topic_2   topic_3   topic_4   topic_5   topic_6  \\\n",
       "netloc                                                                       \n",
       "www.cnbc.com    0.024364  0.030233  0.084037  0.056749  0.121920  0.235052   \n",
       "www.forbes.com  0.104951  0.079964  0.096180  0.067463  0.018575  0.074756   \n",
       "\n",
       "                 topic_7   topic_8   topic_9  topic_10  topic_11  topic_12  \\\n",
       "netloc                                                                       \n",
       "www.cnbc.com    0.003238  0.012953  0.012310  0.044315  0.023373  0.014410   \n",
       "www.forbes.com  0.001618  0.037131  0.020674  0.093666  0.026612  0.015997   \n",
       "\n",
       "                topic_13  topic_14  topic_15  \n",
       "netloc                                        \n",
       "www.cnbc.com    0.025795  0.037239  0.274012  \n",
       "www.forbes.com  0.106660  0.065098  0.190654  "
      ]
     },
     "execution_count": 36,
     "metadata": {},
     "output_type": "execute_result"
    }
   ],
   "source": [
    "# Grouping by netloc and getting the mean topic vector\n",
    "mean_topic = forbes_cnbc.groupby('netloc').mean()\n",
    "\n",
    "# Dropping 'index' and 'tweet_id' columns\n",
    "mean_topic.drop(columns= ['index', 'tweet_id'], inplace=True)\n",
    "\n",
    "mean_topic"
   ]
  },
  {
   "cell_type": "markdown",
   "id": "932f82ba",
   "metadata": {},
   "source": [
    "Transposing the dataframe so that the topics are the rows and the networks are the columns. This will make the rest of my analysis easier."
   ]
  },
  {
   "cell_type": "code",
   "execution_count": 37,
   "id": "dc66d2ab",
   "metadata": {
    "scrolled": true
   },
   "outputs": [
    {
     "data": {
      "text/html": [
       "<div>\n",
       "<style scoped>\n",
       "    .dataframe tbody tr th:only-of-type {\n",
       "        vertical-align: middle;\n",
       "    }\n",
       "\n",
       "    .dataframe tbody tr th {\n",
       "        vertical-align: top;\n",
       "    }\n",
       "\n",
       "    .dataframe thead th {\n",
       "        text-align: right;\n",
       "    }\n",
       "</style>\n",
       "<table border=\"1\" class=\"dataframe\">\n",
       "  <thead>\n",
       "    <tr style=\"text-align: right;\">\n",
       "      <th>netloc</th>\n",
       "      <th>www.cnbc.com</th>\n",
       "      <th>www.forbes.com</th>\n",
       "    </tr>\n",
       "    <tr>\n",
       "      <th>topic</th>\n",
       "      <th></th>\n",
       "      <th></th>\n",
       "    </tr>\n",
       "  </thead>\n",
       "  <tbody>\n",
       "    <tr>\n",
       "      <th>topic_1</th>\n",
       "      <td>0.024364</td>\n",
       "      <td>0.104951</td>\n",
       "    </tr>\n",
       "    <tr>\n",
       "      <th>topic_2</th>\n",
       "      <td>0.030233</td>\n",
       "      <td>0.079964</td>\n",
       "    </tr>\n",
       "    <tr>\n",
       "      <th>topic_3</th>\n",
       "      <td>0.084037</td>\n",
       "      <td>0.096180</td>\n",
       "    </tr>\n",
       "    <tr>\n",
       "      <th>topic_4</th>\n",
       "      <td>0.056749</td>\n",
       "      <td>0.067463</td>\n",
       "    </tr>\n",
       "    <tr>\n",
       "      <th>topic_5</th>\n",
       "      <td>0.121920</td>\n",
       "      <td>0.018575</td>\n",
       "    </tr>\n",
       "    <tr>\n",
       "      <th>topic_6</th>\n",
       "      <td>0.235052</td>\n",
       "      <td>0.074756</td>\n",
       "    </tr>\n",
       "    <tr>\n",
       "      <th>topic_7</th>\n",
       "      <td>0.003238</td>\n",
       "      <td>0.001618</td>\n",
       "    </tr>\n",
       "    <tr>\n",
       "      <th>topic_8</th>\n",
       "      <td>0.012953</td>\n",
       "      <td>0.037131</td>\n",
       "    </tr>\n",
       "    <tr>\n",
       "      <th>topic_9</th>\n",
       "      <td>0.012310</td>\n",
       "      <td>0.020674</td>\n",
       "    </tr>\n",
       "    <tr>\n",
       "      <th>topic_10</th>\n",
       "      <td>0.044315</td>\n",
       "      <td>0.093666</td>\n",
       "    </tr>\n",
       "    <tr>\n",
       "      <th>topic_11</th>\n",
       "      <td>0.023373</td>\n",
       "      <td>0.026612</td>\n",
       "    </tr>\n",
       "    <tr>\n",
       "      <th>topic_12</th>\n",
       "      <td>0.014410</td>\n",
       "      <td>0.015997</td>\n",
       "    </tr>\n",
       "    <tr>\n",
       "      <th>topic_13</th>\n",
       "      <td>0.025795</td>\n",
       "      <td>0.106660</td>\n",
       "    </tr>\n",
       "    <tr>\n",
       "      <th>topic_14</th>\n",
       "      <td>0.037239</td>\n",
       "      <td>0.065098</td>\n",
       "    </tr>\n",
       "    <tr>\n",
       "      <th>topic_15</th>\n",
       "      <td>0.274012</td>\n",
       "      <td>0.190654</td>\n",
       "    </tr>\n",
       "  </tbody>\n",
       "</table>\n",
       "</div>"
      ],
      "text/plain": [
       "netloc    www.cnbc.com  www.forbes.com\n",
       "topic                                 \n",
       "topic_1       0.024364        0.104951\n",
       "topic_2       0.030233        0.079964\n",
       "topic_3       0.084037        0.096180\n",
       "topic_4       0.056749        0.067463\n",
       "topic_5       0.121920        0.018575\n",
       "topic_6       0.235052        0.074756\n",
       "topic_7       0.003238        0.001618\n",
       "topic_8       0.012953        0.037131\n",
       "topic_9       0.012310        0.020674\n",
       "topic_10      0.044315        0.093666\n",
       "topic_11      0.023373        0.026612\n",
       "topic_12      0.014410        0.015997\n",
       "topic_13      0.025795        0.106660\n",
       "topic_14      0.037239        0.065098\n",
       "topic_15      0.274012        0.190654"
      ]
     },
     "execution_count": 37,
     "metadata": {},
     "output_type": "execute_result"
    }
   ],
   "source": [
    "mean_topic_transposed = mean_topic.transpose() # transposing the dataframe\n",
    "mean_topic_transposed.index.rename('topic', inplace=True) # renaming the index\n",
    "mean_topic_transposed"
   ]
  },
  {
   "cell_type": "markdown",
   "id": "fdb3fddb",
   "metadata": {},
   "source": [
    "Showing the top 5 most prominent topics for Forbes"
   ]
  },
  {
   "cell_type": "code",
   "execution_count": 38,
   "id": "e021b3e2",
   "metadata": {},
   "outputs": [
    {
     "data": {
      "text/plain": [
       "topic\n",
       "topic_15    0.190654\n",
       "topic_13    0.106660\n",
       "topic_1     0.104951\n",
       "topic_3     0.096180\n",
       "topic_10    0.093666\n",
       "Name: www.forbes.com, dtype: float64"
      ]
     },
     "execution_count": 38,
     "metadata": {},
     "output_type": "execute_result"
    }
   ],
   "source": [
    "forbes_top5 = mean_topic_transposed.loc[:,'www.forbes.com'].sort_values(ascending=False)[0:5]\n",
    "forbes_top5"
   ]
  },
  {
   "cell_type": "code",
   "execution_count": 42,
   "id": "049fbfe2",
   "metadata": {},
   "outputs": [
    {
     "name": "stdout",
     "output_type": "stream",
     "text": [
      "\n",
      "Top 5 topics in Forbes:\n",
      "\n",
      "COVID19-ECONOMY, Topic 15: coronavirus pandemic relief federal million business program covid19 house democrats\n",
      "POSTAL VOTING, Topic 13: service postal mail general tax postmaster change dejoy trump president\n",
      "TRUMP-RELATED, Topic 1: state national million department join federal today announce grant community\n",
      "HOLIDAYS, Topic 3: year woman day american black life honor national world country\n",
      "2020 ELECTION, Topic 10: president trump biden joe donald election presidential campaign senate democratic\n",
      "\n"
     ]
    }
   ],
   "source": [
    "print(f\"\"\"\n",
    "Top 5 topics in Forbes:\n",
    "\n",
    "COVID19-ECONOMY, {topics15[14]}\n",
    "POSTAL VOTING, {topics15[12]}\n",
    "TRUMP-RELATED, {topics15[0]}\n",
    "HOLIDAYS, {topics15[2]}\n",
    "2020 ELECTION, {topics15[9]}\n",
    "\"\"\")"
   ]
  },
  {
   "cell_type": "markdown",
   "id": "f8acfd63",
   "metadata": {},
   "source": [
    "Showing the top 5 most prominent topics for CNBC"
   ]
  },
  {
   "cell_type": "code",
   "execution_count": 43,
   "id": "d9d36718",
   "metadata": {},
   "outputs": [
    {
     "data": {
      "text/plain": [
       "topic\n",
       "topic_15    0.274012\n",
       "topic_6     0.235052\n",
       "topic_5     0.121920\n",
       "topic_3     0.084037\n",
       "topic_4     0.056749\n",
       "Name: www.cnbc.com, dtype: float64"
      ]
     },
     "execution_count": 43,
     "metadata": {},
     "output_type": "execute_result"
    }
   ],
   "source": [
    "cnbc_top5 = mean_topic_transposed.loc[:,'www.cnbc.com'].sort_values(ascending=False)[0:5]\n",
    "cnbc_top5"
   ]
  },
  {
   "cell_type": "code",
   "execution_count": 44,
   "id": "2187a03f",
   "metadata": {
    "scrolled": true
   },
   "outputs": [
    {
     "name": "stdout",
     "output_type": "stream",
     "text": [
      "\n",
      "Top 5 topics in CNBC:\n",
      "\n",
      "COVID19-ECONOMY, Topic 15: coronavirus pandemic relief federal million business program covid19 house democrats\n",
      "COVID19-STATUS, Topic 6: coronavirus case covid19 pandemic state report number people million week\n",
      "EDUCATION, Topic 5: school student education child family survey teacher year jones america\n",
      "HOLIDAYS, Topic 3: year woman day american black life honor national world country\n",
      "COVID19-POLICY, Topic 4: health covid19 care coronavirus vaccine test pandemic public find program\n",
      "\n"
     ]
    }
   ],
   "source": [
    "print(f\"\"\"\n",
    "Top 5 topics in CNBC:\n",
    "\n",
    "COVID19-ECONOMY, {topics15[14]}\n",
    "COVID19-STATUS, {topics15[5]}\n",
    "EDUCATION, {topics15[4]}\n",
    "HOLIDAYS, {topics15[2]}\n",
    "COVID19-POLICY, {topics15[3]}\n",
    "\"\"\")"
   ]
  },
  {
   "cell_type": "markdown",
   "id": "3e230ddf",
   "metadata": {},
   "source": [
    "Getting the most distinctive topics of each media outlet. Here I define most distinctive as the difference between the rank/position of a topic in topic distribution for CNBC and the rank/position of the topic in topic distribution for Forbes. Thus, if a given topic appears high in the topic ranking for CNBC but low in the topic ranking for Forbes, that topic is distinctive for CNBC and vice versa."
   ]
  },
  {
   "cell_type": "code",
   "execution_count": 47,
   "id": "0ff12618",
   "metadata": {},
   "outputs": [
    {
     "name": "stdout",
     "output_type": "stream",
     "text": [
      "\n",
      "forbes_distinctive: \n",
      "topic\n",
      "topic_1     7\n",
      "topic_13    7\n",
      "topic_8     3\n",
      "Name: rank, dtype: int64\n",
      "\n",
      "cnbc_distinctive: \n",
      "topic\n",
      "topic_5   -10\n",
      "topic_6    -5\n",
      "topic_4    -3\n",
      "Name: rank, dtype: int64\n",
      "\n"
     ]
    }
   ],
   "source": [
    "# Creating the topic ranking for CNBC\n",
    "cnbc = mean_topic_transposed.copy().sort_values('www.cnbc.com', ascending=False)\n",
    "cnbc['rank'] = range(1,16)\n",
    "cnbc.drop(columns=['www.forbes.com'], inplace=True)\n",
    "\n",
    "# Creating the topic ranking for Forbes\n",
    "forbes = mean_topic_transposed.copy().sort_values('www.forbes.com', ascending=False)\n",
    "forbes['rank'] = range(1,16)\n",
    "forbes.drop(columns=['www.cnbc.com'], inplace=True)\n",
    "\n",
    "# Substracting the two rankings. Topics with positive values after subtraction are distinctive of Forbes, while topics with negative values are distincive of CNBC.\n",
    "most_distinctive = cnbc['rank'] - forbes['rank']\n",
    "\n",
    "# printing the distinctive topics\n",
    "print(f\"\"\"\n",
    "forbes_distinctive: \n",
    "{most_distinctive.sort_values(ascending=False)[0:3]}\n",
    "\n",
    "cnbc_distinctive: \n",
    "{most_distinctive.sort_values(ascending=True)[0:3]}\n",
    "\"\"\")"
   ]
  },
  {
   "cell_type": "markdown",
   "id": "49811077",
   "metadata": {},
   "source": [
    "## 4. Interpretation and discussion <a class=\"anchor\" id=\"fourth-section\"></a>"
   ]
  },
  {
   "cell_type": "markdown",
   "id": "990001c5",
   "metadata": {},
   "source": [
    "It is not surprising that the most prominent topic in the tweets referencing both news media is COVID19-ECONOMY as both news outlets cover themes around business, financial markets and the economy. Moreover, the topic HOLIDAYS also appears in the top 5 topics of both news media. This may be due to the increased business activity surrounding holidays and the high importance of these days for companies and the markets.\n",
    "\n",
    "What we can see from comparing the top 5 topics in each news media is that tweets referencing Forbes appear to be much more politically-oriented, due to the presence of topics such as “POSTAL-VOTING”, “2020 ELECTIONS” and “TRUMP-RELATED”. It may seem strange that all three COVID19-related topics appear in the top 5 for CNBC, however, it is important to remember that the COVID19 pandemic plays a major role in business activity and the economy. Thus, we can say that while tweets referencing Forbes are more politically-oriented and thematically diverse, tweets referencing CNBC are much more centered around the network’s core themes of business, financial markets and the economy.\n",
    "\n",
    "If we shift our focus from the most prominent topics to the most distinctive topics (defined as the difference in ranks), we see similar patterns. The top 3 most distinctive topics for Forbes are POSTAL VOTING, NEWS and the uninterpretable first topic, while CNBC’s most distinctive topics are EDUCATION, COVID19-STATUS and COVID19-ECONOMY. This further enforces the finding that tweets referencing Forbes are more thematically diverse.\n",
    "It is unclear whether this these contrasts reflect differences in the topics covered by the two networks or differences in the framing of tweets referencing the two networks. Further research is thus warranted.\n"
   ]
  }
 ],
 "metadata": {
  "kernelspec": {
   "display_name": "Python 3 (ipykernel)",
   "language": "python",
   "name": "python3"
  },
  "language_info": {
   "codemirror_mode": {
    "name": "ipython",
    "version": 3
   },
   "file_extension": ".py",
   "mimetype": "text/x-python",
   "name": "python",
   "nbconvert_exporter": "python",
   "pygments_lexer": "ipython3",
   "version": "3.8.11"
  }
 },
 "nbformat": 4,
 "nbformat_minor": 5
}
